{
 "cells": [
  {
   "cell_type": "code",
   "execution_count": null,
   "metadata": {},
   "outputs": [],
   "source": []
  },
  {
   "cell_type": "markdown",
   "metadata": {},
   "source": [
    "- 1) 멕시코(Mexico)보다인구가많은나라이름과인구수를조회하시고인구수순으로내림차순하세요\n",
    "```\n",
    "select name population\n",
    "where population >\n",
    "(\n",
    "select population\n",
    "from Population \n",
    "where name = \"Mexico\")\n",
    "```"
   ]
  },
  {
   "cell_type": "markdown",
   "metadata": {},
   "source": [
    "- 2) 국가별몇개의도시가있는지조회하고도시수순으로 10위까지내림차순하세요"
   ]
  },
  {
   "cell_type": "markdown",
   "metadata": {},
   "source": [
    "```\n",
    "select country.name, count(country.name) as count\n",
    "from city\n",
    "join country\n",
    "ON city.countrycode = country.code \n",
    "group by country.name\n",
    "order by count desc\n",
    "```"
   ]
  },
  {
   "cell_type": "markdown",
   "metadata": {},
   "source": [
    "\n",
    "```\n",
    "select country.name, country.population, cl.language, cl.Percentage\n",
    ",round(country.population * cl.Percentage * 0.01)\n",
    "from country\n",
    "join countrylanguage as cl\n",
    "ON cl.countrycode = country.code\n",
    "```"
   ]
  }
 ],
 "metadata": {
  "kernelspec": {
   "display_name": "Python 3",
   "language": "python",
   "name": "python3"
  },
  "language_info": {
   "codemirror_mode": {
    "name": "ipython",
    "version": 3
   },
   "file_extension": ".py",
   "mimetype": "text/x-python",
   "name": "python",
   "nbconvert_exporter": "python",
   "pygments_lexer": "ipython3",
   "version": "3.6.4"
  }
 },
 "nbformat": 4,
 "nbformat_minor": 2
}
