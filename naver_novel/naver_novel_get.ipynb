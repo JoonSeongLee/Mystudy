{
 "cells": [
  {
   "cell_type": "code",
   "execution_count": 4,
   "metadata": {},
   "outputs": [],
   "source": [
    "from selenium import webdriver\n",
    "import time"
   ]
  },
  {
   "cell_type": "code",
   "execution_count": 5,
   "metadata": {},
   "outputs": [],
   "source": [
    "driver = webdriver.Chrome()\n",
    "driver.get(\"http://m.novel.naver.com/ncomment/ncommentList.nhn?novelId=390149&volumeNo=324&section=webnovel\")\n",
    "driver.find_element_by_xpath(\n",
    "   '//*[@id=\"eventLayer\"]/div/div/a[3]'\n",
    "    ).click() # 버튼클릭하기\n"
   ]
  },
  {
   "cell_type": "code",
   "execution_count": 6,
   "metadata": {},
   "outputs": [],
   "source": [
    "found = True\n",
    "while found : # 더보기 계속 누르기\n",
    "    try:\n",
    "        driver.find_element_by_xpath('//*[@id=\"cbox_module\"]/div/div[5]/a/span/span/span[1]').click() # 버튼클릭하기\n",
    "        addview = driver.find_element_by_css_selector(\"#ct .u_cbox_paginate .u_cbox_page_more\")  \n",
    "    except Exception:\n",
    "        if addview.is_displayed():\n",
    "            found = True\n",
    "        else:\n",
    "            found = False\n",
    "        "
   ]
  },
  {
   "cell_type": "code",
   "execution_count": 7,
   "metadata": {},
   "outputs": [],
   "source": [
    "comments = driver.find_elements_by_css_selector('#ct .u_cbox_comment_box .u_cbox_nick_area')"
   ]
  },
  {
   "cell_type": "code",
   "execution_count": 8,
   "metadata": {},
   "outputs": [],
   "source": [
    "user_list = []\n",
    "for comment in comments:\n",
    "    user = comment.find_element_by_css_selector('.u_cbox_nick').text\n",
    "    user_list.append(user)"
   ]
  },
  {
   "cell_type": "code",
   "execution_count": 9,
   "metadata": {
    "scrolled": true
   },
   "outputs": [
    {
     "data": {
      "text/plain": [
       "['정여사',\n",
       " '맑고푸르른바람',\n",
       " '도깨비',\n",
       " '지기',\n",
       " '벙구',\n",
       " 'Elie',\n",
       " '짱쇠',\n",
       " '김용우',\n",
       " '서은산',\n",
       " '태윤아빠',\n",
       " '신',\n",
       " '보리문디',\n",
       " '가을새',\n",
       " '대충대충',\n",
       " '레드',\n",
       " '아카시아',\n",
       " 'oaoo****',\n",
       " '큰돌',\n",
       " 'didtpqlrk',\n",
       " '빈우산',\n",
       " 'Lev',\n",
       " '개나리',\n",
       " '바보3',\n",
       " '슈리아',\n",
       " '강아지',\n",
       " 'qoq1****',\n",
       " '호둣골살다',\n",
       " '장경악',\n",
       " '꿀물',\n",
       " '루시퍼 우현',\n",
       " '슈크림',\n",
       " '포기하면편해',\n",
       " '숲길산책',\n",
       " 'duse****',\n",
       " '김종섭',\n",
       " 'vhej****',\n",
       " '땡마이',\n",
       " '감초',\n",
       " 'syb7****']"
      ]
     },
     "execution_count": 9,
     "metadata": {},
     "output_type": "execute_result"
    }
   ],
   "source": [
    "user_list"
   ]
  },
  {
   "cell_type": "code",
   "execution_count": null,
   "metadata": {},
   "outputs": [],
   "source": []
  },
  {
   "cell_type": "code",
   "execution_count": 40,
   "metadata": {},
   "outputs": [],
   "source": [
    "def get_naveruser(url, user_list):\n",
    "    driver = webdriver.Chrome()\n",
    "    driver.get(url)\n",
    "    driver.find_element_by_xpath(\n",
    "       '//*[@id=\"eventLayer\"]/div/div/a[3]'\n",
    "        ).click() # 버튼클릭하기\n",
    "    \n",
    "    found = True\n",
    "    while found : # 더보기 계속 누르기\n",
    "        try:\n",
    "            driver.find_element_by_xpath('//*[@id=\"cbox_module\"]/div/div[5]/a/span/span/span[1]').click() # 버튼클릭하기\n",
    "            addview = driver.find_element_by_css_selector(\"#ct .u_cbox_paginate .u_cbox_page_more\")  \n",
    "        except Exception:\n",
    "            if addview.is_displayed():\n",
    "                found = True\n",
    "            else:\n",
    "                found = False\n",
    "    #user 가져오기\n",
    "    comments = driver.find_elements_by_css_selector('#ct .u_cbox_comment_box .u_cbox_nick_area')\n",
    "    for comment in comments:\n",
    "        user = comment.find_element_by_css_selector('.u_cbox_nick').text\n",
    "        user_list.append(user)\n",
    "    driver.close()\n",
    "    return user_list"
   ]
  },
  {
   "cell_type": "code",
   "execution_count": 50,
   "metadata": {},
   "outputs": [],
   "source": [
    "a = []\n",
    "for i in range(1,3+1):\n",
    "    url = 'http://m.novel.naver.com/ncomment/ncommentList.nhn?novelId=673009&volumeNo={}&section=webnovel'.format(i)\n",
    "\n",
    "    get_naveruser(url, a)"
   ]
  },
  {
   "cell_type": "code",
   "execution_count": 53,
   "metadata": {},
   "outputs": [
    {
     "data": {
      "text/plain": [
       "471"
      ]
     },
     "execution_count": 53,
     "metadata": {},
     "output_type": "execute_result"
    }
   ],
   "source": [
    "len(a)"
   ]
  },
  {
   "cell_type": "code",
   "execution_count": 52,
   "metadata": {},
   "outputs": [
    {
     "data": {
      "text/plain": [
       "333"
      ]
     },
     "execution_count": 52,
     "metadata": {},
     "output_type": "execute_result"
    }
   ],
   "source": [
    "len(set(a))"
   ]
  },
  {
   "cell_type": "code",
   "execution_count": null,
   "metadata": {},
   "outputs": [],
   "source": []
  }
 ],
 "metadata": {
  "kernelspec": {
   "display_name": "Python 3",
   "language": "python",
   "name": "python3"
  },
  "language_info": {
   "codemirror_mode": {
    "name": "ipython",
    "version": 3
   },
   "file_extension": ".py",
   "mimetype": "text/x-python",
   "name": "python",
   "nbconvert_exporter": "python",
   "pygments_lexer": "ipython3",
   "version": "3.6.4"
  }
 },
 "nbformat": 4,
 "nbformat_minor": 2
}
