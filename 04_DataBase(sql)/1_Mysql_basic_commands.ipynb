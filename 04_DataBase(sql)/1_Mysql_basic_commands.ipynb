{
 "cells": [
  {
   "cell_type": "markdown",
   "metadata": {},
   "source": [
    "## 1. System\n",
    "\n",
    "- mysql 명령어 리스트를 확인\n",
    "\n",
    "> mysql> help\n",
    "\n",
    "- 현재 상태 보기\n",
    "\n",
    "> mysql> status\n",
    "\n",
    "- mysql 접속 종료하기\n",
    "\n",
    "> mysql> exit\n",
    "> mysql> quit\n",
    "\n",
    "- pasword 변경하기\n",
    "\n",
    "> mysql> ALTER USER 'root'@'localhost' IDENTIFIED BY 'qwer1234'\n",
    "\n",
    "## 2. Database\n",
    "\n",
    "- DB 목록 보기\n",
    "\n",
    "> mysql> show databases;\n",
    "\n",
    "- DB 만들기\n",
    "\n",
    "> mysql> create database test;\n",
    "\n",
    "- DB 접속하기\n",
    "\n",
    "> mysql> use test;\n",
    "\n",
    "- 현재 접속중인 DB 확인하기\n",
    "\n",
    "> mysql> select database();\n",
    "\n",
    "- DB 지우기\n",
    "\n",
    "> mysql> drop database test;\n",
    "\n",
    "> mysql> show databases; # DB 삭제된것 확인\n",
    "\n",
    "## 3. Table\n",
    "\n",
    "- 테이블 만들기\n",
    "\n",
    "- 문자열 name 20자, age 숫자 3자 컬럼이 있는 테이블이 생성\n",
    "\n",
    "> mysql> create table user ( name char(20), age int(3) );\n",
    "\n",
    "- 테이블 목록 확인\n",
    "\n",
    "> mysql> show tables;\n",
    "\n",
    "- 테이블 구조 확인\n",
    "\n",
    "> mysql> desc user;\n",
    "\n",
    "> mysql> describe user;\n",
    "\n",
    "> mysql> explain user;\n",
    "\n",
    "- 테이블 이름 바꾸기\n",
    "\n",
    "> mysql> rename table user to dss;\n",
    "\n",
    "> mysql> show tables; # 테이블 이름 바뀐것 확인\n",
    "\n",
    "\n",
    "\n",
    "- 테이블에 데이터 추가하기\n",
    "\n",
    "> mysql> insert into dss(name, age) values(\"alice\", 23);\n",
    "\n",
    "> mysql> insert into dss(name, age) values(\"peter\", 30);\n",
    "\n",
    "- 추가된 데이터 확인하기\n",
    "\n",
    "> mysql> select * from dss;\n",
    "\n",
    "- 테이블 지우기\n",
    "\n",
    "> mysql> drop table dss;\n",
    "\n",
    "> mysql> show tables; # 테이블 삭제된것 확인\n"
   ]
  },
  {
   "cell_type": "markdown",
   "metadata": {},
   "source": [
    "# Install Database Management Application "
   ]
  },
  {
   "cell_type": "markdown",
   "metadata": {},
   "source": [
    "Install sequelPro\n",
    "- https://www.sequelpro.com/\n",
    "\n",
    "로컬은 물론 우분투서버에서도 sql을 다루는 management 프로그램"
   ]
  },
  {
   "cell_type": "markdown",
   "metadata": {},
   "source": [
    "(ubuntu)\n",
    "\n",
    "improt sql file\n",
    "\n",
    "$ mysql -u root -p world < world.sql\n",
    "\n",
    "\n",
    "우선 사이버덕으로 sql 파일을 우분투 서버에 옮긴후 \n",
    "\n",
    "서버의 로컬에 있는 그 sql 파일을 mysql에 넣는다."
   ]
  },
  {
   "cell_type": "code",
   "execution_count": null,
   "metadata": {},
   "outputs": [],
   "source": []
  }
 ],
 "metadata": {
  "kernelspec": {
   "display_name": "Python 3",
   "language": "python",
   "name": "python3"
  },
  "language_info": {
   "codemirror_mode": {
    "name": "ipython",
    "version": 3
   },
   "file_extension": ".py",
   "mimetype": "text/x-python",
   "name": "python",
   "nbconvert_exporter": "python",
   "pygments_lexer": "ipython3",
   "version": "3.6.4"
  }
 },
 "nbformat": 4,
 "nbformat_minor": 2
}
