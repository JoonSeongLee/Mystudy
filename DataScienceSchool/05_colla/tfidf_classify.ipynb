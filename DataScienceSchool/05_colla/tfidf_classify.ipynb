{
 "cells": [
  {
   "cell_type": "code",
   "execution_count": 45,
   "metadata": {},
   "outputs": [],
   "source": [
    "from sklearn.feature_extraction.text import CountVectorizer, TfidfVectorizer, HashingVectorizer\n",
    "from sklearn.model_selection import train_test_split\n",
    "from sklearn.naive_bayes import MultinomialNB\n",
    "from sklearn.pipeline import Pipeline\n",
    "from konlpy.tag import Twitter\n",
    "\n",
    "import pandas as pd\n",
    "import pickle\n"
   ]
  },
  {
   "cell_type": "markdown",
   "metadata": {},
   "source": [
    "#### Load Dataset\n",
    "    0: 정치 , 1: 경제, 2: 사회, 3: 생활/문화, 4: 세계, 5: IT/과학"
   ]
  },
  {
   "cell_type": "code",
   "execution_count": 46,
   "metadata": {},
   "outputs": [
    {
     "name": "stdout",
     "output_type": "stream",
     "text": [
      "2327\n"
     ]
    },
    {
     "data": {
      "text/html": [
       "<div>\n",
       "<style scoped>\n",
       "    .dataframe tbody tr th:only-of-type {\n",
       "        vertical-align: middle;\n",
       "    }\n",
       "\n",
       "    .dataframe tbody tr th {\n",
       "        vertical-align: top;\n",
       "    }\n",
       "\n",
       "    .dataframe thead th {\n",
       "        text-align: right;\n",
       "    }\n",
       "</style>\n",
       "<table border=\"1\" class=\"dataframe\">\n",
       "  <thead>\n",
       "    <tr style=\"text-align: right;\">\n",
       "      <th></th>\n",
       "      <th>newsid</th>\n",
       "      <th>oid</th>\n",
       "      <th>newspaper</th>\n",
       "      <th>title</th>\n",
       "      <th>link</th>\n",
       "      <th>comment</th>\n",
       "      <th>likeit</th>\n",
       "      <th>content</th>\n",
       "      <th>date</th>\n",
       "      <th>category</th>\n",
       "    </tr>\n",
       "  </thead>\n",
       "  <tbody>\n",
       "    <tr>\n",
       "      <th>2322</th>\n",
       "      <td>2976863</td>\n",
       "      <td>20</td>\n",
       "      <td>동아일보</td>\n",
       "      <td>中, 원자재서 첨단기술로 ‘사냥 타깃’ 이동… 한국은 제자리</td>\n",
       "      <td>http://news.naver.com/main/read.nhn?mode=LSD&amp;m...</td>\n",
       "      <td>5</td>\n",
       "      <td>4</td>\n",
       "      <td>[동아일보][미래산업 먹어치우는 중국]슈퍼 포식자 중국美 로봇업체 인수… 獨기업 눈...</td>\n",
       "      <td>2016-06-01</td>\n",
       "      <td>5</td>\n",
       "    </tr>\n",
       "    <tr>\n",
       "      <th>2323</th>\n",
       "      <td>2976847</td>\n",
       "      <td>20</td>\n",
       "      <td>동아일보</td>\n",
       "      <td>\"왓슨 한국어 배우는 중… 연내 데뷔 가능\"</td>\n",
       "      <td>http://news.naver.com/main/read.nhn?mode=LSD&amp;m...</td>\n",
       "      <td>1</td>\n",
       "      <td>4</td>\n",
       "      <td>[동아일보][2016 동아 국제금융 포럼]‘AI 전문가’ 메네제스 IBM 부사장“A...</td>\n",
       "      <td>2016-06-01</td>\n",
       "      <td>5</td>\n",
       "    </tr>\n",
       "    <tr>\n",
       "      <th>2324</th>\n",
       "      <td>3179706</td>\n",
       "      <td>23</td>\n",
       "      <td>조선일보</td>\n",
       "      <td>[어수웅의 르네상스人] 종이 사전을 삼킨 남자, &amp;#39;웹 사전&amp;#39;을 낳다</td>\n",
       "      <td>http://news.naver.com/main/read.nhn?mode=LSD&amp;m...</td>\n",
       "      <td>0</td>\n",
       "      <td>2</td>\n",
       "      <td>[정철 카카오 웹 사전 기획자] 책 '검색, 사전을 삼키다' 펴내… 연세대에서 사전...</td>\n",
       "      <td>2016-06-01</td>\n",
       "      <td>5</td>\n",
       "    </tr>\n",
       "    <tr>\n",
       "      <th>2325</th>\n",
       "      <td>2976797</td>\n",
       "      <td>20</td>\n",
       "      <td>동아일보</td>\n",
       "      <td>中, M&amp;A로 특허 포식… 한국 미래산업 삼킨다</td>\n",
       "      <td>http://news.naver.com/main/read.nhn?mode=LSD&amp;m...</td>\n",
       "      <td>13</td>\n",
       "      <td>9</td>\n",
       "      <td>[동아일보]中, 로봇-IoT-바이오 등 M&amp;A; 규모… 올해 5월에 이미 작년 기록...</td>\n",
       "      <td>2016-06-01</td>\n",
       "      <td>5</td>\n",
       "    </tr>\n",
       "    <tr>\n",
       "      <th>2326</th>\n",
       "      <td>2620983</td>\n",
       "      <td>25</td>\n",
       "      <td>중앙일보</td>\n",
       "      <td>구글·애플 대항마…토종 앱 장터 원스토어 떴다</td>\n",
       "      <td>http://news.naver.com/main/read.nhn?mode=LSD&amp;m...</td>\n",
       "      <td>123</td>\n",
       "      <td>9</td>\n",
       "      <td>이통 3사, 네이버 손잡고 시장 40% 점유 목표| 양강 구도에 도전장…앱 생태계 ...</td>\n",
       "      <td>2016-06-01</td>\n",
       "      <td>5</td>\n",
       "    </tr>\n",
       "  </tbody>\n",
       "</table>\n",
       "</div>"
      ],
      "text/plain": [
       "       newsid  oid newspaper                                          title  \\\n",
       "2322  2976863   20      동아일보              中, 원자재서 첨단기술로 ‘사냥 타깃’ 이동… 한국은 제자리   \n",
       "2323  2976847   20      동아일보                       \"왓슨 한국어 배우는 중… 연내 데뷔 가능\"   \n",
       "2324  3179706   23      조선일보  [어수웅의 르네상스人] 종이 사전을 삼킨 남자, &#39;웹 사전&#39;을 낳다   \n",
       "2325  2976797   20      동아일보                     中, M&A로 특허 포식… 한국 미래산업 삼킨다   \n",
       "2326  2620983   25      중앙일보                      구글·애플 대항마…토종 앱 장터 원스토어 떴다   \n",
       "\n",
       "                                                   link  comment  likeit  \\\n",
       "2322  http://news.naver.com/main/read.nhn?mode=LSD&m...        5       4   \n",
       "2323  http://news.naver.com/main/read.nhn?mode=LSD&m...        1       4   \n",
       "2324  http://news.naver.com/main/read.nhn?mode=LSD&m...        0       2   \n",
       "2325  http://news.naver.com/main/read.nhn?mode=LSD&m...       13       9   \n",
       "2326  http://news.naver.com/main/read.nhn?mode=LSD&m...      123       9   \n",
       "\n",
       "                                                content        date  category  \n",
       "2322  [동아일보][미래산업 먹어치우는 중국]슈퍼 포식자 중국美 로봇업체 인수… 獨기업 눈...  2016-06-01         5  \n",
       "2323  [동아일보][2016 동아 국제금융 포럼]‘AI 전문가’ 메네제스 IBM 부사장“A...  2016-06-01         5  \n",
       "2324  [정철 카카오 웹 사전 기획자] 책 '검색, 사전을 삼키다' 펴내… 연세대에서 사전...  2016-06-01         5  \n",
       "2325  [동아일보]中, 로봇-IoT-바이오 등 M&A; 규모… 올해 5월에 이미 작년 기록...  2016-06-01         5  \n",
       "2326  이통 3사, 네이버 손잡고 시장 40% 점유 목표| 양강 구도에 도전장…앱 생태계 ...  2016-06-01         5  "
      ]
     },
     "execution_count": 46,
     "metadata": {},
     "output_type": "execute_result"
    }
   ],
   "source": [
    "article_df = pd.read_pickle(\"article_2016-06-01.plk\")\n",
    "print(len(article_df))\n",
    "article_df.tail()"
   ]
  },
  {
   "cell_type": "markdown",
   "metadata": {},
   "source": [
    "#### Split Train, Test"
   ]
  },
  {
   "cell_type": "code",
   "execution_count": 47,
   "metadata": {},
   "outputs": [
    {
     "data": {
      "text/plain": [
       "array([1.        , 1.40546511, 1.40546511, 1.        , 1.        ])"
      ]
     },
     "execution_count": 47,
     "metadata": {},
     "output_type": "execute_result"
    }
   ],
   "source": [
    "from sklearn.feature_extraction.text import TfidfVectorizer\n",
    "corpus = [\"This is very strange\",\n",
    "          \"This is very nice\"]\n",
    "vectorizer = TfidfVectorizer(min_df=1)\n",
    "X = vectorizer.fit_transform(corpus)\n",
    "idf = vectorizer.idf_\n",
    "idf"
   ]
  },
  {
   "cell_type": "code",
   "execution_count": 48,
   "metadata": {},
   "outputs": [],
   "source": [
    "X_train, X_test, y_train, y_test = train_test_split(article_df.content, article_df.category, \\\n",
    "                                                    test_size = 0.1, random_state =1)\n",
    "#10%를 테스트로\n"
   ]
  },
  {
   "cell_type": "code",
   "execution_count": 53,
   "metadata": {},
   "outputs": [],
   "source": [
    "a = Pipeline([\n",
    "    ('vect', TfidfVectorizer()),\n",
    "    ('clf', MultinomialNB(alpha=0.01)) # alpha -> 스무딩\n",
    "])\n",
    "model = a.fit(X_train, y_train)"
   ]
  },
  {
   "cell_type": "code",
   "execution_count": 50,
   "metadata": {},
   "outputs": [
    {
     "data": {
      "text/plain": [
       "579     인천 송도 삼성바이오로직스 현장을 가다“삼성이 처음 핸드폰 사업을 시작할 때 망치로...\n",
       "1355    [구의역 사고를 보며] 청년을 위한 나라는 없다 [ 주동식 지역평등시민연대 대표] ...\n",
       "47       [한겨레] 구의역·남양주 사고에 입법대책 분주더민주, 직접 고용법 제정안 발의국민...\n",
       "1118    김종인 롯데마트 대표이사가 지난 4월 18일 오전 서울 중구 롯데호텔에서 열린 '가...\n",
       "614     [서울신문]자동차 연료 따라 보험료 차등화… LPG·하이브리드는 더 오를 듯보험업계...\n",
       "108     [앵커] 잇따른 미사일 시험발사 실패로 체면을 구긴 북한이 자신들이 성공했다고 주장...\n",
       "6        [한겨레] 3년여 만에 북 고위급 면담“지역 평화안정 보호하길” 역설리수용, 김정...\n",
       "2275    [머니투데이 김희정 기자] [옥타코어 프로세서로 속도 향상… 후면카메라 1600만 ...\n",
       "1179        (수원=연합뉴스) 최찬흥 기자 = 경기도가 남양주 진접선 지하철 공사현장 폭...\n",
       "2317    - 가격은 기존 대리운전 업체보다 비싸지만 편의성·안전성↑- 소속 대리운전 기사 만...\n",
       "2121    BBC 사진 캡처웨스트미들랜드 스탠퍼드카운티대, 도자기 270점 소장    (서울=...\n",
       "576     신도시·택지지구 공급물량 완판 행진서울 도심권에 비해 높은 수익률 기대김포한강·동탄...\n",
       "644     <아이뉴스24>[김두탁기자] 10년 이상 경력직 채용 희망기업을 조사한 결과, 연봉...\n",
       "17      북한 손 들어줄까 내심 우려 “비핵화 없인 국면 변화 난망…김정은 방중도 어려울 것...\n",
       "2095    중국 인권 사이트 웨이취안왕(維權網) 사진 캡처    (서울=연합뉴스) 조성대 기자...\n",
       "1163    불용재고의약품 문제를 놓고 추무진 대한의사협회장과 조찬휘 대한약사회장이 설전을 벌였...\n",
       "403     ㆍ새누리당 김종석 당선인, 평생직장에서 평생고용으로 전환 강조김종석 당선자는? 프린...\n",
       "1868    자전거 퍼레이드 행사 구간[서울시 제공]    (서울=연합뉴스) 최윤정 기자 = 광...\n",
       "65      시진핑 중국 국가주석© AFP=뉴스1 © News1시진핑, 北 리수용 면담…\"중북 ...\n",
       "1070    ㆍ취약지역 CCTV 확대·고위험 정신질환자 응급입원ㆍ여성계 “정부 대책 미흡…성폭력...\n",
       "1077    <앵커 멘트> 표현의 자유를  용인하는 우리사회의 수준이 어느 정도인지  서울의 한...\n",
       "1265    4차 회의 끝에 직권면직…전국 35명 중 마지막【광주=뉴시스】송창헌 기자 = 전국교...\n",
       "632     삼성전자(005930)코스피 대장주인 삼성전자가 연중 최고가를 경신했다.1일 유가증...\n",
       "464     [연합뉴스 자료사진]시민단체, 서울시 등 지자체 15곳 권익위에 \"부패행위\" 신고 ...\n",
       "2264    심태보 KIST 센터장작년 허가받은 신약만 5개거대 제약사 탄생도 가능서울 성북구 ...\n",
       "304     【춘천=뉴시스】박혜미 기자 = 과로로 숨진 육군 간부의 유가족들이 국가유공자로 인정...\n",
       "959      [연합뉴스자료사진]넉 달만에 0%대로 내려…햇채소 출하로 신선식품지수 상승세 둔화...\n",
       "486     【서울=뉴시스】유세진 기자 = 북한 관영 매체 '조선의 오늘'(DPRK Today)...\n",
       "1233    【대전=뉴시스】유순상 기자 = 대전시교육청이 신규교사 채용 비리 '의혹'을 받고 있...\n",
       "1953    가수 권성희(62·사진)씨가 회장을 맡고 있는 한국연예인한마음회가 1일 오전 10시...\n",
       "                              ...                        \n",
       "1647    함께 발맞추어 뛴다는 의미를 몸소 실천하는 사람들이 있습니다. 시각장애인들을 위해 ...\n",
       "1946    한승원 소설가 장흥서 마을잔치한국인 최초로 맨부커상을 받은 소설가 한강(46)씨의 ...\n",
       "1592    [앵커]조업중이던 어선이 전복됐지만, 다행히 선원 8명은 모두 구조됐습니다. 전국 ...\n",
       "1412    © News1 방은영 디자이너(광주=뉴스1) 신채린 기자 = 퇴근해 귀가하던 30대...\n",
       "1673    [작년 검사실서 브로커 만나고 회사 업무까지… 검사·수사관 10여명 수사] - 검찰...\n",
       "2157    아베 신조(安倍晋三) 일본 총리가 내년 4월로 예정된 소비세율 인상(8→10%) 계...\n",
       "1427    서울대학교 법학전문대학원(로스쿨) 학생이 수강신청을 위해 다른 학생의 아이디를 도용...\n",
       "1786    압수 차량 살펴보는 검찰    (평택=연합뉴스) 홍기원 기자 = 폴크스바겐 배출가스...\n",
       "1281    \"자회사 통한 관리업무 직접통제\" vs. 노조 \"무늬만 다른 용역업체\" [여정민 기...\n",
       "1314    서울시, 설립동의안 시의회 제출…자본금 15억원    (서울=연합뉴스) 이태수 기자...\n",
       "2261    [디지털데일리 최민지 기자] 이제 의료 및 교육기관도 정보보호 인증을 의무화해야 한...\n",
       "1489    [CBS노컷뉴스 김정훈 기자]31일 오후 서울 광진구 구의역에 스크린도어 정비 작업...\n",
       "589      [한겨레] 회사채 협상 성공…용선료 조정 남아사채권자, 채무 절반 출자전환 ‘손실...\n",
       "1318    '옥시 끝' 불매운동 성공 선언 (서울=연합뉴스) 이대희 기자 = 시민사회단체 회원...\n",
       "708     생보사 \"대법 판결 전엔 시효 지난 보험금 못준다\"제재 감수하면서까지 지급 거부소멸...\n",
       "1252    '구의역 사고, 계속되는 추모 물결'    (서울=연합뉴스) 진연수 기자 = 1일 ...\n",
       "1082    <앵커 멘트>경기도 남양주의  지하철 공사 현장에서  가스 폭발사고가 일어나 근로자...\n",
       "788     한·미 자유무역협정(FTA)이 발효된 2012년 이후 한국의 대미(對美) 무역 흑자...\n",
       "314     \"복당, 협상에 도움 안돼…국회의장은 관례상 여당 몫\"    (서울=연합뉴스) 이신...\n",
       "1726    여름의 초입에 들어선 요즘, 기온이 올라감에 따라 식중독 위험도 나날이 높아지고 있...\n",
       "1408    원인 미상의 가스 폭발…중상자 3명, 전신 2~3도 화상[CBS노컷뉴스 고무성·구민...\n",
       "839     【서울=뉴시스】이재준 기자 = 중국인민은행은 1일 위안화 거래 기준치를 1달러=6....\n",
       "1504    【서울=뉴시스】류난영 기자 = 식품의약품안전처는 고속도로 휴게소 등 다중이용시설과 ...\n",
       "2246    업계 \"가능한 부분부터 순차 적용\", 방통위 \"적절한 시기에 점검\" '게시물 작성자...\n",
       "1086    옥시측으로부터 청탁을 받고 가습기 살균제 흡입독성 실험을 조작했다는 혐의를 받고 있...\n",
       "1231    어제 홍익대학교 정문에 설치된 이 손가락 모양의 조각상이 큰 논란을 불러왔습니다. ...\n",
       "705     (제공=기획재정부)© News1 방은영 디자이너2016 OECD 경제전망…\"올해 韓...\n",
       "348     계속되는 사건·사고, 굳은 표정의 총리    (서울=연합뉴스) 이진욱 기자 = 1일...\n",
       "2266    [아시아경제 강희종 기자]방송 3사가 초고화질(UHD) 본방송을 시작하면서 홈포털을...\n",
       "2023    팔루자 남부에서 진입을 준비하는 이라크 군 (AP=연합뉴스)영국 언론 \"최후 예감한...\n",
       "Name: content, Length: 233, dtype: object"
      ]
     },
     "execution_count": 50,
     "metadata": {},
     "output_type": "execute_result"
    }
   ],
   "source": [
    "X_test"
   ]
  },
  {
   "cell_type": "code",
   "execution_count": 51,
   "metadata": {},
   "outputs": [],
   "source": [
    "vect = TfidfVectorizer()\n",
    "vect.fit(X_train)\n",
    "obj = vect.transform(X_train)"
   ]
  },
  {
   "cell_type": "code",
   "execution_count": 52,
   "metadata": {},
   "outputs": [],
   "source": [
    "model = MultinomialNB(alpha=0.01).fit(obj, y_train)"
   ]
  },
  {
   "cell_type": "markdown",
   "metadata": {},
   "source": [
    "#### Confusion Matrix, Classification Report"
   ]
  },
  {
   "cell_type": "code",
   "execution_count": 54,
   "metadata": {},
   "outputs": [],
   "source": [
    "from sklearn.metrics import confusion_matrix, classification_report "
   ]
  },
  {
   "cell_type": "code",
   "execution_count": 55,
   "metadata": {},
   "outputs": [],
   "source": [
    "objtest = vect.transform(X_test)\n",
    "y_pred = model.predict(X_test)\n"
   ]
  },
  {
   "cell_type": "code",
   "execution_count": 56,
   "metadata": {},
   "outputs": [
    {
     "data": {
      "text/plain": [
       "array([1, 2, 0, 2, 3, 0, 0, 5, 2, 5, 2, 1, 1, 0, 2, 2, 0, 2, 0, 2, 2, 2,\n",
       "       1, 2, 5, 2, 1, 4, 2, 3, 2, 1, 2, 2, 0, 2, 2, 2, 0, 2, 1, 1, 2, 0,\n",
       "       0, 0, 0, 4, 2, 2, 1, 3, 3, 4, 1, 4, 4, 2, 0, 2, 2, 0, 2, 2, 3, 4,\n",
       "       0, 2, 0, 1, 0, 0, 4, 1, 3, 0, 0, 0, 2, 4, 0, 4, 3, 0, 1, 4, 5, 2,\n",
       "       4, 3, 3, 5, 2, 0, 1, 5, 2, 1, 0, 2, 1, 1, 3, 2, 0, 2, 2, 2, 4, 4,\n",
       "       2, 2, 0, 4, 1, 5, 5, 1, 2, 3, 2, 4, 2, 2, 2, 1, 4, 2, 4, 2, 2, 2,\n",
       "       4, 3, 3, 0, 1, 2, 2, 3, 2, 0, 2, 1, 2, 2, 0, 1, 0, 0, 4, 0, 3, 1,\n",
       "       4, 2, 4, 4, 0, 2, 2, 3, 1, 2, 5, 0, 0, 1, 4, 2, 0, 3, 2, 3, 0, 3,\n",
       "       1, 0, 2, 3, 1, 0, 3, 2, 2, 1, 2, 4, 1, 5, 4, 0, 2, 1, 2, 3, 2, 4,\n",
       "       1, 2, 0, 0, 3, 2, 3, 2, 2, 2, 4, 2, 3, 2, 2, 5, 2, 1, 2, 1, 2, 2,\n",
       "       1, 0, 3, 2, 1, 2, 5, 2, 2, 1, 2, 5, 4])"
      ]
     },
     "execution_count": 56,
     "metadata": {},
     "output_type": "execute_result"
    }
   ],
   "source": [
    "y_pred"
   ]
  },
  {
   "cell_type": "code",
   "execution_count": 57,
   "metadata": {},
   "outputs": [
    {
     "data": {
      "text/plain": [
       "<233x136803 sparse matrix of type '<class 'numpy.float64'>'\n",
       "\twith 43709 stored elements in Compressed Sparse Row format>"
      ]
     },
     "execution_count": 57,
     "metadata": {},
     "output_type": "execute_result"
    }
   ],
   "source": [
    "objtest"
   ]
  },
  {
   "cell_type": "code",
   "execution_count": 58,
   "metadata": {},
   "outputs": [
    {
     "data": {
      "text/plain": [
       "array([[41,  0,  3,  1,  1,  0],\n",
       "       [ 1, 33,  0,  5,  1,  1],\n",
       "       [ 1,  2, 77,  2,  1,  0],\n",
       "       [ 0,  0,  2, 18,  0,  1],\n",
       "       [ 1,  1,  2,  0, 25,  0],\n",
       "       [ 0,  1,  1,  0,  0, 11]])"
      ]
     },
     "execution_count": 58,
     "metadata": {},
     "output_type": "execute_result"
    }
   ],
   "source": [
    "confusion_matrix(y_test, y_pred)"
   ]
  },
  {
   "cell_type": "code",
   "execution_count": 59,
   "metadata": {},
   "outputs": [
    {
     "name": "stdout",
     "output_type": "stream",
     "text": [
      "             precision    recall  f1-score   support\n",
      "\n",
      "          0       0.93      0.89      0.91        46\n",
      "          1       0.89      0.80      0.85        41\n",
      "          2       0.91      0.93      0.92        83\n",
      "          3       0.69      0.86      0.77        21\n",
      "          4       0.89      0.86      0.88        29\n",
      "          5       0.85      0.85      0.85        13\n",
      "\n",
      "avg / total       0.88      0.88      0.88       233\n",
      "\n"
     ]
    }
   ],
   "source": [
    "print(classification_report(y_test, y_pred))"
   ]
  },
  {
   "cell_type": "markdown",
   "metadata": {},
   "source": [
    "#### Prediction"
   ]
  },
  {
   "cell_type": "code",
   "execution_count": 60,
   "metadata": {},
   "outputs": [
    {
     "data": {
      "text/plain": [
       "('인천 송도 삼성바이오로직스 현장을 가다“삼성이 처음 핸드폰 사업을 시작할 때 망치로 핸드폰을 깨부수는 등 온갖 실험을 했던 동영상도 보여주며 ‘이렇게 시작해 휴대폰 사업도 성공했다',\n",
       " '[구의역 사고를 보며] 청년을 위한 나라는 없다\\xa0[ 주동식 지역평등시민연대 대표]\\xa0요즘 사람의 실제 나이는 전통적인 개념의 숫자에 0.8을 곱해서 계산해야 한다고 한다. 50세 중',\n",
       " ' [한겨레] 구의역·남양주 사고에 입법대책 분주더민주, 직접 고용법 제정안 발의국민의당, 청년고용할당제 확대정의당도 ‘기업살인법’ 발의키로정부·여당 반대로 통과 어려울듯새누리, 야')"
      ]
     },
     "execution_count": 60,
     "metadata": {},
     "output_type": "execute_result"
    }
   ],
   "source": [
    "X_test = X_test.reset_index(drop = True)\n",
    "X_test[0][:100], X_test[1][:100], X_test[2][:100]"
   ]
  },
  {
   "cell_type": "code",
   "execution_count": 12,
   "metadata": {
    "collapsed": true
   },
   "outputs": [
    {
     "data": {
      "text/plain": [
       "0      인천 송도 삼성바이오로직스 현장을 가다“삼성이 처음 핸드폰 사업을 시작할 때 망치로...\n",
       "1      [구의역 사고를 보며] 청년을 위한 나라는 없다 [ 주동식 지역평등시민연대 대표] ...\n",
       "2       [한겨레] 구의역·남양주 사고에 입법대책 분주더민주, 직접 고용법 제정안 발의국민...\n",
       "3      김종인 롯데마트 대표이사가 지난 4월 18일 오전 서울 중구 롯데호텔에서 열린 '가...\n",
       "4      [서울신문]자동차 연료 따라 보험료 차등화… LPG·하이브리드는 더 오를 듯보험업계...\n",
       "5      [앵커] 잇따른 미사일 시험발사 실패로 체면을 구긴 북한이 자신들이 성공했다고 주장...\n",
       "6       [한겨레] 3년여 만에 북 고위급 면담“지역 평화안정 보호하길” 역설리수용, 김정...\n",
       "7      [머니투데이 김희정 기자] [옥타코어 프로세서로 속도 향상… 후면카메라 1600만 ...\n",
       "8          (수원=연합뉴스) 최찬흥 기자 = 경기도가 남양주 진접선 지하철 공사현장 폭...\n",
       "9      - 가격은 기존 대리운전 업체보다 비싸지만 편의성·안전성↑- 소속 대리운전 기사 만...\n",
       "10     BBC 사진 캡처웨스트미들랜드 스탠퍼드카운티대, 도자기 270점 소장    (서울=...\n",
       "11     신도시·택지지구 공급물량 완판 행진서울 도심권에 비해 높은 수익률 기대김포한강·동탄...\n",
       "12     <아이뉴스24>[김두탁기자] 10년 이상 경력직 채용 희망기업을 조사한 결과, 연봉...\n",
       "13     북한 손 들어줄까 내심 우려 “비핵화 없인 국면 변화 난망…김정은 방중도 어려울 것...\n",
       "14     중국 인권 사이트 웨이취안왕(維權網) 사진 캡처    (서울=연합뉴스) 조성대 기자...\n",
       "15     불용재고의약품 문제를 놓고 추무진 대한의사협회장과 조찬휘 대한약사회장이 설전을 벌였...\n",
       "16     ㆍ새누리당 김종석 당선인, 평생직장에서 평생고용으로 전환 강조김종석 당선자는? 프린...\n",
       "17     자전거 퍼레이드 행사 구간[서울시 제공]    (서울=연합뉴스) 최윤정 기자 = 광...\n",
       "18     시진핑 중국 국가주석© AFP=뉴스1 © News1시진핑, 北 리수용 면담…\"중북 ...\n",
       "19     ㆍ취약지역 CCTV 확대·고위험 정신질환자 응급입원ㆍ여성계 “정부 대책 미흡…성폭력...\n",
       "20     <앵커 멘트> 표현의 자유를  용인하는 우리사회의 수준이 어느 정도인지  서울의 한...\n",
       "21     4차 회의 끝에 직권면직…전국 35명 중 마지막【광주=뉴시스】송창헌 기자 = 전국교...\n",
       "22     삼성전자(005930)코스피 대장주인 삼성전자가 연중 최고가를 경신했다.1일 유가증...\n",
       "23     [연합뉴스 자료사진]시민단체, 서울시 등 지자체 15곳 권익위에 \"부패행위\" 신고 ...\n",
       "24     심태보 KIST 센터장작년 허가받은 신약만 5개거대 제약사 탄생도 가능서울 성북구 ...\n",
       "25     【춘천=뉴시스】박혜미 기자 = 과로로 숨진 육군 간부의 유가족들이 국가유공자로 인정...\n",
       "26      [연합뉴스자료사진]넉 달만에 0%대로 내려…햇채소 출하로 신선식품지수 상승세 둔화...\n",
       "27     【서울=뉴시스】유세진 기자 = 북한 관영 매체 '조선의 오늘'(DPRK Today)...\n",
       "28     【대전=뉴시스】유순상 기자 = 대전시교육청이 신규교사 채용 비리 '의혹'을 받고 있...\n",
       "29     가수 권성희(62·사진)씨가 회장을 맡고 있는 한국연예인한마음회가 1일 오전 10시...\n",
       "                             ...                        \n",
       "203    함께 발맞추어 뛴다는 의미를 몸소 실천하는 사람들이 있습니다. 시각장애인들을 위해 ...\n",
       "204    한승원 소설가 장흥서 마을잔치한국인 최초로 맨부커상을 받은 소설가 한강(46)씨의 ...\n",
       "205    [앵커]조업중이던 어선이 전복됐지만, 다행히 선원 8명은 모두 구조됐습니다. 전국 ...\n",
       "206    © News1 방은영 디자이너(광주=뉴스1) 신채린 기자 = 퇴근해 귀가하던 30대...\n",
       "207    [작년 검사실서 브로커 만나고 회사 업무까지… 검사·수사관 10여명 수사] - 검찰...\n",
       "208    아베 신조(安倍晋三) 일본 총리가 내년 4월로 예정된 소비세율 인상(8→10%) 계...\n",
       "209    서울대학교 법학전문대학원(로스쿨) 학생이 수강신청을 위해 다른 학생의 아이디를 도용...\n",
       "210    압수 차량 살펴보는 검찰    (평택=연합뉴스) 홍기원 기자 = 폴크스바겐 배출가스...\n",
       "211    \"자회사 통한 관리업무 직접통제\" vs. 노조 \"무늬만 다른 용역업체\" [여정민 기...\n",
       "212    서울시, 설립동의안 시의회 제출…자본금 15억원    (서울=연합뉴스) 이태수 기자...\n",
       "213    [디지털데일리 최민지 기자] 이제 의료 및 교육기관도 정보보호 인증을 의무화해야 한...\n",
       "214    [CBS노컷뉴스 김정훈 기자]31일 오후 서울 광진구 구의역에 스크린도어 정비 작업...\n",
       "215     [한겨레] 회사채 협상 성공…용선료 조정 남아사채권자, 채무 절반 출자전환 ‘손실...\n",
       "216    '옥시 끝' 불매운동 성공 선언 (서울=연합뉴스) 이대희 기자 = 시민사회단체 회원...\n",
       "217    생보사 \"대법 판결 전엔 시효 지난 보험금 못준다\"제재 감수하면서까지 지급 거부소멸...\n",
       "218    '구의역 사고, 계속되는 추모 물결'    (서울=연합뉴스) 진연수 기자 = 1일 ...\n",
       "219    <앵커 멘트>경기도 남양주의  지하철 공사 현장에서  가스 폭발사고가 일어나 근로자...\n",
       "220    한·미 자유무역협정(FTA)이 발효된 2012년 이후 한국의 대미(對美) 무역 흑자...\n",
       "221    \"복당, 협상에 도움 안돼…국회의장은 관례상 여당 몫\"    (서울=연합뉴스) 이신...\n",
       "222    여름의 초입에 들어선 요즘, 기온이 올라감에 따라 식중독 위험도 나날이 높아지고 있...\n",
       "223    원인 미상의 가스 폭발…중상자 3명, 전신 2~3도 화상[CBS노컷뉴스 고무성·구민...\n",
       "224    【서울=뉴시스】이재준 기자 = 중국인민은행은 1일 위안화 거래 기준치를 1달러=6....\n",
       "225    【서울=뉴시스】류난영 기자 = 식품의약품안전처는 고속도로 휴게소 등 다중이용시설과 ...\n",
       "226    업계 \"가능한 부분부터 순차 적용\", 방통위 \"적절한 시기에 점검\" '게시물 작성자...\n",
       "227    옥시측으로부터 청탁을 받고 가습기 살균제 흡입독성 실험을 조작했다는 혐의를 받고 있...\n",
       "228    어제 홍익대학교 정문에 설치된 이 손가락 모양의 조각상이 큰 논란을 불러왔습니다. ...\n",
       "229    (제공=기획재정부)© News1 방은영 디자이너2016 OECD 경제전망…\"올해 韓...\n",
       "230    계속되는 사건·사고, 굳은 표정의 총리    (서울=연합뉴스) 이진욱 기자 = 1일...\n",
       "231    [아시아경제 강희종 기자]방송 3사가 초고화질(UHD) 본방송을 시작하면서 홈포털을...\n",
       "232    팔루자 남부에서 진입을 준비하는 이라크 군 (AP=연합뉴스)영국 언론 \"최후 예감한...\n",
       "Name: content, Length: 233, dtype: object"
      ]
     },
     "execution_count": 12,
     "metadata": {},
     "output_type": "execute_result"
    }
   ],
   "source": [
    "X_test"
   ]
  },
  {
   "cell_type": "code",
   "execution_count": 61,
   "metadata": {},
   "outputs": [
    {
     "data": {
      "text/plain": [
       "array([1, 2, 0])"
      ]
     },
     "execution_count": 61,
     "metadata": {},
     "output_type": "execute_result"
    }
   ],
   "source": [
    "result = model.predict([X_test[0],X_test[1],X_test[2] ])\n",
    "result"
   ]
  },
  {
   "cell_type": "code",
   "execution_count": 62,
   "metadata": {},
   "outputs": [
    {
     "name": "stdout",
     "output_type": "stream",
     "text": [
      "경제 인천 송도 삼성바이오로직스 현장을 가다“삼성이 처음 핸드폰 사업을 시작할 때 망치로 핸드폰\n",
      "사회 [구의역 사고를 보며] 청년을 위한 나라는 없다 [ 주동식 지역평등시민연대 대표] 요즘 사\n",
      "정치  [한겨레] 구의역·남양주 사고에 입법대책 분주더민주, 직접 고용법 제정안 발의국민의당, \n"
     ]
    }
   ],
   "source": [
    "classification_dict = {\n",
    "    0:\"정치\", 1:\"경제\", 2:\"사회\", 3:\"생활/문화\", 4:\"세계\", 5:\"IT/과학\",\n",
    "}\n",
    "\n",
    "for idx, category in enumerate(result):\n",
    "    print(classification_dict[category], X_test[idx][:50])"
   ]
  },
  {
   "cell_type": "markdown",
   "metadata": {},
   "source": [
    "#### Save & Load Model"
   ]
  },
  {
   "cell_type": "code",
   "execution_count": 63,
   "metadata": {},
   "outputs": [],
   "source": [
    "pickle.dump(model, open(\"classification.plk\", \"wb\"))"
   ]
  },
  {
   "cell_type": "code",
   "execution_count": 64,
   "metadata": {},
   "outputs": [],
   "source": [
    "load_model = pickle.load(open('classification.plk', 'rb'))"
   ]
  },
  {
   "cell_type": "code",
   "execution_count": 66,
   "metadata": {},
   "outputs": [
    {
     "data": {
      "text/plain": [
       "array([3, 2])"
      ]
     },
     "execution_count": 66,
     "metadata": {},
     "output_type": "execute_result"
    }
   ],
   "source": [
    "str1 = \"카라멜 마끼아또 먹는 아이폰은 2호선을 타고 집에 간다\"\n",
    "str2 = \"취업난에 허덕이는 이삼십대 인구수가 점점 더 증가하고 있다\"\n",
    "load_model.predict([str1, str2])"
   ]
  },
  {
   "cell_type": "code",
   "execution_count": 67,
   "metadata": {},
   "outputs": [
    {
     "data": {
      "text/plain": [
       "array([[0.13706888, 0.05622285, 0.1944603 , 0.43522812, 0.12537453,\n",
       "        0.05164532],\n",
       "       [0.06214966, 0.28150937, 0.33569717, 0.09510242, 0.13618774,\n",
       "        0.08935364]])"
      ]
     },
     "execution_count": 67,
     "metadata": {},
     "output_type": "execute_result"
    }
   ],
   "source": [
    "load_model.predict_proba([str1, str2])"
   ]
  },
  {
   "cell_type": "code",
   "execution_count": null,
   "metadata": {},
   "outputs": [],
   "source": []
  }
 ],
 "metadata": {
  "kernelspec": {
   "display_name": "Python 3",
   "language": "python",
   "name": "python3"
  },
  "language_info": {
   "codemirror_mode": {
    "name": "ipython",
    "version": 3
   },
   "file_extension": ".py",
   "mimetype": "text/x-python",
   "name": "python",
   "nbconvert_exporter": "python",
   "pygments_lexer": "ipython3",
   "version": "3.6.4"
  }
 },
 "nbformat": 4,
 "nbformat_minor": 2
}
