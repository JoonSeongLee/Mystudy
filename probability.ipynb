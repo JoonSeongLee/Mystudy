{
 "cells": [
  {
   "cell_type": "markdown",
   "metadata": {},
   "source": [
    "확률을 정확히 정의하려면 우선 다음 3가지 개념을 알아야 한다.\n",
    "\n",
    "- 확률 표본\n",
    "- 표본 공간\n",
    "- 사건\n",
    "\n",
    "확률론의 방법으로 접근하기 위해 우선 $확률 표본(sample)$과 $표본 공간(sample space)$을 정의해야 한다.\n",
    "\n",
    "# 확률 표본 또는 표본$(sample)$\n",
    "은 풀고자 하는 확률적 문제에서 선택될 수 있는 혹은 답이 될 수 있는 하나의 경우 혹은 숫자를 말한다.\n",
    "\n",
    "# 표본 공간$(sample$ $space)$\n",
    "은 답이 될 수 있는 혹은 선택될 수 있는 모든 표본의 집합을 말한다. 보통  $Ω $(대문자 오메가)라는 그리스 문자로 표기한다.\n",
    "\n",
    "# 사건($event$)\n",
    "는 표본 공간  $Ω$ 의 부분집합, 즉, 전체 표본 공간 중에서 우리가 관심을 가지고 있는 일부 표본의 집합을 뜻한다. 보통  $A,B,C,⋯$  식으로 대문자 알파벳으로 표기한다."
   ]
  },
  {
   "cell_type": "markdown",
   "metadata": {},
   "source": [
    "# 확률(probability)\n",
    "이란 사건(부분 집합)을 입력하면 숫자(확률값)가 출력되는 함수이다.\n",
    "\n",
    "$$사건(부분집합)→숫자$$"
   ]
  },
  {
   "cell_type": "markdown",
   "metadata": {},
   "source": [
    "-- 콜모고로프의 공리(Kolmogorov's axioms)\n",
    "- 모든 사건에 대해 확률은 실수이고 0 또는 양수이다.\n",
    "\n",
    "$$P(A)∈R,P(A)≥0$$\n",
    " \n",
    "- 표본공간이라는 사건에 대한 확률은 1이다.\n",
    "\n",
    "$$P(Ω)=1$$\n",
    " \n",
    "- 공통 원소가 없는 두 사건의 합집합의 확률은 각각의 사건의 확률의 합이다.\n",
    "\n",
    "$$A∩B=∅→P(A∪B)=P(A)+P(B)$$\n",
    " "
   ]
  },
  {
   "cell_type": "markdown",
   "metadata": {},
   "source": [
    "> - 주변 확률(marginal probability)\n",
    "\n",
    "> 결합 확률과 대비되는 개념으로 결합되지 않는 개별 사건의 확률  P(A)  또는  P(B) 를 주변 확률라고 한다.\n",
    "\n",
    "> - 조건부 확률(conditional probability)\n",
    "\n",
    "> B 가 사실일 경우의 사건 A에 대한 확률을 사건 B에 대한 사건 A의 조건부확률이라고 하며 다음과 같이 표기한다."
   ]
  },
  {
   "cell_type": "markdown",
   "metadata": {},
   "source": [
    "# 조건부 확률  $P(A|B)$ \n",
    "사건 B가 발생한 경우의 사건 A의 확률\n",
    "$$P(A|B) = \\dfrac{P(A,B)}{P(B)}$$\n",
    "\n",
    "# 독립\n",
    "$$P(A,B) = P(A)P(B)$$\n",
    "\n",
    "$B$  라는 사건이 발생하든 말든 사건 $A$ 에는 전혀 영향을 주지 않는 다는 것이다.\n",
    "\n",
    "$$P(A|B) = \\dfrac{P(A,B)}{P(B)} = \\dfrac{P(A)P(B)}{P(B)} = P(A)$$"
   ]
  },
  {
   "cell_type": "markdown",
   "metadata": {},
   "source": [
    "# pgmpy 패키지\n",
    "JointProbabilityDistribution(variables, cardinality, values)\n",
    "- variables: 확률 변수의 이름 문자열의 리스트\n",
    "- cardinality: 각 확률 변수의 경우의 수(cardinality)의 리스트\n",
    "- values: 각 확률 변수의 모든 경우의 조합에 대한 확률 값의 리스트"
   ]
  },
  {
   "cell_type": "code",
   "execution_count": 6,
   "metadata": {
    "scrolled": true
   },
   "outputs": [
    {
     "name": "stdout",
     "output_type": "stream",
     "text": [
      "╒═════╤═════╤══════════╕\n",
      "│ X   │ Y   │   P(X,Y) │\n",
      "╞═════╪═════╪══════════╡\n",
      "│ X_0 │ Y_0 │   0.1500 │\n",
      "├─────┼─────┼──────────┤\n",
      "│ X_0 │ Y_1 │   0.4500 │\n",
      "├─────┼─────┼──────────┤\n",
      "│ X_1 │ Y_0 │   0.3500 │\n",
      "├─────┼─────┼──────────┤\n",
      "│ X_1 │ Y_1 │   0.0500 │\n",
      "╘═════╧═════╧══════════╛\n"
     ]
    }
   ],
   "source": [
    "from pgmpy.factors.discrete import JointProbabilityDistribution as JPD\n",
    "j1 = JPD(['X', 'Y'], [2, 2], np.array([3, 9, 7, 1]) / 20)\n",
    "print(j1)"
   ]
  },
  {
   "cell_type": "markdown",
   "metadata": {},
   "source": [
    "주변 확률 marginal_distribution(values, inplace=True)\n",
    "- values: 주변 확률을 구할 변수 이름 문자열 리스트\n",
    "- inplace: True이면 객체 자신을 주변 확률 모형으로 변화시킨다. False면 주변 확률 모형 객체를 반환한다.\n",
    "\n",
    "조건부 확률 conditional_distribution(values, inplace=True)\n",
    "- values: 주변 확률을 구할 변수 이름 문자열과 값을 묶은 튜플의 리스트\n",
    "- inplace: True이면 객체 자신을 조건부 확률 모형으로 변화시킨다. False면 조건부 확률 모형 객체를 반환한다."
   ]
  },
  {
   "cell_type": "code",
   "execution_count": 8,
   "metadata": {},
   "outputs": [
    {
     "data": {
      "text/plain": [
       "<Joint Distribution representing P(X:2, Y:2) at 0x1d42fa78d68>"
      ]
     },
     "execution_count": 8,
     "metadata": {},
     "output_type": "execute_result"
    }
   ],
   "source": [
    "j1"
   ]
  },
  {
   "cell_type": "code",
   "execution_count": 9,
   "metadata": {
    "scrolled": true
   },
   "outputs": [
    {
     "name": "stdout",
     "output_type": "stream",
     "text": [
      "╒═════╤════════╕\n",
      "│ X   │   P(X) │\n",
      "╞═════╪════════╡\n",
      "│ X_0 │ 0.6000 │\n",
      "├─────┼────────┤\n",
      "│ X_1 │ 0.4000 │\n",
      "╘═════╧════════╛\n"
     ]
    }
   ],
   "source": [
    "m1x = j1.marginal_distribution(['X'], inplace=False)\n",
    "print(m1x)"
   ]
  },
  {
   "cell_type": "code",
   "execution_count": 10,
   "metadata": {
    "scrolled": true
   },
   "outputs": [
    {
     "name": "stdout",
     "output_type": "stream",
     "text": [
      "╒═════╤════════╕\n",
      "│ Y   │   P(Y) │\n",
      "╞═════╪════════╡\n",
      "│ Y_0 │ 0.5000 │\n",
      "├─────┼────────┤\n",
      "│ Y_1 │ 0.5000 │\n",
      "╘═════╧════════╛\n"
     ]
    }
   ],
   "source": [
    "m1y = j1.marginal_distribution(['Y'], inplace=False)\n",
    "print(m1y)"
   ]
  },
  {
   "cell_type": "code",
   "execution_count": 11,
   "metadata": {},
   "outputs": [
    {
     "name": "stdout",
     "output_type": "stream",
     "text": [
      "╒═════╤════════╕\n",
      "│ Y   │   P(Y) │\n",
      "╞═════╪════════╡\n",
      "│ Y_0 │ 0.2500 │\n",
      "├─────┼────────┤\n",
      "│ Y_1 │ 0.7500 │\n",
      "╘═════╧════════╛\n"
     ]
    }
   ],
   "source": [
    "c1x0 = j1.conditional_distribution([('X', 0)], inplace=False)  # 사건 A에 대한 조건부 확률\n",
    "print(c1x0)"
   ]
  },
  {
   "cell_type": "code",
   "execution_count": 12,
   "metadata": {},
   "outputs": [
    {
     "name": "stdout",
     "output_type": "stream",
     "text": [
      "╒═════╤════════╕\n",
      "│ Y   │   P(Y) │\n",
      "╞═════╪════════╡\n",
      "│ Y_0 │ 0.8750 │\n",
      "├─────┼────────┤\n",
      "│ Y_1 │ 0.1250 │\n",
      "╘═════╧════════╛\n"
     ]
    }
   ],
   "source": [
    "c1x1 = j1.conditional_distribution([('X', 1)], inplace=False)  \n",
    "print(c1x1)"
   ]
  },
  {
   "cell_type": "code",
   "execution_count": 13,
   "metadata": {},
   "outputs": [
    {
     "name": "stdout",
     "output_type": "stream",
     "text": [
      "╒═════╤════════╕\n",
      "│ X   │   P(X) │\n",
      "╞═════╪════════╡\n",
      "│ X_0 │ 0.3000 │\n",
      "├─────┼────────┤\n",
      "│ X_1 │ 0.7000 │\n",
      "╘═════╧════════╛\n"
     ]
    }
   ],
   "source": [
    "c1y0 = j1.conditional_distribution([('Y', 0)], inplace=False) # 사건 B에 대한 조건부 확률\n",
    "print(c1y0)"
   ]
  },
  {
   "cell_type": "code",
   "execution_count": 14,
   "metadata": {
    "scrolled": true
   },
   "outputs": [
    {
     "name": "stdout",
     "output_type": "stream",
     "text": [
      "╒═════╤════════╕\n",
      "│ X   │   P(X) │\n",
      "╞═════╪════════╡\n",
      "│ X_0 │ 0.9000 │\n",
      "├─────┼────────┤\n",
      "│ X_1 │ 0.1000 │\n",
      "╘═════╧════════╛\n"
     ]
    }
   ],
   "source": [
    "c1y1 = j1.conditional_distribution([('Y', 1)], inplace=False)\n",
    "print(c1y1)"
   ]
  },
  {
   "cell_type": "code",
   "execution_count": 10,
   "metadata": {},
   "outputs": [
    {
     "data": {
      "text/plain": [
       "False"
      ]
     },
     "execution_count": 10,
     "metadata": {},
     "output_type": "execute_result"
    }
   ],
   "source": [
    "j1.check_independence(['X'], ['Y'])"
   ]
  },
  {
   "cell_type": "markdown",
   "metadata": {},
   "source": [
    "# 베이즈 정리\n",
    "$$ P(A|B) = \\dfrac{P(B|A)P(A)}{P(B)} $$\n",
    "- P(A|B) : 사후 확률(posterior). 사건 B가 발생한 후 갱신된 사건 A의 확률\n",
    "- P(A) : 사전 확률(prior). 사건 B가 발생하기 전에 가지고 있던 사건 A의 확률\n",
    "- P(B|A) : likelihood. 사건 A가 발생한 경우 사건 B의 확률\n",
    "- P(B) : 정규화 상수(normalizing constant): 확률의 크기 조정"
   ]
  },
  {
   "cell_type": "markdown",
   "metadata": {},
   "source": [
    "증명)\n",
    "$$ P(A|B) = \\dfrac{P(A,B)}{P(B)} \\;\\; \\rightarrow \\;\\; P(A,B) = P(A|B)P(B)$$\n",
    "\n",
    "$$P(B|A) = \\dfrac{P(A,B)}{P(A)} \\;\\; \\rightarrow \\;\\; P(A,B) = P(B|A)P(A)$$\n",
    "\n",
    "$$P(A,B) = P(A|B)P(B) = P(B|A)P(A)$$\n",
    "\n",
    "$$P(A|B) = \\dfrac{P(B|A)P(A)}{P(B)}$$"
   ]
  },
  {
   "cell_type": "markdown",
   "metadata": {},
   "source": [
    "# 검사 시약 문제"
   ]
  },
  {
   "cell_type": "markdown",
   "metadata": {},
   "source": [
    "- 사건\n",
    "\n",
    "> 병에 걸리는 경우: 사건  D\n",
    "\n",
    "> 양성 반응을 보이는 경우: 사건  S \n",
    "\n",
    "> 병에 걸린 사람이 양성 반응을 보이는 경우: 조건부 사건  S|D\n",
    "\n",
    "> 양성 반응을 보이는 사람이 병에 걸려 있을 경우: 조건부 사건  D|S\n",
    "    \n",
    "- 문제\n",
    "\n",
    "> P(S|D)=0.99 가 주어졌을 때,  P(D|S) 를 구하라\n",
    "\n",
    "\n",
    "$P(D)=0.002$\n",
    " \n",
    "$P(S|D^C) = 0.05$"
   ]
  },
  {
   "cell_type": "markdown",
   "metadata": {},
   "source": [
    " $$베이즈 정리  P(D|S) = \\dfrac{P(S|D)P(D)}{P(S)} $$\n",
    "\n",
    "\\begin{eqnarray}\n",
    "P(D|S) \n",
    "&=& \\dfrac{P(S|D)P(D)}{P(S)} \\\\\n",
    "&=& \\dfrac{P(S|D)P(D)}{P(S,D) + P(S,D^C)} \\\\\n",
    "&=& \\dfrac{P(S|D)P(D)}{P(S|D)P(D) + P(S|D^C)P(D^C)} \\\\\n",
    "&=& \\dfrac{P(S|D)P(D)}{P(S|D)P(D) + P(S|D^C)(1-P(D))} \\\\\n",
    "&=& \\dfrac{0.99 \\cdot 0.002}{0.99 \\cdot 0.002 + 0.05 \\cdot (1 - 0.002)} \\\\\n",
    "&=& 0.038\n",
    "\\end{eqnarray}"
   ]
  },
  {
   "cell_type": "markdown",
   "metadata": {},
   "source": [
    "# pgmpy을 사용한 베이즈 정리 적용"
   ]
  },
  {
   "cell_type": "markdown",
   "metadata": {},
   "source": [
    "TabularCPD(variable, variable_card, value, evidence, evidence_card)\n",
    "- variable: 확률 변수의 이름 문자열\n",
    "- variable_card: 확률 변수가 가질 수 있는 경우의 수\n",
    "- value: 조건부 확률 배열. 하나의 열이 하나의 조건(경우)을 뜻하므로 하나의 열의 확률 합은 1이어야 한다.\n",
    "- evidence: 조건이 되는 확률 변수의 이름 문자열의 리스트\n",
    "- evidence_card: 조건이 되는 확률 변수가 가질 수 있는 경우의 수의 리스트"
   ]
  },
  {
   "cell_type": "markdown",
   "metadata": {},
   "source": [
    "우선 확률 변수 X를 이용하여 병에 걸렸을 확률  $P(D)=P(X=1)$ , 병에 걸리지 않았을 확률 $P(D^C)=P(X=0)$ 를 정의한다."
   ]
  },
  {
   "cell_type": "code",
   "execution_count": 2,
   "metadata": {
    "scrolled": true
   },
   "outputs": [
    {
     "name": "stdout",
     "output_type": "stream",
     "text": [
      "╒═════╤═══════╕\n",
      "│ X_0 │ 0.998 │\n",
      "├─────┼───────┤\n",
      "│ X_1 │ 0.002 │\n",
      "╘═════╧═══════╛\n"
     ]
    }
   ],
   "source": [
    "from pgmpy.factors.discrete import TabularCPD\n",
    "cpd_X = TabularCPD('X', 2, [[1 - 0.002, 0.002]])\n",
    "print(cpd_X)"
   ]
  },
  {
   "cell_type": "markdown",
   "metadata": {},
   "source": [
    "다음으로 확률 변수 Y를 이용하여 양성 반응이 나올 확률  $P(S)=P(Y=1)$ , 음성 반응이 나올 확률  $P(S^C)=P(Y=0)$ 를 정의한다. 이 확률은 병에 걸렸는가 걸리지 않았는가에 따라 달라지므로 다음처럼 조건부로 정의한다."
   ]
  },
  {
   "cell_type": "code",
   "execution_count": 3,
   "metadata": {
    "scrolled": true
   },
   "outputs": [
    {
     "name": "stdout",
     "output_type": "stream",
     "text": [
      "╒═════╤══════╤══════╕\n",
      "│ X   │ X_0  │ X_1  │\n",
      "├─────┼──────┼──────┤\n",
      "│ Y_0 │ 0.95 │ 0.01 │\n",
      "├─────┼──────┼──────┤\n",
      "│ Y_1 │ 0.05 │ 0.99 │\n",
      "╘═════╧══════╧══════╛\n"
     ]
    }
   ],
   "source": [
    "cpd_YX = TabularCPD('Y', 2, np.array([[0.95, 0.01], [0.05, 0.99]]),\n",
    "                    evidence=['X'], evidence_card=[2])\n",
    "print(cpd_YX)"
   ]
  },
  {
   "cell_type": "markdown",
   "metadata": {},
   "source": [
    "이 조건부 확률과 조건이 되는 확률을 결합하기 위해서는 BayesianModel 클래스 객체를 만들고 add_cpds 메서드로 위에서 구현한 조건부 확률을 추가한다.\n",
    "check_model 메서드로 모형이 완전한지 확인할 수 있다."
   ]
  },
  {
   "cell_type": "code",
   "execution_count": 4,
   "metadata": {},
   "outputs": [
    {
     "data": {
      "text/plain": [
       "True"
      ]
     },
     "execution_count": 4,
     "metadata": {},
     "output_type": "execute_result"
    }
   ],
   "source": [
    "from pgmpy.models import BayesianModel\n",
    "\n",
    "model = BayesianModel([('X', 'Y')])\n",
    "model.add_cpds(cpd_X, cpd_YX)\n",
    "model.check_model()"
   ]
  },
  {
   "cell_type": "markdown",
   "metadata": {},
   "source": [
    "BayesianModel 클래스는 변수 제거법(VariableElimination)을 사용한 추정을 제공한다. 사용법은 다음과 같다. 자세한 내용은 추후 확률적 그래프 모형에서 다루게 된다."
   ]
  },
  {
   "cell_type": "code",
   "execution_count": 5,
   "metadata": {},
   "outputs": [
    {
     "name": "stdout",
     "output_type": "stream",
     "text": [
      "╒═════╤══════════╕\n",
      "│ X   │   phi(X) │\n",
      "╞═════╪══════════╡\n",
      "│ X_0 │   0.9618 │\n",
      "├─────┼──────────┤\n",
      "│ X_1 │   0.0382 │\n",
      "╘═════╧══════════╛\n"
     ]
    }
   ],
   "source": [
    "from pgmpy.inference import VariableElimination\n",
    "\n",
    "infer = VariableElimination(model)\n",
    "posterior = infer.query(['X'], evidence={'Y': 1})\n",
    "print(posterior['X'])"
   ]
  },
  {
   "cell_type": "markdown",
   "metadata": {},
   "source": [
    "# 베이즈 정리와 분류 문제\n",
    "\n",
    "확률 변수 Y를 Y=0인 경우가 Red 농장, Y=1인 경우가 Blue 농장으로 정의한다."
   ]
  },
  {
   "cell_type": "code",
   "execution_count": 6,
   "metadata": {},
   "outputs": [
    {
     "name": "stdout",
     "output_type": "stream",
     "text": [
      "╒═════╤══════════╕\n",
      "│ Y_0 │ 0.666667 │\n",
      "├─────┼──────────┤\n",
      "│ Y_1 │ 0.333333 │\n",
      "╘═════╧══════════╛\n"
     ]
    }
   ],
   "source": [
    "from pgmpy.factors.discrete import TabularCPD\n",
    "cpd_Y = TabularCPD('Y', 2, [[8/12, 4/12]])\n",
    "print(cpd_Y)"
   ]
  },
  {
   "cell_type": "markdown",
   "metadata": {},
   "source": [
    "확률 변수 X는 X=0인 경우를 오렌지인 경우, X=1인 경우를 사과인 경우으로 정의한다."
   ]
  },
  {
   "cell_type": "code",
   "execution_count": 7,
   "metadata": {
    "scrolled": true
   },
   "outputs": [
    {
     "name": "stdout",
     "output_type": "stream",
     "text": [
      "╒═════╤══════╤══════╕\n",
      "│ Y   │ Y_0  │ Y_1  │\n",
      "├─────┼──────┼──────┤\n",
      "│ X_0 │ 0.75 │ 0.25 │\n",
      "├─────┼──────┼──────┤\n",
      "│ X_1 │ 0.25 │ 0.75 │\n",
      "╘═════╧══════╧══════╛\n"
     ]
    }
   ],
   "source": [
    "cpd_XY = TabularCPD('X', 2, np.array([[6/8, 1/4], [2/8, 3/4]]),\n",
    "                    evidence=['Y'], evidence_card=[2])\n",
    "print(cpd_XY)"
   ]
  },
  {
   "cell_type": "code",
   "execution_count": 8,
   "metadata": {},
   "outputs": [
    {
     "data": {
      "text/plain": [
       "True"
      ]
     },
     "execution_count": 8,
     "metadata": {},
     "output_type": "execute_result"
    }
   ],
   "source": [
    "from pgmpy.models import BayesianModel\n",
    "\n",
    "model = BayesianModel([('Y', 'X')])\n",
    "model.add_cpds(cpd_Y, cpd_XY)\n",
    "model.check_model()"
   ]
  },
  {
   "cell_type": "markdown",
   "metadata": {},
   "source": [
    "베이지안 네트워크 모형으로 사후확률을 계산하면  0.1429=1/7이 나온다."
   ]
  },
  {
   "cell_type": "code",
   "execution_count": 9,
   "metadata": {},
   "outputs": [
    {
     "name": "stdout",
     "output_type": "stream",
     "text": [
      "╒═════╤══════════╕\n",
      "│ Y   │   phi(Y) │\n",
      "╞═════╪══════════╡\n",
      "│ Y_0 │   0.8571 │\n",
      "├─────┼──────────┤\n",
      "│ Y_1 │   0.1429 │\n",
      "╘═════╧══════════╛\n"
     ]
    }
   ],
   "source": [
    "from pgmpy.inference import VariableElimination\n",
    "\n",
    "infer = VariableElimination(model)\n",
    "posterior = infer.query(['Y'], evidence={'X': 0})\n",
    "print(posterior['Y'])"
   ]
  }
 ],
 "metadata": {
  "kernelspec": {
   "display_name": "Python 3",
   "language": "python",
   "name": "python3"
  },
  "language_info": {
   "codemirror_mode": {
    "name": "ipython",
    "version": 3
   },
   "file_extension": ".py",
   "mimetype": "text/x-python",
   "name": "python",
   "nbconvert_exporter": "python",
   "pygments_lexer": "ipython3",
   "version": "3.6.3"
  }
 },
 "nbformat": 4,
 "nbformat_minor": 2
}
