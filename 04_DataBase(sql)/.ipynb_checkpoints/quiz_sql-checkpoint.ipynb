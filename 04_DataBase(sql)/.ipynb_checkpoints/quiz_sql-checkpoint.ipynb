{
 "cells": [
  {
   "cell_type": "markdown",
   "metadata": {},
   "source": [
    "1.\n",
    "```\n",
    "SELECT distinct(continent) as continent\n",
    "from country\n",
    "```"
   ]
  },
  {
   "cell_type": "markdown",
   "metadata": {},
   "source": [
    "2.\n",
    "```\n",
    "SELECT name, Population\n",
    "from city\n",
    "where CountryCode = 'KOR' and Population >1000000\n",
    "order by Population desc\n",
    "```\n"
   ]
  },
  {
   "cell_type": "markdown",
   "metadata": {},
   "source": [
    "3.\n",
    "```\n",
    "SELECT Name, CountryCode, Population\n",
    "from city\n",
    "where Population between  8000000 and 10000000\n",
    "order by Population desc\n",
    "```"
   ]
  },
  {
   "cell_type": "markdown",
   "metadata": {},
   "source": [
    "\n",
    "4번\n",
    "```\n",
    "SELECT Code, concat(Name, \"(\",IndepYear,\")\") as NameIndep, Continent, Population\n",
    "from country\n",
    "where IndepYear between  1940 and 1950\n",
    "order by IndepYear \n",
    "```\n"
   ]
  },
  {
   "cell_type": "markdown",
   "metadata": {},
   "source": [
    "5번\n",
    "```\n",
    "SELECT distinct(CountryCode), Language, Percentage\n",
    "from countrylanguage\n",
    "where Percentage > 95 and Language in (\"English\", \"Spanish\", \"Korean\")\n",
    "order by Percentage desc \n",
    "```"
   ]
  },
  {
   "cell_type": "markdown",
   "metadata": {},
   "source": [
    "6번\n",
    "```\n",
    "SELECT Code, Name, continent, GovernmentForm, Population\n",
    "from country\n",
    "where code like \"A%\" and GovernmentForm like \"%Republic%\"\n",
    "```"
   ]
  },
  {
   "cell_type": "markdown",
   "metadata": {},
   "source": [
    "======================================================================================================"
   ]
  },
  {
   "cell_type": "markdown",
   "metadata": {},
   "source": [
    "1번\n",
    "\n",
    "```\n",
    "SELECT COUNT(DISTINCT(continent)) as language_count\n",
    "FROM country\n",
    "```"
   ]
  },
  {
   "cell_type": "markdown",
   "metadata": {},
   "source": [
    "2번\n",
    "```\n",
    "SELECT Continent, COUNT(code) as count\n",
    "FROM country\n",
    "Group by Continent\n",
    "order by count desc\n",
    "```"
   ]
  },
  {
   "cell_type": "markdown",
   "metadata": {},
   "source": [
    "3\n",
    "\n",
    "```\n",
    "SELECT countrycode, sum(population) as population\n",
    "FROM city\n",
    "group by countrycode\n",
    "order by population desc\n",
    "```"
   ]
  },
  {
   "cell_type": "markdown",
   "metadata": {},
   "source": [
    "4\n",
    "```\n",
    "SELECT language, count(countrycode) as count\n",
    "FROM countrylanguage\n",
    "group by language\n",
    "order by count desc\n",
    "limit 4,6\n",
    "```"
   ]
  },
  {
   "cell_type": "markdown",
   "metadata": {},
   "source": [
    "5\n",
    "```\n",
    "SELECT language, count(countrycode) as count\n",
    "FROM countrylanguage\n",
    "group by language\n",
    "having count > 15\n",
    "order by count desc\n",
    "```"
   ]
  },
  {
   "cell_type": "markdown",
   "metadata": {},
   "source": [
    "6\n",
    "```\n",
    "SELECT continent, sum(SurfaceArea) as SurfaceArea\n",
    "FROM country\n",
    "group by continent\n",
    "order by SurfaceArea desc\n",
    "```"
   ]
  }
 ],
 "metadata": {
  "kernelspec": {
   "display_name": "Python 3",
   "language": "python",
   "name": "python3"
  },
  "language_info": {
   "codemirror_mode": {
    "name": "ipython",
    "version": 3
   },
   "file_extension": ".py",
   "mimetype": "text/x-python",
   "name": "python",
   "nbconvert_exporter": "python",
   "pygments_lexer": "ipython3",
   "version": "3.6.4"
  }
 },
 "nbformat": 4,
 "nbformat_minor": 2
}
