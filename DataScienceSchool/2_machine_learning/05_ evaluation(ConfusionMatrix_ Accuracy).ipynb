{
 "cells": [
  {
   "cell_type": "markdown",
   "metadata": {},
   "source": [
    "# 분류 성능 평가\n",
    "\n",
    "## Scikit-Learn 에서 지원하는 분류 성능 평가 명령"
   ]
  },
  {
   "cell_type": "markdown",
   "metadata": {},
   "source": [
    "* `sklearn.metrics` 서브 패키지\n",
    " * `confusion_matrix()`\n",
    " * `classfication_report()`\n",
    " * `accuracy_score(y_true, y_pred)`\n",
    " * `precision_score(y_true, y_pred)`\n",
    " * `recall_score(y_true, y_pred)`\n",
    " * `fbeta_score(y_true, y_pred, beta)`\n",
    " * `f1_score(y_true, y_pred)`\n"
   ]
  },
  {
   "cell_type": "markdown",
   "metadata": {},
   "source": [
    "## 분류 결과표 Confusion Matrix\n",
    "\n",
    "| | 예측 클래스 0 | 예측 클래스 1 | 예측 클래스 2 | \n",
    "|-|-|-|-|\n",
    "| 원 클래스 0 | <small>원 클래스가 0, 예측 클래스가 0인 표본의 수</small> | <small>원 클래스가 0, 예측 클래스가 1인 표본의 수</small> | <small>원 클래스가 0, 예측 클래스가 2인 표본의 수</small> |\n",
    "| 원 클래스 1 | <small>원 클래스가 1, 예측 클래스가 0인 표본의 수</small> | <small>원 클래스가 1, 예측 클래스가 1인 표본의 수</small> | <small>원 클래스가 1, 예측 클래스가 2인 표본의 수</small> |\n",
    "| 원 클래스 2 | <small>원 클래스가 2, 예측 클래스가 0인 표본의 수</small> | <small>원 클래스가 2, 예측 클래스가 1인 표본의 수</small> | <small>원 클래스가 2, 예측 클래스가 2인 표본의 수</small> |\n"
   ]
  },
  {
   "cell_type": "code",
   "execution_count": 1,
   "metadata": {},
   "outputs": [],
   "source": [
    "from sklearn.metrics import confusion_matrix"
   ]
  },
  {
   "cell_type": "code",
   "execution_count": 2,
   "metadata": {},
   "outputs": [
    {
     "data": {
      "text/plain": [
       "array([[2, 0, 1],\n",
       "       [0, 0, 1],\n",
       "       [1, 0, 1]])"
      ]
     },
     "execution_count": 2,
     "metadata": {},
     "output_type": "execute_result"
    }
   ],
   "source": [
    "y_true = [7, 0, 0, 7, 0, 6]\n",
    "y_pred = [0, 0, 7, 7, 0, 7]\n",
    "confusion_matrix(y_true, y_pred)"
   ]
  },
  {
   "cell_type": "markdown",
   "metadata": {},
   "source": [
    "## 이진 분류 결과표 Binary Confusion Matrix\n",
    "\n",
    "| | Positive라고 예측  | Negative라고 예측 | \n",
    "|-|-|-|\n",
    "| 실제 Positive | TP   |  FN |             \n",
    "| 실제 Negative | FP   |  TN |  "
   ]
  },
  {
   "cell_type": "markdown",
   "metadata": {},
   "source": [
    "### Accuracy 정확도\n",
    "* 전체 샘플 중 맞게 예측한 샘플 수의 비율\n",
    "* 모형 트레이닝 즉 최적화에서 목적함수로 사용  \n",
    " \n",
    " $$\\text{accuracy} = \\dfrac{TP + TN}{TP + TN + FP + FN}$$\n",
    " \n",
    "### Precision 정밀도\n",
    "* 클래스에 속한다고 출력한 샘플 중 실제로 클래스에 속하는 샘플 수의 비율\n",
    "* FDS의 경우, 사기 거래라고 판단한 거래 중 실제 사기 거래의 비율. 유죄율\n",
    "* 죄인이라고 예측한 사람들을 가지고 검사한다. 일단 법정에 선 거다.\n",
    "* FP(죄인이 아닌데 죄인으로 법정에 선 사람)을 줄이면 올라간다. 즉 죄인을 고를때 확실하게 죄인만 잡으면 올라간다.\n",
    "\n",
    "$$\\text{precision} = \\dfrac{TP}{TP + FP}$$\n",
    "\n",
    "### Recall 재현율\n",
    "* 실제 클래스에 속한 샘플 중에 클래스에 속한다고 출력한 샘플의 수\n",
    "* FDS의 경우, 실제 사기 거래 중에서 실제 사기 거래라고 예측한 거래의 비율. 검거율\n",
    "* TPR(true positive rate)\n",
    "* sensitivity(민감도)\n",
    "* 진짜 범인들을 가지고 검사한다. \n",
    "* FN(진짜 죄인인데 풀어준사람)을 줄이면 올라간다. 즉 다 죄인이라고 판결하면 올라간다.  \n",
    " \n",
    "$$\\text{recall} = \\dfrac{TP}{TP + FN}$$\n",
    "\n",
    "### Fall-Out 위양성율\n",
    "* 실제 클래스에 속하지 않는 샘플 중에 클래스에 속한다고 출력한 샘플의 수\n",
    "* FDS의 경우, 실제 정상 거래 중에서 FDS가 사기 거래라고 예측한 거래의 비율, 원죄(寃罪)율\n",
    "* FPR(alse positive rate)\n",
    "* specificity(특이도) = 1 - fall-out\n",
    "\n",
    "$$\\text{fallout} = \\dfrac{FP}{FP + TN}$$"
   ]
  },
  {
   "cell_type": "markdown",
   "metadata": {},
   "source": [
    "### F (beta) score\n",
    "* 정밀도(Precision)과 재현율(Recall)의 가중 조화 평균\n",
    " \n",
    "$$\n",
    "F_\\beta = (1 + \\beta^2) \\, ({\\text{precision} \\times \\text{recall}}) \\, / \\, ({\\beta^2 \\, \\text{precision} + \\text{recall}})\n",
    "$$\n",
    "\n",
    "\n",
    "* F1 score\n",
    " * beta = 1 \n",
    "\n",
    "$$\n",
    "F_1 = 2 \\cdot \\text{precision} \\cdot \\text{recall} \\, / \\, (\\text{precision} + \\text{recall})\n",
    "$$"
   ]
  },
  {
   "cell_type": "code",
   "execution_count": 3,
   "metadata": {},
   "outputs": [
    {
     "name": "stdout",
     "output_type": "stream",
     "text": [
      "             precision    recall  f1-score   support\n",
      "\n",
      "    class 0       0.50      1.00      0.67         1\n",
      "    class 1       0.00      0.00      0.00         1\n",
      "    class 2       1.00      0.67      0.80         3\n",
      "\n",
      "avg / total       0.70      0.60      0.61         5\n",
      "\n"
     ]
    }
   ],
   "source": [
    "from sklearn.metrics import *\n",
    "y_true = [0, 1, 2, 2, 2]\n",
    "y_pred = [0, 0, 2, 2, 1]\n",
    "target_names = ['class 0', 'class 1', 'class 2']\n",
    "print(classification_report(y_true, y_pred, target_names=target_names))"
   ]
  },
  {
   "cell_type": "markdown",
   "metadata": {},
   "source": [
    "## ROC 커브ROC(Receiver Operator Characteristic)\n",
    "\n",
    "클래스 판별 기준값의 변화에 따른 **Fall-out과 Recall의 변화**를 시각화한 것이다.\n",
    "\n",
    "Scikit-Learn 의 Classification 클래스는 판별 함수 값을 계산하는 `decision_function` 메서드를 제공한다. ROC 커브는 이 판별 함수 값을 이용하여 다음과 같이 작성한다.\n",
    "\n",
    "1. 모든 표본 데이터에 대해 판별 함수 값을 계산한다.\n",
    "2. 계산된 판별 함수 값을 정렬한다.\n",
    "3. 만약 0이 아닌 가장 작은 판별 함수값을 클래스 구분 기준값으로 하면 모든 표본은 클래스 1(Positive)이 된다. \n",
    "   이 때의 Fall-out과 Recall을 계산하면 Recall과 Fall-out이 모두 1이된다.\n",
    "4. 두번째로 작은 판별 함수값을 클래스 구분 기준값으로 하면 판별 함수 값이 가장 작은 표본 1개를 제외하고 나머지 표본은 클래스 1(Positive)이 된다. 마찬가지로 이 때의 Fall-out과 Recall을 계산하여 기록한다.\n",
    "5. 가장 큰 판별 함수값이 클래스 구분 기준값이 될 때까지 이를 반복한다. 이 때는 모든 표본이 클래스 0(Negative)으로 판별되며 Recall과 Fall-out이 모두 0이된다."
   ]
  },
  {
   "cell_type": "code",
   "execution_count": 14,
   "metadata": {},
   "outputs": [],
   "source": [
    "from sklearn.datasets import make_classification\n",
    "\n",
    "X, y = make_classification(n_samples=10000, weights=[0.9, 0.1], random_state=1)"
   ]
  },
  {
   "cell_type": "code",
   "execution_count": 15,
   "metadata": {
    "scrolled": true
   },
   "outputs": [
    {
     "data": {
      "text/plain": [
       "array([[-0.23629978, -1.05493612, -0.43290515, -1.14939907, -0.54238026,\n",
       "         0.32735461, -1.25695954,  0.11042483, -1.85111277, -0.23253521,\n",
       "         0.52250322,  0.56452808,  0.69978686, -0.21119956,  1.71600935,\n",
       "         1.63199059,  1.08702542, -0.3493208 , -1.11850064,  0.3847425 ],\n",
       "       [ 0.19173349, -2.3689596 , -0.49565017, -1.66392446,  0.13246574,\n",
       "        -1.17823245, -0.50341634, -1.67205943, -1.77733903, -1.1332192 ,\n",
       "         0.80086761, -0.7455353 , -1.98169368,  0.73160924, -0.12481463,\n",
       "        -1.17161356,  0.49942609,  0.18279077,  0.21356147,  0.49222565],\n",
       "       [ 0.26559616, -0.53611925, -0.14163292,  1.17163459,  0.12863673,\n",
       "         1.5690384 , -1.92913033, -0.25957376, -0.16923993, -0.32286335,\n",
       "         0.06371943, -1.92811994, -0.07747805,  1.38649441,  1.62163211,\n",
       "         0.00322001, -0.73654315,  0.62926365,  1.07755487,  0.94463163],\n",
       "       [ 1.12455391, -0.75504981, -0.7196512 , -0.46233818, -0.18243416,\n",
       "        -1.13963145,  0.62169472,  0.02347953, -0.9921723 , -0.18840062,\n",
       "         0.48525457, -1.28808295, -1.44490245,  0.09150747,  0.40322434,\n",
       "        -1.00353176,  0.35836605, -0.01642663, -0.0772061 , -0.94003547],\n",
       "       [-0.91703032,  0.07447655, -0.38069294,  1.11343158, -0.75487713,\n",
       "         2.39453518,  0.73575678,  1.34345783, -1.2089495 ,  0.53191796,\n",
       "         0.35163403, -0.77412412,  0.36486843, -0.21253856, -0.72748339,\n",
       "         0.97073349,  0.31570513, -0.85334876, -0.15074491, -0.22452605],\n",
       "       [-1.18328914,  0.72420848, -0.36370743, -0.33221323, -0.75076656,\n",
       "         0.69559808, -0.15737226,  0.55369003, -1.24477119,  0.32580857,\n",
       "         0.30918654,  0.63657306,  0.84456942, -0.7340181 ,  0.70886408,\n",
       "         1.48340105, -1.31504807, -1.46458728,  0.99126865,  0.13770603],\n",
       "       [-0.82042123,  1.54113644, -0.09217672, -0.13859794, -1.01448541,\n",
       "         1.42792024, -0.21190062,  0.07471517, -3.17121692, -1.70158248,\n",
       "         1.3612849 , -0.95669786, -2.93571257,  0.22647298, -1.43722334,\n",
       "        -1.47111039,  1.81462471, -0.46906415,  1.56952173,  0.70586484]])"
      ]
     },
     "execution_count": 15,
     "metadata": {},
     "output_type": "execute_result"
    }
   ],
   "source": [
    "X[:7]"
   ]
  },
  {
   "cell_type": "code",
   "execution_count": 16,
   "metadata": {},
   "outputs": [
    {
     "data": {
      "text/plain": [
       "array([0, 0, 0, 0, 0, 0, 0])"
      ]
     },
     "execution_count": 16,
     "metadata": {},
     "output_type": "execute_result"
    }
   ],
   "source": [
    "y[:7]"
   ]
  },
  {
   "cell_type": "code",
   "execution_count": 17,
   "metadata": {},
   "outputs": [],
   "source": [
    "from sklearn.linear_model import LogisticRegression\n",
    "from sklearn.svm import SVC\n",
    "\n",
    "model1 = LogisticRegression().fit(X, y)\n",
    "y_hat1 = model1.predict(X)\n",
    "\n",
    "model2 = SVC(gamma=0.0026, C=10, probability=True).fit(X, y)\n",
    "y_hat2 = model2.predict(X)"
   ]
  },
  {
   "cell_type": "code",
   "execution_count": 18,
   "metadata": {},
   "outputs": [
    {
     "name": "stdout",
     "output_type": "stream",
     "text": [
      "[[8853   94]\n",
      " [ 397  656]]\n"
     ]
    }
   ],
   "source": [
    "print(confusion_matrix(y, y_hat1))"
   ]
  },
  {
   "cell_type": "code",
   "execution_count": 19,
   "metadata": {},
   "outputs": [
    {
     "name": "stdout",
     "output_type": "stream",
     "text": [
      "[[8894   53]\n",
      " [ 397  656]]\n"
     ]
    }
   ],
   "source": [
    "print(confusion_matrix(y, y_hat2))"
   ]
  },
  {
   "cell_type": "code",
   "execution_count": 20,
   "metadata": {},
   "outputs": [
    {
     "name": "stdout",
     "output_type": "stream",
     "text": [
      "             precision    recall  f1-score   support\n",
      "\n",
      "          0       0.96      0.99      0.97      8947\n",
      "          1       0.87      0.62      0.73      1053\n",
      "\n",
      "avg / total       0.95      0.95      0.95     10000\n",
      "\n",
      "             precision    recall  f1-score   support\n",
      "\n",
      "          0       0.96      0.99      0.98      8947\n",
      "          1       0.93      0.62      0.74      1053\n",
      "\n",
      "avg / total       0.95      0.95      0.95     10000\n",
      "\n"
     ]
    }
   ],
   "source": [
    "print(classification_report(y, model1.predict(X)))\n",
    "print(classification_report(y, model2.predict(X)))"
   ]
  },
  {
   "cell_type": "markdown",
   "metadata": {},
   "source": [
    "Scikit-Learn에서 ROC 커브를 그릴 때는 `roc_curve` 명령을 사용한다. 인수로는 타겟 y 벡터와 판별함수 벡터(혹은 확률 벡터)를 넣는다."
   ]
  },
  {
   "cell_type": "code",
   "execution_count": 21,
   "metadata": {},
   "outputs": [],
   "source": [
    "from sklearn.metrics import roc_curve\n",
    "\n",
    "fpr1, tpr1, thresholds1 = roc_curve(y, model1.decision_function(X))\n",
    "fpr2, tpr2, thresholds1 = roc_curve(y, model2.decision_function(X))\n",
    "# pr1, tpr1, thresholds1 = roc_curve(y, model1.predict_proba(X)[:, 1])\n",
    "# fpr2, tpr2, thresholds1 = roc_curve(y, model2.predict_proba(X)[:, 1])"
   ]
  },
  {
   "cell_type": "code",
   "execution_count": 22,
   "metadata": {},
   "outputs": [
    {
     "data": {
      "image/png": "[encoded data removed]",
      "text/plain": [
       "<matplotlib.figure.Figure at 0x10d18d0f0>"
      ]
     },
     "metadata": {},
     "output_type": "display_data"
    }
   ],
   "source": [
    "plt.plot(fpr1, tpr1, label=\"Logistic Regression\")\n",
    "plt.plot(fpr2, tpr2, label=\"Kernel SVM\")\n",
    "plt.legend()\n",
    "plt.plot([0, 1], [0, 1], 'k--', label=\"random guess\")\n",
    "plt.xlabel('False Positive Rate (Fall-Out)')\n",
    "plt.ylabel('True Positive Rate (Recall)')\n",
    "plt.title('Receiver operating characteristic example')\n",
    "plt.show()"
   ]
  },
  {
   "cell_type": "code",
   "execution_count": null,
   "metadata": {},
   "outputs": [],
   "source": []
  }
 ],
 "metadata": {
  "kernelspec": {
   "display_name": "Python 3",
   "language": "python",
   "name": "python3"
  },
  "language_info": {
   "codemirror_mode": {
    "name": "ipython",
    "version": 3
   },
   "file_extension": ".py",
   "mimetype": "text/x-python",
   "name": "python",
   "nbconvert_exporter": "python",
   "pygments_lexer": "ipython3",
   "version": "3.6.4"
  }
 },
 "nbformat": 4,
 "nbformat_minor": 2
}
