{
 "cells": [
  {
   "cell_type": "markdown",
   "metadata": {},
   "source": [
    "##### 네이버 중고나라 크롤링\n",
    "- http://cafe.naver.com/joonggonara\n",
    "- 중고나라 검색 키워드를 입력받아 판매중인 상품에 대한 제목, 링크, 조회수, 등록날짜, 가격을 크롤링하여 데이터 프레임 만들기\n",
    "- 모바일 페이지를 활용하세요\n",
    "\n",
    "\n",
    "- get_total : 전체 데이터 갯수를 가져오는 함수\n",
    "- get_items : 아이템 리스트를 가져오는 함수\n",
    "- get_price : 상세 페이지에서 가격정보를 가져오는 함수\n",
    "- make_datas : 아이템을 데이터 리스트로 만드는 함수 (판매 중인 데이터만)\n",
    "- all_datas : 키워드를 입력받아 전체 데이터를 가져오는 함수"
   ]
  },
  {
   "cell_type": "code",
   "execution_count": 1,
   "metadata": {},
   "outputs": [],
   "source": [
    "import requests\n",
    "import pandas as pd \n",
    "from bs4 import BeautifulSoup"
   ]
  },
  {
   "cell_type": "code",
   "execution_count": 2,
   "metadata": {},
   "outputs": [
    {
     "data": {
      "text/plain": [
       "'562'"
      ]
     },
     "execution_count": 2,
     "metadata": {},
     "output_type": "execute_result"
    }
   ],
   "source": [
    "# 전체 데이터 갯수를 가져오는 함수\n",
    "def get_total(keyword):\n",
    "    url =\"https://m.cafe.naver.com/ArticleSearchList.nhn?search.query=\"+keyword+\"&search.menuid=&search.searchBy=1&search.sortBy=date&search.clubid=10050146&search.option=0&search.defaultValue=1\"\n",
    "    response = requests.get(url)\n",
    "    dom = BeautifulSoup(response.content, \"html.parser\")\n",
    "    keyword = dom.select_one('#ct > div.search_contents > div.search_sort > div.sort_l > span').text\n",
    "    return keyword\n",
    "\n",
    "# 테스트 코드\n",
    "get_total('solo3')"
   ]
  },
  {
   "cell_type": "code",
   "execution_count": 3,
   "metadata": {},
   "outputs": [],
   "source": [
    "# 아이템 리스트를 가져오는 함수\n",
    "def get_items(keyword, page):\n",
    "    url = 'https://m.cafe.naver.com/ArticleSearchListAjax.nhn?search.query='+keyword+'&search.menuid=&search.searchBy=1&search.sortBy=date&search.clubid=10050146&search.option=0&search.defaultValue=&search.page='+str(page)\n",
    "    response = requests.get(url)\n",
    "    dom = BeautifulSoup(response.content, \"html.parser\")\n",
    "    return dom.select('ul li')\n",
    "\n",
    "# 테스트 코드\n",
    "items = get_items(\"트레이더스 에어프라이어\", 1)    \n",
    "#len(items)"
   ]
  },
  {
   "cell_type": "code",
   "execution_count": 5,
   "metadata": {},
   "outputs": [
    {
     "ename": "AttributeError",
     "evalue": "'NoneType' object has no attribute 'copy'",
     "output_type": "error",
     "traceback": [
      "\u001b[0;31m--\u001b[0m",
      "\u001b[0;31mAttributeError\u001b[0mTraceback (most recent call last)",
      "\u001b[0;32m<ipython-input-5-57d040913b86>\u001b[0m in \u001b[0;36m<module>\u001b[0;34m()\u001b[0m\n\u001b[1;32m     13\u001b[0m \u001b[0;31m# 테스트 코드\u001b[0m\u001b[0;34m\u001b[0m\u001b[0;34m\u001b[0m\u001b[0m\n\u001b[1;32m     14\u001b[0m \u001b[0mlink\u001b[0m \u001b[0;34m=\u001b[0m \u001b[0;34m\"https://m.cafe.naver.com/ArticleRead.nhn?clubid=10050146&menuid=451&articleid=455147331&query=%ED%8A%B8%EB%A0%88%EC%9D%B4%EB%8D%94%EC%8A%A4+%EC%97%90%EC%96%B4%ED%94%84%EB%9D%BC%EC%9D%B4%EC%96%B4\"\u001b[0m\u001b[0;34m\u001b[0m\u001b[0m\n\u001b[0;32m---> 15\u001b[0;31m \u001b[0mget_price\u001b[0m\u001b[0;34m(\u001b[0m\u001b[0mlink\u001b[0m\u001b[0;34m)\u001b[0m\u001b[0;34m\u001b[0m\u001b[0m\n\u001b[0m",
      "\u001b[0;32m<ipython-input-5-57d040913b86>\u001b[0m in \u001b[0;36mget_price\u001b[0;34m(link)\u001b[0m\n\u001b[1;32m      7\u001b[0m     \u001b[0mresponse\u001b[0m \u001b[0;34m=\u001b[0m \u001b[0mrequests\u001b[0m\u001b[0;34m.\u001b[0m\u001b[0mget\u001b[0m\u001b[0;34m(\u001b[0m\u001b[0mlink\u001b[0m\u001b[0;34m,\u001b[0m \u001b[0mheaders\u001b[0m \u001b[0;34m=\u001b[0m\u001b[0mheaders\u001b[0m\u001b[0;34m)\u001b[0m\u001b[0;34m\u001b[0m\u001b[0m\n\u001b[1;32m      8\u001b[0m     \u001b[0mdom\u001b[0m \u001b[0;34m=\u001b[0m \u001b[0mBeautifulSoup\u001b[0m\u001b[0;34m(\u001b[0m\u001b[0mresponse\u001b[0m\u001b[0;34m.\u001b[0m\u001b[0mcontent\u001b[0m\u001b[0;34m,\u001b[0m \u001b[0;34m\"html.parser\"\u001b[0m\u001b[0;34m)\u001b[0m\u001b[0;34m\u001b[0m\u001b[0m\n\u001b[0;32m----> 9\u001b[0;31m     \u001b[0mr\u001b[0m \u001b[0;34m=\u001b[0m \u001b[0mdom\u001b[0m\u001b[0;34m.\u001b[0m\u001b[0mselect_one\u001b[0m\u001b[0;34m(\u001b[0m\u001b[0;34m\".price em\"\u001b[0m\u001b[0;34m)\u001b[0m\u001b[0;34m.\u001b[0m\u001b[0mcopy\u001b[0m\u001b[0;34m(\u001b[0m\u001b[0;34m)\u001b[0m\u001b[0;34m\u001b[0m\u001b[0m\n\u001b[0m\u001b[1;32m     10\u001b[0m     \u001b[0mprint\u001b[0m\u001b[0;34m(\u001b[0m\u001b[0mr\u001b[0m\u001b[0;34m)\u001b[0m\u001b[0;34m\u001b[0m\u001b[0m\n\u001b[1;32m     11\u001b[0m     \u001b[0;32mreturn\u001b[0m \u001b[0mr\u001b[0m\u001b[0;34m\u001b[0m\u001b[0m\n",
      "\u001b[0;31mAttributeError\u001b[0m: 'NoneType' object has no attribute 'copy'"
     ]
    }
   ],
   "source": [
    "# 상세 페이지에서 가격정보를 가져오는 함수\n",
    "def get_price(link):\n",
    "    headers ={\n",
    "        #Network >(새로고침)> Header > cookie\n",
    "        'cookie':'npic=LCdy+snok2PM8KxfcsOX+j0KU3r6Px7CyjC5aBNCYXFyxLXTWDldKcA7Yde7FOd1CA==; NNB=YSKIWGWF5CHVU; nx_ssl=2; nci4=0c38dff3e5aec47429c780979a68176ecf946a80d48f7db36ea4bf4fc65aa701932dee35b43ba4aefe520ec570d150ad74532734d8e3fbdcc82bbd509fa03ddb82cdbeb190b784a2b4bb9eb98fc3aca783ab98d7a0af8aada2ed9e96b295a889919da483b0fdf8f9f9faf7f6f0818cd4f0c18886ea848385ec819cf18299a9; ncvid=#vid#_121.130.43.30Bgo; nid_inf=269055108; NID_AUT=1ewoQB99dlLYmH4jjYRaDxtWnscS0QFezXyWuEoeP4B5msFVsq825zfSewdlOEKE; NID_SES=AAABlKxcsoDxDH85h6FzbOXY66EYOPbK4voLwA/ZdVCccHoA8CfufAUf76Tx5E8wURF1MGeiW9K1FlfzWAtPz7HcpPCz4TxinFVxSJqlPONpXcFTQlnBGRNAUEXcAwJL1ahHRlOPkPz9vVTZstsy3gDrsdePK1lf9gNwpamhijl+oFYH2CZoOaIG7w+WMnaxdWLEZGFtqwdZ/djyGzFbi+6jnOqCU0W6iBb5PgQ24WCp/hERucPDAMHJdM5bZHLHGmkYax1kvUdp/l4WkN58sLEkVr273aDdZH+uuKlo1zFOvMN5jKus6BPRGg6QsWD38m6uypqktcw9WKxmGaD2lODDgL275FX5/Lf6EscWK2Aypo22wocX0ud3nsnDospm9x+p1IALFcvsX92nLytKjJeKK1sYIEsEJRGZmEzi7kKy1VY7Q6Zt/Xa5/Ob3GwI2CYt3+IgAX3Juj88FrZbs4BzuZQaS97lv9pTBRqOpWUWro51Vz/7s4n2XOGX36Nt+HrivBUkAar61fAq34l47l+pnl7pmFQjjRQ8C4P03QI93+tJd; rmvc=10050146; cafeCookieToken=5KCBru-K8k-5k3qrsE--YAm3EzStQEqJbYsVCY4l76NYLzkBpMcROlNEB8yFUJfFcWQzeVexrvb1TxM6J1plDIyqytu3pim9; ncu=8bb9426d6a2f41dcf93f78791f9eca945b48; ncvc2=7616eeca9ea8a91830cfb182bc44245ae7a855c5b5e94b8b76b28a59e1c726f526da1ede1c20ba99ea7d5787199b2ac41c260b0eebd3ffcbf83d9e4786b20bd1a5b9a4a2a3a2aaa4a9aff8; personaconmain|hosuano=EAE11B32508CF3CE53C6AF7D8EFDCCF97F1875BE06FE8200; personacon|hosuano=1DC2C63318DA1752C66E81E55DBF28C18F45C1D341C654221622606E4D5695D7; JSESSIONID=71458333EE4B0FB472502B0ED3B5FB61; BMR='\n",
    "    }\n",
    "    response = requests.get(link, headers =headers)\n",
    "    dom = BeautifulSoup(response.content, \"html.parser\")\n",
    "    r = dom.select_one(\".price em\").copy()\n",
    "    print(r)\n",
    "    return r\n",
    "    \n",
    "# 테스트 코드\n",
    "link = \"https://m.cafe.naver.com/ArticleRead.nhn?clubid=10050146&menuid=451&articleid=455147331&query=%ED%8A%B8%EB%A0%88%EC%9D%B4%EB%8D%94%EC%8A%A4+%EC%97%90%EC%96%B4%ED%94%84%EB%9D%BC%EC%9D%B4%EC%96%B4\"\n",
    "get_price(link)"
   ]
  },
  {
   "cell_type": "code",
   "execution_count": 9,
   "metadata": {},
   "outputs": [
    {
     "data": {
      "text/plain": [
       "13"
      ]
     },
     "execution_count": 9,
     "metadata": {},
     "output_type": "execute_result"
    }
   ],
   "source": [
    "# 아이템을 데이터 리스트로 만드는 함수\n",
    "def make_datas(items):\n",
    "    datas = []\n",
    "    for item in items:\n",
    "        #판매중인지 판단\n",
    "        try:\n",
    "            sell = item.select_one(\".icon_txt\").text\n",
    "            if sell == \"완료\":\n",
    "                continue\n",
    "        except:\n",
    "            continue\n",
    "        \n",
    "        title = item.select_one(\"h3\").text\n",
    "        link = 'https://m.cafe.naver.com/' + item.select_one(\"a\").attrs[\"href\"]\n",
    "        view = item.select_one(\".no em\").text\n",
    "        date = item.select_one(\".time\").text\n",
    "        price = get_price(link)\n",
    "        \n",
    "        datas.append([title, link, view, date, price])\n",
    "    return datas\n",
    "\n",
    "# 테스트 코드\n",
    "datas = make_datas(items)\n",
    "len(datas)"
   ]
  },
  {
   "cell_type": "code",
   "execution_count": 10,
   "metadata": {},
   "outputs": [
    {
     "data": {
      "text/plain": [
       "[['삼성 미러리스 카메라 nx 300m 화이트 번들셋 판매',\n",
       "  'https://m.cafe.naver.com//ArticleRead.nhn?clubid=10050146&menuid=757&articleid=455675371&query=%EC%B9%B4%EB%A9%94%EB%9D%BC',\n",
       "  '9',\n",
       "  '19:37',\n",
       "  None],\n",
       " ['소니 미러리스 카메라 nex 5t 화이트 단렌즈셋 판매',\n",
       "  'https://m.cafe.naver.com//ArticleRead.nhn?clubid=10050146&menuid=757&articleid=455675339&query=%EC%B9%B4%EB%A9%94%EB%9D%BC',\n",
       "  '8',\n",
       "  '19:37',\n",
       "  None],\n",
       " ['핫셀블라드 필름카메라,503cx외 렌즈들',\n",
       "  'https://m.cafe.naver.com//ArticleRead.nhn?clubid=10050146&menuid=396&articleid=455674368&query=%EC%B9%B4%EB%A9%94%EB%9D%BC',\n",
       "  '16',\n",
       "  '19:33',\n",
       "  None],\n",
       " ['캐논 카메라 익서스 510 HS 판매합니다. 빠른 입금 160,000',\n",
       "  'https://m.cafe.naver.com//ArticleRead.nhn?clubid=10050146&menuid=464&articleid=455672729&query=%EC%B9%B4%EB%A9%94%EB%9D%BC',\n",
       "  '5',\n",
       "  '19:26',\n",
       "  <em>180,000</em>],\n",
       " ['벤츠후방카메라팝니다',\n",
       "  'https://m.cafe.naver.com//ArticleRead.nhn?clubid=10050146&menuid=473&articleid=455672436&query=%EC%B9%B4%EB%A9%94%EB%9D%BC',\n",
       "  '1',\n",
       "  '19:25',\n",
       "  None],\n",
       " ['핀란드브랜드 골라 카메라가방 미사용 정품 G1362',\n",
       "  'https://m.cafe.naver.com//ArticleRead.nhn?clubid=10050146&menuid=400&articleid=455672022&query=%EC%B9%B4%EB%A9%94%EB%9D%BC',\n",
       "  '5',\n",
       "  '19:24',\n",
       "  None],\n",
       " ['후지 방수카메라 xp90 라임색',\n",
       "  'https://m.cafe.naver.com//ArticleRead.nhn?clubid=10050146&menuid=395&articleid=455671247&query=%EC%B9%B4%EB%A9%94%EB%9D%BC',\n",
       "  '8',\n",
       "  '19:20',\n",
       "  None],\n",
       " ['미놀타 필름카메라 460Tx',\n",
       "  'https://m.cafe.naver.com//ArticleRead.nhn?clubid=10050146&menuid=396&articleid=455671133&query=%EC%B9%B4%EB%A9%94%EB%9D%BC',\n",
       "  '8',\n",
       "  '19:20',\n",
       "  None],\n",
       " ['중고 카메라 팝니다 PRAKTICA MTL5B',\n",
       "  'https://m.cafe.naver.com//ArticleRead.nhn?clubid=10050146&menuid=396&articleid=455669586&query=%EC%B9%B4%EB%A9%94%EB%9D%BC',\n",
       "  '15',\n",
       "  '19:14',\n",
       "  None],\n",
       " ['아이폰7- A급 실버 카메라무음 32GB 본체만 42만 팝니다',\n",
       "  'https://m.cafe.naver.com//ArticleRead.nhn?clubid=10050146&menuid=425&articleid=455669425&query=%EC%B9%B4%EB%A9%94%EB%9D%BC',\n",
       "  '3',\n",
       "  '19:13',\n",
       "  <em>420,000</em>],\n",
       " ['초고화질 후방카메라 판매합니다. 미개봉 새상품 택배가능합니다. 출장장착가능',\n",
       "  'https://m.cafe.naver.com//ArticleRead.nhn?clubid=10050146&menuid=475&articleid=455669198&query=%EC%B9%B4%EB%A9%94%EB%9D%BC',\n",
       "  '6',\n",
       "  '19:12',\n",
       "  None],\n",
       " ['Ulefone S7(듀얼카메라 스마트폰) 미사용[가개통] 5만 팝니다',\n",
       "  'https://m.cafe.naver.com//ArticleRead.nhn?clubid=10050146&menuid=339&articleid=455666989&query=%EC%B9%B4%EB%A9%94%EB%9D%BC',\n",
       "  '4',\n",
       "  '19:03',\n",
       "  None],\n",
       " ['삼성렌즈 팔아요. 30mm , 16-50mm 삼성카메라렌즈',\n",
       "  'https://m.cafe.naver.com//ArticleRead.nhn?clubid=10050146&menuid=464&articleid=455666871&query=%EC%B9%B4%EB%A9%94%EB%9D%BC',\n",
       "  '7',\n",
       "  '19:02',\n",
       "  None],\n",
       " ['DIY 초소형 스파이카메라 팝니다',\n",
       "  'https://m.cafe.naver.com//ArticleRead.nhn?clubid=10050146&menuid=406&articleid=455666668&query=%EC%B9%B4%EB%A9%94%EB%9D%BC',\n",
       "  '3',\n",
       "  '19:02',\n",
       "  None],\n",
       " ['DIY 초소형 스파이카메라 팝니다',\n",
       "  'https://m.cafe.naver.com//ArticleRead.nhn?clubid=10050146&menuid=408&articleid=455666249&query=%EC%B9%B4%EB%A9%94%EB%9D%BC',\n",
       "  '5',\n",
       "  '19:00',\n",
       "  None],\n",
       " ['DIY 초소형 스파이카메라 팝니다',\n",
       "  'https://m.cafe.naver.com//ArticleRead.nhn?clubid=10050146&menuid=443&articleid=455666023&query=%EC%B9%B4%EB%A9%94%EB%9D%BC',\n",
       "  '5',\n",
       "  '18:59',\n",
       "  None],\n",
       " ['말도안되는 가격의 네비게이션매립 35만원부터(매립,거치네비,룸밀러후방카메라)',\n",
       "  'https://m.cafe.naver.com//ArticleRead.nhn?clubid=10050146&menuid=475&articleid=455665596&query=%EC%B9%B4%EB%A9%94%EB%9D%BC',\n",
       "  '13',\n",
       "  '18:57',\n",
       "  <em>2,000</em>],\n",
       " ['아이폰se 스페이스그레이 카메라무음 64G A급 광주광역시',\n",
       "  'https://m.cafe.naver.com//ArticleRead.nhn?clubid=10050146&menuid=339&articleid=455665321&query=%EC%B9%B4%EB%A9%94%EB%9D%BC',\n",
       "  '29',\n",
       "  '18:56',\n",
       "  None],\n",
       " ['캐논 카메라 60D/18-55/85.8 일괄 판매합니다(부천 직거래)',\n",
       "  'https://m.cafe.naver.com//ArticleRead.nhn?clubid=10050146&menuid=335&articleid=455663531&query=%EC%B9%B4%EB%A9%94%EB%9D%BC',\n",
       "  '25',\n",
       "  '18:49',\n",
       "  None],\n",
       " ['카메라 렌즈 구입합니다. 오막삼 1dx 급구',\n",
       "  'https://m.cafe.naver.com//ArticleRead.nhn?clubid=10050146&menuid=335&articleid=455663388&query=%EC%B9%B4%EB%A9%94%EB%9D%BC',\n",
       "  '10',\n",
       "  '18:49',\n",
       "  <em>2,222</em>]]"
      ]
     },
     "execution_count": 10,
     "metadata": {},
     "output_type": "execute_result"
    }
   ],
   "source": [
    "# 키워드를 입력받아 전체 데이터를 가져오는 함수\n",
    "def all_datas(keyword):\n",
    "    total = get_total(keyword)\n",
    "    pages = int(total)//20 + 1\n",
    "    datas=[]\n",
    "    \n",
    "    for page in range(1,2):\n",
    "        items = get_items(keyword, page)\n",
    "        datas += make_datas(items)\n",
    "    \n",
    "    return datas\n",
    "    \n",
    "    \n",
    "# 테스트 코드\n",
    "datas = all_datas(\"카메라\")\n",
    "datas"
   ]
  },
  {
   "cell_type": "code",
   "execution_count": null,
   "metadata": {},
   "outputs": [],
   "source": []
  }
 ],
 "metadata": {
  "kernelspec": {
   "display_name": "Python 3",
   "language": "python",
   "name": "python3"
  },
  "language_info": {
   "codemirror_mode": {
    "name": "ipython",
    "version": 3
   },
   "file_extension": ".py",
   "mimetype": "text/x-python",
   "name": "python",
   "nbconvert_exporter": "python",
   "pygments_lexer": "ipython3",
   "version": "3.6.4"
  }
 },
 "nbformat": 4,
 "nbformat_minor": 2
}
