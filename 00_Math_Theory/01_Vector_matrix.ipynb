{
 "cells": [
  {
   "cell_type": "markdown",
   "metadata": {},
   "source": [
    "# NumPy를 활용한 선형대수 입문"
   ]
  },
  {
   "cell_type": "markdown",
   "metadata": {},
   "source": [
    "선형대수에서 다루는 데이터는 개수나 형태에 따라 크게 **스칼라(scalar)**, **벡터(vector)**, **행렬(matrix)**의 세 가지 유형으로 나누어진다. 간단하게 말하자면 스칼라는 숫자 하나로 이루어진 데이터이고, 벡터는 여러 개의 숫자로 이루어진 데이터 레코드(data record)이며, 행렬은 이러한 벡터, 즉 데이터 레코드가 여러 개 있는 데이터 집합이라고 볼 수 있다."
   ]
  },
  {
   "cell_type": "markdown",
   "metadata": {},
   "source": [
    "### 스칼라\n",
    "\n",
    "스칼라는 하나의 숫자만으로 이루어진 데이터를 말한다. 스칼라는 보통 $x$와 같이 알파벳 소문자로 표기하며 실수(real number)인 숫자 중의 하나이므로 실수 집합 $\\mathbf{R}$의 원소라는 의미에서 다음처럼 표기한다.\n",
    "\n",
    "$$ x \\in \\mathbf{R} $$"
   ]
  },
  {
   "cell_type": "markdown",
   "metadata": {},
   "source": [
    "### 벡터\n",
    "\n",
    "벡터는 여러 개의 숫자가 특정한 순서대로 모여 있는 것을 말한다. 데이터 묶음을 선형대수에서는 벡터라고 부른다. \n",
    "\n",
    "붓꽃의 예에서는 4개의 데이터 $(x_1, x_2, x_3, x_4)$가 하나로 묶여 있는데 이를 선형 대수 기호로는 다음처럼 하나의 문자 $x$로 표기한다.\n",
    "\n",
    "$$ \n",
    "x = \\begin{bmatrix}\n",
    "x_{1} \\\\\n",
    "x_{2} \\\\\n",
    "x_{3} \\\\\n",
    "x_{4} \\\\\n",
    "\\end{bmatrix}\n",
    "$$\n",
    "\n",
    "이때 벡터는 복수의 가로줄, 즉 행(row)을 가지고 하나의 세로줄, 즉 열(column)을 가지는 형태로 위에서 아래로 내려써서 표기해야 한다.\n",
    "\n",
    "하나의 벡터를 이루는 데이터의 개수를 **차원(dimension)**이라고 한다.\n",
    "\n",
    "$$ x \\in \\mathbf{R}^4 $$\n",
    "\n",
    "만약 4개가 아니라 $N$개의 숫자가 모여 있는 경우의 표기는 다음과 같다.\n",
    "\n",
    "$$ \n",
    "x = \\begin{bmatrix}\n",
    "x_{1} \\\\\n",
    "x_{2} \\\\\n",
    "\\vdots \\\\\n",
    "x_{N} \\\\\n",
    "\\end{bmatrix}\n",
    ",\\;\\;\\;\\;\n",
    "x \\in \\mathbf{R}^N\n",
    "$$"
   ]
  },
  {
   "cell_type": "code",
   "execution_count": 2,
   "metadata": {},
   "outputs": [
    {
     "data": {
      "text/plain": [
       "array([[5.1],\n",
       "       [3.5],\n",
       "       [1.4],\n",
       "       [0.2]])"
      ]
     },
     "execution_count": 2,
     "metadata": {},
     "output_type": "execute_result"
    }
   ],
   "source": [
    "x1 = np.array([[5.1], [3.5], [1.4], [0.2]])\n",
    "x1"
   ]
  },
  {
   "cell_type": "markdown",
   "metadata": {},
   "source": [
    "### 행렬\n",
    "\n",
    "행렬은 복수의 차원을 가지는 데이터 레코드가 다시 여러 개 있는 경우의 데이터를 합쳐서 표기한 것이다. "
   ]
  },
  {
   "cell_type": "code",
   "execution_count": 1,
   "metadata": {},
   "outputs": [
    {
     "name": "stderr",
     "output_type": "stream",
     "text": [
      "UsageError: Cell magic `%%tikz` not found.\n"
     ]
    }
   ],
   "source": [
    "%%tikz -l matrix,fit,calc -f png -s 1200,200 --scale=0.9\n",
    "\n",
    "\\path (-3,-1) grid (12,1);\n",
    "\\node (lhs) (0,0) {$X$ =}; \n",
    "\\matrix (X) at (3,0) [matrix of math nodes,left delimiter={[},right delimiter={]}]\n",
    "{\n",
    "x_{1, 1} & x_{1, 2} & x_{1, 3} & x_{1, 4} \\\\\n",
    "x_{2, 1} & x_{2, 2} & x_{2, 3} & x_{2, 4} \\\\\n",
    "x_{3, 1} & x_{3, 2} & x_{3, 3} & x_{3, 4} \\\\\n",
    "x_{4, 1} & x_{4, 2} & x_{4, 3} & x_{4, 4} \\\\\n",
    "x_{5, 1} & x_{5, 2} & x_{5, 3} & x_{5, 4} \\\\\n",
    "x_{6, 1} & x_{6, 2} & x_{6, 3} & x_{6, 4} \\\\\n",
    "};\n",
    "\\node[draw,rectangle,red,very thick,inner sep=0,rounded corners=1pt,\n",
    "      fit={(X-1-1) (X-1-2) (X-1-3) ($(X-1-4)+(0.5cm,0.4cm)$)}] {};"
   ]
  },
  {
   "cell_type": "code",
   "execution_count": null,
   "metadata": {},
   "outputs": [],
   "source": []
  }
 ],
 "metadata": {
  "kernelspec": {
   "display_name": "Python 3",
   "language": "python",
   "name": "python3"
  },
  "language_info": {
   "codemirror_mode": {
    "name": "ipython",
    "version": 3
   },
   "file_extension": ".py",
   "mimetype": "text/x-python",
   "name": "python",
   "nbconvert_exporter": "python",
   "pygments_lexer": "ipython3",
   "version": "3.6.4"
  }
 },
 "nbformat": 4,
 "nbformat_minor": 2
}
