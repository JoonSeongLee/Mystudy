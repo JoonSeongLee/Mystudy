{
 "cells": [
  {
   "cell_type": "markdown",
   "metadata": {},
   "source": [
    "# 3. Function\n",
    "- function structure\n",
    "```\n",
    "def <function_name>(<parameter_name_1>,<parameter_name_2> ...):\n",
    "    code_1\n",
    "    code_2\n",
    "```\n",
    "- parameter & argument\n",
    "- *args\n",
    "- **kwargs\n",
    "- docstring\n",
    "- global (scope)\n",
    "- inner function ( closure )\n",
    "- lambda function\n",
    "- map\n",
    "- filter\n",
    "- reduce\n",
    "- decorlator"
   ]
  },
  {
   "cell_type": "markdown",
   "metadata": {},
   "source": [
    "### parameter & argument\n",
    "- 데이터를 넘길때 넘기는 데이터를 parameter라고 함\n",
    "- 데이터를 받을때 받는 데이터를 argument라고 함"
   ]
  },
  {
   "cell_type": "code",
   "execution_count": 2,
   "metadata": {},
   "outputs": [],
   "source": [
    "def print_func(s): # one parmeter and no return function\n",
    "    print(s)"
   ]
  },
  {
   "cell_type": "code",
   "execution_count": 4,
   "metadata": {},
   "outputs": [
    {
     "name": "stdout",
     "output_type": "stream",
     "text": [
      "fast_campus no_data\n",
      "science data\n"
     ]
    }
   ],
   "source": [
    "def print_func(s1, s2=\"no_data\"): # s2 : set basic parametet(default 값)\n",
    "    print(\"{} {}\".format(s1, s2))\n",
    "    \n",
    "print_func(\"fast_campus\")\n",
    "print_func(s2=\"data\", s1=\"science\") "
   ]
  },
  {
   "cell_type": "markdown",
   "metadata": {},
   "source": [
    "### *args\n",
    "- arguments\n",
    "- 함수에서 여러개의 파라미터를 한꺼번에 받을때 사용\n",
    "- 받는 arguments 데이터는  tuple 데이터 타입  으로 받는다.\n",
    "- `*` 의 의미는 모든 value 를 받는다는 의미"
   ]
  },
  {
   "cell_type": "code",
   "execution_count": 6,
   "metadata": {},
   "outputs": [
    {
     "name": "stdout",
     "output_type": "stream",
     "text": [
      "100\n",
      "70\n",
      "80\n",
      "avg : 83.33\n"
     ]
    }
   ],
   "source": [
    "def avg_func(*args):\n",
    "    for data in args:\n",
    "        print(data)\n",
    "    return sum(args) / len(args)\n",
    "\n",
    "a = avg_func(100, 70, 80)\n",
    "print(\"avg : {}\".format(round(a,2)))"
   ]
  },
  {
   "cell_type": "markdown",
   "metadata": {},
   "source": [
    "### **kwargs\n",
    "- keyword argument\n",
    "- 여러개의 파라미터를 key-value 형태로 받을때 사용\n",
    "- 함수에서 받는 keyword argument의 데이터는 dictionary 데이터 타입으로 받는다\n",
    "- `**` 의 의미는 모든 key, value를 받는 다는 의미"
   ]
  },
  {
   "cell_type": "code",
   "execution_count": 7,
   "metadata": {},
   "outputs": [
    {
     "name": "stdout",
     "output_type": "stream",
     "text": [
      "{'korean': 100, 'english': 70, 'math': 80}\n",
      "<class 'dict'>\n",
      "korean 100\n",
      "english 70\n",
      "math 80\n",
      "avg : 83.33\n"
     ]
    }
   ],
   "source": [
    "def avg_func(**kwargs):             ######   **kwargs는 데이터(아규먼트)가  ''' 키워드 = 값'''  형태로 받을 수 있게 해준다\n",
    "    print(kwargs)\n",
    "    print(type(kwargs))\n",
    "    total, count = 0, 0\n",
    "    for subject, point in kwargs.items():      ###### 키워드 아규먼트를 사용할때 in은    .items() 로 나눈다\n",
    "        print(subject, point)\n",
    "        total += point\n",
    "        count += 1\n",
    "    return total / count\n",
    "\n",
    "a = avg_func(korean=100, english=70, math=80)\n",
    "print(\"avg : {}\".format(round(a,2)))"
   ]
  },
  {
   "cell_type": "markdown",
   "metadata": {},
   "source": [
    "### global\n",
    "- function scope\n",
    "    - locals\n",
    "    - globals\n",
    "- how to change global variable ?"
   ]
  },
  {
   "cell_type": "code",
   "execution_count": 8,
   "metadata": {},
   "outputs": [
    {
     "name": "stdout",
     "output_type": "stream",
     "text": [
      "1\n",
      "10\n"
     ]
    }
   ],
   "source": [
    "gv = 10                       ## 이것은 글로벌 변수\n",
    "def print_gv():\n",
    "    gv=1\n",
    "    print(gv)\n",
    "    \n",
    "print_gv()\n",
    "print(gv)"
   ]
  },
  {
   "cell_type": "code",
   "execution_count": 9,
   "metadata": {},
   "outputs": [
    {
     "name": "stdout",
     "output_type": "stream",
     "text": [
      "{'__name__': '__main__', '__doc__': 'Automatically created module for IPython interactive environment', '__package__': None, '__loader__': None, '__spec__': None, '__builtin__': <module 'builtins' (built-in)>, '__builtins__': <module 'builtins' (built-in)>, '_ih': ['', 'parameter & argument\\n데이터를 넘길때 넘기는 데이터를 parameter라고 함\\n데이터를 받을때 받는 데이터를 argument라고 함', 'def print_func(s): # one parmeter and no return function\\n    print(s)', 'def print_func(s1, s2=\"no_data\"): # s2 : set basic parameter      ##############받은게 없으면 이걸로 사용###############\\n    print(\"{} {}\".format(s1, s2))', 'def print_func(s1, s2=\"no_data\"): # s2 : set basic parameter      ##############받은게 없으면 이걸로 사용###############\\n    print(\"{} {}\".format(s1, s2))\\nprint_func(\"fast_campus\")\\nprint_func(s2=\"data\", s1=\"science\") ', 'def avg_func(*args):\\n    for data in args:\\n        print(data)\\n    return sum(args) / len(args)\\na = avg_func(100, 70, 80)\\nprint(\"avg : {}\".format(round(a,2)))', 'def avg_func(*args):\\n    for data in args:\\n        print(data)\\n    return sum(args) / len(args)\\n\\na = avg_func(100, 70, 80)\\nprint(\"avg : {}\".format(round(a,2)))', 'def avg_func(**kwargs):             ######   **kwargs는 데이터(아규먼트)가  \\'\\'\\' 키워드 = 값\\'\\'\\'  형태로 받을 수 있게 해준다\\n    print(kwargs)\\n    print(type(kwargs))\\n    total, count = 0, 0\\n    for subject, point in kwargs.items():      ###### 키워드 아규먼트를 사용할때 in은    .items() 로 나눈다\\n        print(subject, point)\\n        total += point\\n        count += 1\\n    return total / count\\n\\na = avg_func(korean=100, english=70, math=80)\\nprint(\"avg : {}\".format(round(a,2)))', 'gv = 10                       ## 이것은 글로벌 변수\\ndef print_gv():\\n    gv=1\\n    print(gv)\\n    \\nprint_gv()\\nprint(gv)', 'print(globals())'], '_oh': {}, '_dh': ['/Users/hosua/Documents/summary_study/python'], 'In': ['', 'parameter & argument\\n데이터를 넘길때 넘기는 데이터를 parameter라고 함\\n데이터를 받을때 받는 데이터를 argument라고 함', 'def print_func(s): # one parmeter and no return function\\n    print(s)', 'def print_func(s1, s2=\"no_data\"): # s2 : set basic parameter      ##############받은게 없으면 이걸로 사용###############\\n    print(\"{} {}\".format(s1, s2))', 'def print_func(s1, s2=\"no_data\"): # s2 : set basic parameter      ##############받은게 없으면 이걸로 사용###############\\n    print(\"{} {}\".format(s1, s2))\\nprint_func(\"fast_campus\")\\nprint_func(s2=\"data\", s1=\"science\") ', 'def avg_func(*args):\\n    for data in args:\\n        print(data)\\n    return sum(args) / len(args)\\na = avg_func(100, 70, 80)\\nprint(\"avg : {}\".format(round(a,2)))', 'def avg_func(*args):\\n    for data in args:\\n        print(data)\\n    return sum(args) / len(args)\\n\\na = avg_func(100, 70, 80)\\nprint(\"avg : {}\".format(round(a,2)))', 'def avg_func(**kwargs):             ######   **kwargs는 데이터(아규먼트)가  \\'\\'\\' 키워드 = 값\\'\\'\\'  형태로 받을 수 있게 해준다\\n    print(kwargs)\\n    print(type(kwargs))\\n    total, count = 0, 0\\n    for subject, point in kwargs.items():      ###### 키워드 아규먼트를 사용할때 in은    .items() 로 나눈다\\n        print(subject, point)\\n        total += point\\n        count += 1\\n    return total / count\\n\\na = avg_func(korean=100, english=70, math=80)\\nprint(\"avg : {}\".format(round(a,2)))', 'gv = 10                       ## 이것은 글로벌 변수\\ndef print_gv():\\n    gv=1\\n    print(gv)\\n    \\nprint_gv()\\nprint(gv)', 'print(globals())'], 'Out': {}, 'get_ipython': <bound method InteractiveShell.get_ipython of <ipykernel.zmqshell.ZMQInteractiveShell object at 0x10ce634a8>>, 'exit': <IPython.core.autocall.ZMQExitAutocall object at 0x10ceacf60>, 'quit': <IPython.core.autocall.ZMQExitAutocall object at 0x10ceacf60>, '_': '', '__': '', '___': '', 'np': <module 'numpy' from '/usr/local/lib/python3.6/site-packages/numpy/__init__.py'>, 'pd': <module 'pandas' from '/usr/local/lib/python3.6/site-packages/pandas/__init__.py'>, 'mpl': <module 'matplotlib' from '/usr/local/lib/python3.6/site-packages/matplotlib/__init__.py'>, 'plt': <module 'matplotlib.pyplot' from '/usr/local/lib/python3.6/site-packages/matplotlib/pyplot.py'>, 'sns': <module 'seaborn' from '/usr/local/lib/python3.6/site-packages/seaborn/__init__.py'>, '_i': 'gv = 10                       ## 이것은 글로벌 변수\\ndef print_gv():\\n    gv=1\\n    print(gv)\\n    \\nprint_gv()\\nprint(gv)', '_ii': 'def avg_func(**kwargs):             ######   **kwargs는 데이터(아규먼트)가  \\'\\'\\' 키워드 = 값\\'\\'\\'  형태로 받을 수 있게 해준다\\n    print(kwargs)\\n    print(type(kwargs))\\n    total, count = 0, 0\\n    for subject, point in kwargs.items():      ###### 키워드 아규먼트를 사용할때 in은    .items() 로 나눈다\\n        print(subject, point)\\n        total += point\\n        count += 1\\n    return total / count\\n\\na = avg_func(korean=100, english=70, math=80)\\nprint(\"avg : {}\".format(round(a,2)))', '_iii': 'def avg_func(*args):\\n    for data in args:\\n        print(data)\\n    return sum(args) / len(args)\\n\\na = avg_func(100, 70, 80)\\nprint(\"avg : {}\".format(round(a,2)))', '_i1': 'parameter & argument\\n데이터를 넘길때 넘기는 데이터를 parameter라고 함\\n데이터를 받을때 받는 데이터를 argument라고 함', '_i2': 'def print_func(s): # one parmeter and no return function\\n    print(s)', 'print_func': <function print_func at 0x1124a4620>, '_i3': 'def print_func(s1, s2=\"no_data\"): # s2 : set basic parameter      ##############받은게 없으면 이걸로 사용###############\\n    print(\"{} {}\".format(s1, s2))', '_i4': 'def print_func(s1, s2=\"no_data\"): # s2 : set basic parameter      ##############받은게 없으면 이걸로 사용###############\\n    print(\"{} {}\".format(s1, s2))\\nprint_func(\"fast_campus\")\\nprint_func(s2=\"data\", s1=\"science\") ', '_i5': 'def avg_func(*args):\\n    for data in args:\\n        print(data)\\n    return sum(args) / len(args)\\na = avg_func(100, 70, 80)\\nprint(\"avg : {}\".format(round(a,2)))', 'avg_func': <function avg_func at 0x112524d90>, 'a': 83.33333333333333, '_i6': 'def avg_func(*args):\\n    for data in args:\\n        print(data)\\n    return sum(args) / len(args)\\n\\na = avg_func(100, 70, 80)\\nprint(\"avg : {}\".format(round(a,2)))', '_i7': 'def avg_func(**kwargs):             ######   **kwargs는 데이터(아규먼트)가  \\'\\'\\' 키워드 = 값\\'\\'\\'  형태로 받을 수 있게 해준다\\n    print(kwargs)\\n    print(type(kwargs))\\n    total, count = 0, 0\\n    for subject, point in kwargs.items():      ###### 키워드 아규먼트를 사용할때 in은    .items() 로 나눈다\\n        print(subject, point)\\n        total += point\\n        count += 1\\n    return total / count\\n\\na = avg_func(korean=100, english=70, math=80)\\nprint(\"avg : {}\".format(round(a,2)))', '_i8': 'gv = 10                       ## 이것은 글로벌 변수\\ndef print_gv():\\n    gv=1\\n    print(gv)\\n    \\nprint_gv()\\nprint(gv)', 'gv': 10, 'print_gv': <function print_gv at 0x112524378>, '_i9': 'print(globals())'}\n"
     ]
    }
   ],
   "source": [
    "print(globals())"
   ]
  },
  {
   "cell_type": "markdown",
   "metadata": {},
   "source": [
    "### lambda function\n",
    "- anonymous function"
   ]
  },
  {
   "cell_type": "code",
   "execution_count": 18,
   "metadata": {},
   "outputs": [
    {
     "data": {
      "text/plain": [
       "11"
      ]
     },
     "execution_count": 18,
     "metadata": {},
     "output_type": "execute_result"
    }
   ],
   "source": [
    "sum_func2 = lambda x, y : x + y      #  함수명 = lambda 파라미터 : 리턴\n",
    "sum_func2(5,6)"
   ]
  },
  {
   "cell_type": "code",
   "execution_count": 19,
   "metadata": {},
   "outputs": [
    {
     "data": {
      "text/plain": [
       "12"
      ]
     },
     "execution_count": 19,
     "metadata": {},
     "output_type": "execute_result"
    }
   ],
   "source": [
    "def sum_func(f, x, y):\n",
    "    return f(x,y)\n",
    "sum_func(lambda x,y:x+y, 5, 7)"
   ]
  },
  {
   "cell_type": "markdown",
   "metadata": {},
   "source": [
    "### map\n",
    "- map은 함수와 반복가능한 자료형을 받아 각 요소가 함수에 의해 수행된 결과를 리스트 형태의 자료형으로 리턴하는 함수\n",
    "- map(f, iterable) 형태로 사용 (f: 함수, iterable: 반복가능한 자료형)\n",
    "- 각 요소별로 반복문을 만들어서 "
   ]
  },
  {
   "cell_type": "code",
   "execution_count": 22,
   "metadata": {},
   "outputs": [
    {
     "data": {
      "text/plain": [
       "[3, 4, 5, 6, 7, 8, 9, 10, 11]"
      ]
     },
     "execution_count": 22,
     "metadata": {},
     "output_type": "execute_result"
    }
   ],
   "source": [
    "# def sum_two_map(number):\n",
    "#     return number + 2\n",
    "numberList = range(1,10)\n",
    "list(map(lambda x:x+2, numberList))         #   map(함수, 값) "
   ]
  },
  {
   "cell_type": "code",
   "execution_count": 27,
   "metadata": {},
   "outputs": [
    {
     "data": {
      "text/plain": [
       "['Kim kildong : 11',\n",
       " 'Lee jeawoo : 10',\n",
       " 'Park sangjin : 12',\n",
       " 'Kim kilsoo : 10',\n",
       " 'Lee sungsim : 11']"
      ]
     },
     "execution_count": 27,
     "metadata": {},
     "output_type": "execute_result"
    }
   ],
   "source": [
    "nameList = [\"Kim kildong\", \"Lee jeawoo\", \"Park sangjin\", \"Kim kilsoo\", \"Lee sungsim\"]\n",
    "# map을 이용하여 이름과 이름의 글자수를 출력하는 코드작성\n",
    "list(map(lambda name: name + \" : \" + str(len(name)), nameList))"
   ]
  },
  {
   "cell_type": "markdown",
   "metadata": {},
   "source": [
    "### filter\n",
    "- 특정 조건에 맞는 데이터만 가져오는 함수         \n",
    "- ex) filter(함수( ), 변수값) , 사용함수는 boolean을 리턴해야한다, filter은 아규먼트로 들어간 값을 true일때 리턴한다."
   ]
  },
  {
   "cell_type": "code",
   "execution_count": 28,
   "metadata": {},
   "outputs": [
    {
     "data": {
      "text/plain": [
       "[0, 2, 4, 6, 8]"
      ]
     },
     "execution_count": 28,
     "metadata": {},
     "output_type": "execute_result"
    }
   ],
   "source": [
    "numberList = range(10)\n",
    "list(filter(lambda number : number % 2 == 0, numberList))"
   ]
  },
  {
   "cell_type": "markdown",
   "metadata": {},
   "source": [
    "### reduce\n",
    "- 처음 값부터 순차적으로 지정된 함수를 처리해주는 함수"
   ]
  },
  {
   "cell_type": "code",
   "execution_count": 29,
   "metadata": {},
   "outputs": [],
   "source": [
    "from functools import reduce"
   ]
  },
  {
   "cell_type": "code",
   "execution_count": 30,
   "metadata": {},
   "outputs": [
    {
     "data": {
      "text/plain": [
       "15"
      ]
     },
     "execution_count": 30,
     "metadata": {},
     "output_type": "execute_result"
    }
   ],
   "source": [
    "a = [3, 1, 5, 2, 4]\n",
    "reduce(lambda x, y: x + y, a)"
   ]
  },
  {
   "cell_type": "markdown",
   "metadata": {},
   "source": [
    "### decorator\n",
    "- 코드를 바꾸지 않고 사용하고 있는 함수를 수정하고 싶을 때 사용\n",
    "- `*args`, `**kwargs`, 내부함수, 함수인자 사용"
   ]
  },
  {
   "cell_type": "code",
   "execution_count": 31,
   "metadata": {},
   "outputs": [],
   "source": [
    "def disp_func(func):\n",
    "    def new_func(*args, **kwargs):\n",
    "        print(\"running function :\", func.__name__)\n",
    "        print(\"args :\", args)\n",
    "        print(\"kwargs :\", kwargs)\n",
    "        result = func(*args, **kwargs) # running func\n",
    "        print(\"result :\", result)\n",
    "        return result\n",
    "    return new_func"
   ]
  },
  {
   "cell_type": "code",
   "execution_count": 32,
   "metadata": {},
   "outputs": [
    {
     "name": "stdout",
     "output_type": "stream",
     "text": [
      "running function : sum_int2\n",
      "args : (5, 7)\n",
      "kwargs : {}\n",
      "result : 12\n"
     ]
    },
    {
     "data": {
      "text/plain": [
       "12"
      ]
     },
     "execution_count": 32,
     "metadata": {},
     "output_type": "execute_result"
    }
   ],
   "source": [
    "@disp_func                  #######################            @A            A함수의 내용을 B함수도 갖는다 \n",
    "def sum_int2(a, b):          ######################            def B(A): \n",
    "    return a + b\n",
    "sum_int2(5, 7)"
   ]
  },
  {
   "cell_type": "markdown",
   "metadata": {},
   "source": [
    "##### 함수의 실행 시간을 알려주는 decorator"
   ]
  },
  {
   "cell_type": "code",
   "execution_count": 33,
   "metadata": {},
   "outputs": [],
   "source": [
    "import time\n",
    "def timer(func):\n",
    "    def wrapper(*args, **kwargs): # 함수 정의부 packing\n",
    "        print(\"function name :\", func.__name__)\n",
    "        start_time = time.time()\n",
    "        result = func(*args, **kwargs) # 함수 호출부 unpacking\n",
    "        print(\"result :\", result)\n",
    "        end_time = time.time()\n",
    "        print(\"time : {time}\".format(time = end_time - start_time))\n",
    "        return result\n",
    "    return wrapper # 새로운 함수를 만들고, 그 함수를 return 하는 함수 => decorator 함수"
   ]
  },
  {
   "cell_type": "code",
   "execution_count": 34,
   "metadata": {},
   "outputs": [],
   "source": [
    "@timer\n",
    "def sum_func_1(start_number, last_number):\n",
    "    data = range(start_number, last_number + 1)\n",
    "    return sum(data)"
   ]
  },
  {
   "cell_type": "code",
   "execution_count": 35,
   "metadata": {},
   "outputs": [
    {
     "name": "stdout",
     "output_type": "stream",
     "text": [
      "function name : sum_func_1\n",
      "result : 50000005000000\n",
      "time : 0.21099400520324707\n"
     ]
    },
    {
     "data": {
      "text/plain": [
       "50000005000000"
      ]
     },
     "execution_count": 35,
     "metadata": {},
     "output_type": "execute_result"
    }
   ],
   "source": [
    "start_number, last_number = 1, 10000000\n",
    "sum_func_1(start_number, last_number)"
   ]
  },
  {
   "cell_type": "code",
   "execution_count": null,
   "metadata": {},
   "outputs": [],
   "source": []
  }
 ],
 "metadata": {
  "kernelspec": {
   "display_name": "Python 3",
   "language": "python",
   "name": "python3"
  },
  "language_info": {
   "codemirror_mode": {
    "name": "ipython",
    "version": 3
   },
   "file_extension": ".py",
   "mimetype": "text/x-python",
   "name": "python",
   "nbconvert_exporter": "python",
   "pygments_lexer": "ipython3",
   "version": "3.6.4"
  }
 },
 "nbformat": 4,
 "nbformat_minor": 2
}
