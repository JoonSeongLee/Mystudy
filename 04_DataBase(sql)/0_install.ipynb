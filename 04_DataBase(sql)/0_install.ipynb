{
 "cells": [
  {
   "cell_type": "markdown",
   "metadata": {},
   "source": [
    "## install mysql"
   ]
  },
  {
   "cell_type": "markdown",
   "metadata": {},
   "source": [
    "$ brew install mysql"
   ]
  },
  {
   "cell_type": "markdown",
   "metadata": {},
   "source": [
    "#### Additional Configuration & Excute\n",
    "\n",
    " - homebrew가 homebrew/services 저장소를 사용 할 수 있도록 설정\n",
    " \n",
    "> $ brew tap homebrew/services\n",
    " \n",
    " - brew를 통해서 mysql 서비스를 실행\n",
    " \n",
    "> $ brew services start mysql\n",
    "\n",
    " - brew를 통해서 mysql 서비스를 정지\n",
    " \n",
    "> $ brew services stop mysql\n",
    "\n",
    " - brew를 통해서 mysql 서비스를 재시작\n",
    " \n",
    "> $ brew services restart mysql\n",
    "\n",
    " - brew에서 실행하고 있는 서비스 리스트 확인\n",
    " \n",
    "> $ brew services list"
   ]
  },
  {
   "cell_type": "markdown",
   "metadata": {},
   "source": [
    "#### Setting Password\n",
    "\n",
    "- mysql 서비스가 실행되고 있는 상태에서 패스워드를 설정해 줍니다.\n",
    "\n",
    "> $ mysqladmin -u root password [yourpassword]"
   ]
  },
  {
   "cell_type": "markdown",
   "metadata": {},
   "source": [
    "#### connect\n",
    "\n",
    "- 아래의 명령으로 mysql에 접속합니다. 패스워드는 mysql을 설정할때 입력하신 패스워드를 입력하면 됩니다.\n",
    "\n",
    "> $ mysql -u root -p\n",
    "\n",
    "> Enter password: xxxx\n",
    "\n",
    "- 아래와 같은 프롬프트가 뜨면 정상적으로 접속 된것 입니다.\n",
    "\n",
    "> mysql>"
   ]
  },
  {
   "cell_type": "markdown",
   "metadata": {},
   "source": [
    "## Ubuntu"
   ]
  },
  {
   "cell_type": "markdown",
   "metadata": {},
   "source": [
    "#### install\n",
    "\n",
    "- ubuntu 패키지 설치 관리자인 apt 업데이트 및 업그레이드\n",
    "\n",
    "> $ sudo apt update\n",
    "\n",
    "> $ sudo apt upgrade\n",
    "\n",
    "\n",
    "- mysql-server와 mysql-client를 apt로 설치\n",
    "- 설치 중간에 패스워드 입력\n",
    "\n",
    "> $ sudo apt install mysql-server mysql-client\n",
    "\n",
    "- mysql 보안과 관련된 설정 (순서대로 입력해줍니다 # n-n-y-n-y-y)\n",
    "\n",
    "> $ sudo mysql_secure_installation\n",
    "\n",
    "> $ mysql -u root -p\n",
    "\n",
    "\n",
    "#### mysql start & stop & restart & status\n",
    "\n",
    "mysql을 시작하고 종료하고 재시작하고 상태를 확인하는 방법입니다.\n",
    "\n",
    "systemctl : 서비스 관리하는 명령\n",
    "- mysql 시작\n",
    "> $ sudo systemctl start mysql\n",
    "\n",
    "- mysql 종료\n",
    "> $ sudo systemctl stop mysql\n",
    "\n",
    "- mysql 재시작\n",
    "> $ sudo systemctl restart mysql.service\n",
    "\n",
    "- mysql 상태확인\n",
    "> $ sudo systemctl status mysql.service"
   ]
  },
  {
   "cell_type": "markdown",
   "metadata": {},
   "source": [
    "### 외부접속 설정\n",
    "- mysql 설정파일 bind-address = 0.0.0.0 으로 수정\n",
    "\n",
    "> $ sudo vi /etc/mysql/mysql.conf.d/mysqld.cnf\n",
    "\n",
    "bind-address = 0.0.0.0\n",
    "\n",
    "- 외부접속이 허용되도록 mysql 설정\n",
    "\n",
    "> sql> grant all privileges on *.* to root@'%' identified by '<password>';\n",
    "\n",
    "\n",
    "### 포트 활성화\n",
    "AWS 서비스에 들어가서 3306포트를 활성화 시켜 줍니다."
   ]
  },
  {
   "cell_type": "code",
   "execution_count": null,
   "metadata": {},
   "outputs": [],
   "source": []
  }
 ],
 "metadata": {
  "kernelspec": {
   "display_name": "Python 3",
   "language": "python",
   "name": "python3"
  },
  "language_info": {
   "codemirror_mode": {
    "name": "ipython",
    "version": 3
   },
   "file_extension": ".py",
   "mimetype": "text/x-python",
   "name": "python",
   "nbconvert_exporter": "python",
   "pygments_lexer": "ipython3",
   "version": "3.6.4"
  }
 },
 "nbformat": 4,
 "nbformat_minor": 2
}
