{
 "cells": [
  {
   "cell_type": "markdown",
   "metadata": {},
   "source": [
    "### private\n",
    "- mangling : 캡슐화\n",
    "- class 내부변수를 다이렉트로 접근하지 못하게 함\n",
    "- 변수명 앞에 `__`를 붙이면 다이렉트로 접근하지 못함\n",
    "- 완벽한 방법은 아니고 변수명 앞에 `_`(클래스명)을 붙이면 접근이 가능"
   ]
  },
  {
   "cell_type": "code",
   "execution_count": 2,
   "metadata": {},
   "outputs": [],
   "source": [
    "class Person3():\n",
    "    \n",
    "    def __init__(self, input_name):\n",
    "        self.__hidden_name = input_name\n",
    "        \n",
    "    @property \n",
    "    def name(self):\n",
    "        print(\"inside the getter\")\n",
    "        return self.__hidden_name\n",
    "    \n",
    "    @name.setter\n",
    "    def name(self, input_name):\n",
    "        print(\"inside the setter\")\n",
    "        self.__hidden_name = input_name"
   ]
  },
  {
   "cell_type": "code",
   "execution_count": 3,
   "metadata": {},
   "outputs": [
    {
     "name": "stdout",
     "output_type": "stream",
     "text": [
      "inside the getter\n",
      "doojin\n",
      "inside the setter\n",
      "inside the getter\n",
      "shin\n"
     ]
    }
   ],
   "source": [
    "p3 = Person3(\"doojin\")\n",
    "\n",
    "# get\n",
    "print(p3.name)\n",
    "\n",
    "# set\n",
    "p3.name = 'shin'\n",
    "\n",
    "# get\n",
    "print(p3.name)"
   ]
  },
  {
   "cell_type": "code",
   "execution_count": 4,
   "metadata": {},
   "outputs": [
    {
     "data": {
      "text/plain": [
       "'shin'"
      ]
     },
     "execution_count": 4,
     "metadata": {},
     "output_type": "execute_result"
    }
   ],
   "source": [
    "p3._Person3__hidden_name"
   ]
  },
  {
   "cell_type": "markdown",
   "metadata": {},
   "source": [
    "### is a / has a\n",
    "- has a : composition, aggregation"
   ]
  },
  {
   "cell_type": "code",
   "execution_count": 5,
   "metadata": {},
   "outputs": [
    {
     "name": "stdout",
     "output_type": "stream",
     "text": [
      "Doojin pdj1224@gmail.com\n"
     ]
    }
   ],
   "source": [
    "# is a\n",
    "# person5 is a person4\n",
    "# person5는 Persion4 이다. \n",
    "class Person4():\n",
    "    \n",
    "    def __init__(self, name, email):\n",
    "        self.name = name\n",
    "        self.email = email\n",
    "\n",
    "class Person5(Person4):\n",
    "    \n",
    "    def about(self):\n",
    "        print(self.name, self.email)\n",
    "        \n",
    "p5 = Person5(\"Doojin\", \"pdj1224@gmail.com\")\n",
    "p5.about()"
   ]
  },
  {
   "cell_type": "code",
   "execution_count": 6,
   "metadata": {},
   "outputs": [
    {
     "name": "stdout",
     "output_type": "stream",
     "text": [
      "Doojin pdj1224@gmail.com\n"
     ]
    }
   ],
   "source": [
    "# has a\n",
    "# 클래스의 변수를 객체로 받아서 클래스를 선언하는 개념 (클래스는 객체를 가지고 있다.)\n",
    "# 사람은 이름과 이메일을 가지고 있다\n",
    "# person has a name,email\n",
    "# 이 사람의 이름은 Doojin, 메일은 pdj1224@gmail.com을 가지고 있다.\n",
    "class Name():\n",
    "    def __init__(self, name):\n",
    "        self.name_str = name\n",
    "    \n",
    "class Email():\n",
    "    def __init__(self, email):\n",
    "        self.email_str = email\n",
    "    \n",
    "class Person6():\n",
    "    \n",
    "    def __init__(self, name, email):\n",
    "        self.name = name\n",
    "        self.email = email\n",
    "     \n",
    "    def about(self):\n",
    "        print(self.name.name_str, self.email.email_str)\n",
    "\n",
    "a = Name(\"Doojin\")\n",
    "b = Email(\"pdj1224@gmail.com\")\n",
    "p6 = Person6(a, b)\n",
    "p6.about()"
   ]
  },
  {
   "cell_type": "code",
   "execution_count": 7,
   "metadata": {},
   "outputs": [
    {
     "data": {
      "text/plain": [
       "'Doojin'"
      ]
     },
     "execution_count": 7,
     "metadata": {},
     "output_type": "execute_result"
    }
   ],
   "source": [
    "p6.name.name_str"
   ]
  }
 ],
 "metadata": {
  "kernelspec": {
   "display_name": "Python 3",
   "language": "python",
   "name": "python3"
  },
  "language_info": {
   "codemirror_mode": {
    "name": "ipython",
    "version": 3
   },
   "file_extension": ".py",
   "mimetype": "text/x-python",
   "name": "python",
   "nbconvert_exporter": "python",
   "pygments_lexer": "ipython3",
   "version": "3.6.4"
  }
 },
 "nbformat": 4,
 "nbformat_minor": 2
}
