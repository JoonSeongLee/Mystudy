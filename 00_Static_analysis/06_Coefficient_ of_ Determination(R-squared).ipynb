{
 "cells": [
  {
   "cell_type": "markdown",
   "metadata": {},
   "source": [
    "종속 변수의 분산(total sum of square)\n",
    "\n",
    "$$\\text{TSS} = \\sum_i (y_i-\\bar{y})^2 = (y - \\bar{y})^T(y - \\bar{y} )$$\n",
    "<br>\n",
    "\n",
    "예측한 종속 변수의 분산 (explained sum of squares)\n",
    "\n",
    "$$\\text{ESS}=\\sum_i (\\hat{y}_i -\\bar{\\hat{y}})^2 = (\\hat{y} - \\bar{\\hat{y}})^T(\\hat{y} - \\bar{\\hat{y}})$$\n",
    "<br>\n",
    "\n",
    "잔차제곱합(RSS: Residula Sum of Square)\n",
    "\n",
    "$$\\text{RSS}=\\sum_i (y_i - \\hat{y}_i)^2\\ = e^Te$$\n",
    "\n",
    "위 식에서 $\\bar{\\hat{y}}$는 모형 예측값의 평균이다.\n",
    "\n",
    "또한 **ESS는 모형에서 나온 예측값의 움직임의 범위**, **RSS는 잔차의 움직임의 범위, 즉 오차의 크기**를 뜻한다고 볼 수 있다."
   ]
  },
  {
   "cell_type": "markdown",
   "metadata": {},
   "source": [
    "만약 회귀모형이 올바르게 정의되었다면 잔차의 평균이 0이 된다.\n",
    "$$ \\bar{e} = \\bar{y} - \\bar{\\hat{y}} = 0$$\n",
    "\n",
    "$$ \\bar{y} = \\bar{\\hat{y}} $$\n",
    "\n",
    "$$\\text{TSS} = \\text{ESS} + \\text{RSS}$$"
   ]
  },
  {
   "cell_type": "code",
   "execution_count": 7,
   "metadata": {
    "scrolled": true
   },
   "outputs": [
    {
     "name": "stdout",
     "output_type": "stream",
     "text": [
      "TSS =  291345.75789830607\n",
      "ESS =  188589.61349210917\n",
      "RSS =  102754.33755137534\n",
      "ESS + RSS =  291343.9510434845\n",
      "R squared =  0.6473091780922585\n"
     ]
    }
   ],
   "source": [
    "from sklearn.datasets import make_regression\n",
    "import statsmodels.api as sm\n",
    "\n",
    "X0, y, coef = make_regression(n_samples=100, n_features=1, noise=30, coef=True, random_state=0)\n",
    "dfX0 = pd.DataFrame(X0, columns=[\"X\"])\n",
    "dfX = sm.add_constant(dfX0)\n",
    "dfy = pd.DataFrame(y, columns=[\"Y\"])\n",
    "df = pd.concat([dfX, dfy], axis=1)\n",
    "\n",
    "model = sm.OLS.from_formula(\"Y ~ X\", data=df)\n",
    "result = model.fit()\n",
    "print(\"TSS = \", result.uncentered_tss)\n",
    "print(\"ESS = \", result.mse_model)\n",
    "print(\"RSS = \", result.ssr)\n",
    "print(\"ESS + RSS = \", result.mse_model + result.ssr)\n",
    "print(\"R squared = \", result.rsquared)"
   ]
  },
  {
   "cell_type": "markdown",
   "metadata": {},
   "source": [
    "위의 분산 관계식에서 모형의 성능을 나타내는 결정계수(Coefficient of Determination) $R^2$를 정의할 수 있다.\n",
    "\n",
    "$$R^2 \\equiv 1 - \\dfrac{\\text{RSS}}{\\text{TSS}}\\ = \\dfrac{\\text{ESS}}{\\text{TSS}}\\ $$"
   ]
  },
  {
   "cell_type": "markdown",
   "metadata": {},
   "source": [
    "## 분산 분석표\n",
    "\n",
    "NN 은 데이터의 갯수, KK는 모수의 갯수"
   ]
  },
  {
   "cell_type": "markdown",
   "metadata": {},
   "source": [
    "| source | degree of freedom | sum of square | mean square  | F test-statstics | p-value |\n",
    "|-|-|-|-|-|-|\n",
    "| Regression| $$K-1$$ | $$\\text{ESS}$$ | $$s_{\\hat{y}}^2 = \\dfrac{\\text{ESS}}{K-1}$$   | $$F=\\dfrac{s_{\\hat{y}}^2}{s_e^2} $$ | p-value |\n",
    "| Residual | $$N-K$$  | $$\\text{RSS}$$  | $$s_e^2= \\dfrac{\\text{RSS}}{N-K}$$ | |\n",
    "| Total     | $$N-1$$  | $$\\text{TSS}$$ | $$s_y^2= \\dfrac{\\text{TSS}}{N-1}$$ | |\n",
    "| $R^2$   |    |  $$\\text{ESS} / \\text{TSS}$$ |  | |\n"
   ]
  },
  {
   "cell_type": "markdown",
   "metadata": {},
   "source": [
    "## F 검정을 사용한 변수 중요도 비교\n",
    "\n",
    "F 검정은 각 독립변수의 중요도를 비교하기 위해 사용할 수 있다. \n",
    "방법은 전체 모형과 각 변수 하나만을 뺀 모형들의 성능을 비교하는 것이다. 이는 간접적으로 각 독립 변수의 영향력을 측정하는 것과 같다.\n",
    "\n",
    "`anova_lm` 명령에서는 `typ=2`로 지정하여 각 모형에서의 F 검정을 계산할 수 있다."
   ]
  },
  {
   "cell_type": "code",
   "execution_count": 9,
   "metadata": {},
   "outputs": [
    {
     "data": {
      "text/html": [
       "<div>\n",
       "<style scoped>\n",
       "    .dataframe tbody tr th:only-of-type {\n",
       "        vertical-align: middle;\n",
       "    }\n",
       "\n",
       "    .dataframe tbody tr th {\n",
       "        vertical-align: top;\n",
       "    }\n",
       "\n",
       "    .dataframe thead th {\n",
       "        text-align: right;\n",
       "    }\n",
       "</style>\n",
       "<table border=\"1\" class=\"dataframe\">\n",
       "  <thead>\n",
       "    <tr style=\"text-align: right;\">\n",
       "      <th></th>\n",
       "      <th>df_resid</th>\n",
       "      <th>ssr</th>\n",
       "      <th>df_diff</th>\n",
       "      <th>ss_diff</th>\n",
       "      <th>F</th>\n",
       "      <th>Pr(&gt;F)</th>\n",
       "    </tr>\n",
       "  </thead>\n",
       "  <tbody>\n",
       "    <tr>\n",
       "      <th>0</th>\n",
       "      <td>493.0</td>\n",
       "      <td>11322.004277</td>\n",
       "      <td>0.0</td>\n",
       "      <td>NaN</td>\n",
       "      <td>NaN</td>\n",
       "      <td>NaN</td>\n",
       "    </tr>\n",
       "    <tr>\n",
       "      <th>1</th>\n",
       "      <td>492.0</td>\n",
       "      <td>11080.276284</td>\n",
       "      <td>1.0</td>\n",
       "      <td>241.727993</td>\n",
       "      <td>10.733502</td>\n",
       "      <td>0.001126</td>\n",
       "    </tr>\n",
       "  </tbody>\n",
       "</table>\n",
       "</div>"
      ],
      "text/plain": [
       "   df_resid           ssr  df_diff     ss_diff          F    Pr(>F)\n",
       "0     493.0  11322.004277      0.0         NaN        NaN       NaN\n",
       "1     492.0  11080.276284      1.0  241.727993  10.733502  0.001126"
      ]
     },
     "execution_count": 9,
     "metadata": {},
     "output_type": "execute_result"
    }
   ],
   "source": [
    "import warnings\n",
    "warnings.filterwarnings(\"ignore\")\n",
    "from sklearn.datasets import load_boston\n",
    "\n",
    "boston = load_boston()\n",
    "dfX0_boston = pd.DataFrame(boston.data, columns=boston.feature_names)\n",
    "dfy_boston = pd.DataFrame(boston.target, columns=[\"MEDV\"])\n",
    "dfX_boston = sm.add_constant(dfX0_boston)\n",
    "df_boston = pd.concat([dfX_boston, dfy_boston], axis=1)\n",
    "\n",
    "model_full = sm.OLS.from_formula(\"MEDV ~ CRIM + ZN + INDUS + NOX + RM + AGE + DIS + RAD + TAX + PTRATIO + B + LSTAT + CHAS\", data=df_boston)\n",
    "model_reduced = sm.OLS.from_formula(\"MEDV ~ ZN + INDUS + NOX + RM + AGE + DIS + RAD + TAX + PTRATIO + B + LSTAT + CHAS\", data=df_boston)\n",
    "\n",
    "sm.stats.anova_lm(model_reduced.fit(), model_full.fit())"
   ]
  },
  {
   "cell_type": "code",
   "execution_count": 10,
   "metadata": {},
   "outputs": [
    {
     "data": {
      "text/html": [
       "<div>\n",
       "<style scoped>\n",
       "    .dataframe tbody tr th:only-of-type {\n",
       "        vertical-align: middle;\n",
       "    }\n",
       "\n",
       "    .dataframe tbody tr th {\n",
       "        vertical-align: top;\n",
       "    }\n",
       "\n",
       "    .dataframe thead th {\n",
       "        text-align: right;\n",
       "    }\n",
       "</style>\n",
       "<table border=\"1\" class=\"dataframe\">\n",
       "  <thead>\n",
       "    <tr style=\"text-align: right;\">\n",
       "      <th></th>\n",
       "      <th>sum_sq</th>\n",
       "      <th>df</th>\n",
       "      <th>F</th>\n",
       "      <th>PR(&gt;F)</th>\n",
       "    </tr>\n",
       "  </thead>\n",
       "  <tbody>\n",
       "    <tr>\n",
       "      <th>CRIM</th>\n",
       "      <td>241.727993</td>\n",
       "      <td>1.0</td>\n",
       "      <td>10.733502</td>\n",
       "      <td>1.126402e-03</td>\n",
       "    </tr>\n",
       "    <tr>\n",
       "      <th>ZN</th>\n",
       "      <td>257.226157</td>\n",
       "      <td>1.0</td>\n",
       "      <td>11.421671</td>\n",
       "      <td>7.836070e-04</td>\n",
       "    </tr>\n",
       "    <tr>\n",
       "      <th>INDUS</th>\n",
       "      <td>2.591314</td>\n",
       "      <td>1.0</td>\n",
       "      <td>0.115063</td>\n",
       "      <td>7.345971e-01</td>\n",
       "    </tr>\n",
       "    <tr>\n",
       "      <th>NOX</th>\n",
       "      <td>488.605951</td>\n",
       "      <td>1.0</td>\n",
       "      <td>21.695680</td>\n",
       "      <td>4.117296e-06</td>\n",
       "    </tr>\n",
       "    <tr>\n",
       "      <th>RM</th>\n",
       "      <td>1865.902935</td>\n",
       "      <td>1.0</td>\n",
       "      <td>82.852108</td>\n",
       "      <td>2.207486e-18</td>\n",
       "    </tr>\n",
       "    <tr>\n",
       "      <th>AGE</th>\n",
       "      <td>0.072792</td>\n",
       "      <td>1.0</td>\n",
       "      <td>0.003232</td>\n",
       "      <td>9.546859e-01</td>\n",
       "    </tr>\n",
       "    <tr>\n",
       "      <th>DIS</th>\n",
       "      <td>1232.544417</td>\n",
       "      <td>1.0</td>\n",
       "      <td>54.728947</td>\n",
       "      <td>6.017651e-13</td>\n",
       "    </tr>\n",
       "    <tr>\n",
       "      <th>RAD</th>\n",
       "      <td>478.172457</td>\n",
       "      <td>1.0</td>\n",
       "      <td>21.232399</td>\n",
       "      <td>5.189664e-06</td>\n",
       "    </tr>\n",
       "    <tr>\n",
       "      <th>TAX</th>\n",
       "      <td>242.053549</td>\n",
       "      <td>1.0</td>\n",
       "      <td>10.747958</td>\n",
       "      <td>1.117826e-03</td>\n",
       "    </tr>\n",
       "    <tr>\n",
       "      <th>PTRATIO</th>\n",
       "      <td>1195.939414</td>\n",
       "      <td>1.0</td>\n",
       "      <td>53.103567</td>\n",
       "      <td>1.268218e-12</td>\n",
       "    </tr>\n",
       "    <tr>\n",
       "      <th>B</th>\n",
       "      <td>275.903216</td>\n",
       "      <td>1.0</td>\n",
       "      <td>12.250993</td>\n",
       "      <td>5.072875e-04</td>\n",
       "    </tr>\n",
       "    <tr>\n",
       "      <th>LSTAT</th>\n",
       "      <td>2420.118669</td>\n",
       "      <td>1.0</td>\n",
       "      <td>107.461074</td>\n",
       "      <td>6.595808e-23</td>\n",
       "    </tr>\n",
       "    <tr>\n",
       "      <th>CHAS</th>\n",
       "      <td>219.279126</td>\n",
       "      <td>1.0</td>\n",
       "      <td>9.736700</td>\n",
       "      <td>1.912339e-03</td>\n",
       "    </tr>\n",
       "    <tr>\n",
       "      <th>Residual</th>\n",
       "      <td>11080.276284</td>\n",
       "      <td>492.0</td>\n",
       "      <td>NaN</td>\n",
       "      <td>NaN</td>\n",
       "    </tr>\n",
       "  </tbody>\n",
       "</table>\n",
       "</div>"
      ],
      "text/plain": [
       "                sum_sq     df           F        PR(>F)\n",
       "CRIM        241.727993    1.0   10.733502  1.126402e-03\n",
       "ZN          257.226157    1.0   11.421671  7.836070e-04\n",
       "INDUS         2.591314    1.0    0.115063  7.345971e-01\n",
       "NOX         488.605951    1.0   21.695680  4.117296e-06\n",
       "RM         1865.902935    1.0   82.852108  2.207486e-18\n",
       "AGE           0.072792    1.0    0.003232  9.546859e-01\n",
       "DIS        1232.544417    1.0   54.728947  6.017651e-13\n",
       "RAD         478.172457    1.0   21.232399  5.189664e-06\n",
       "TAX         242.053549    1.0   10.747958  1.117826e-03\n",
       "PTRATIO    1195.939414    1.0   53.103567  1.268218e-12\n",
       "B           275.903216    1.0   12.250993  5.072875e-04\n",
       "LSTAT      2420.118669    1.0  107.461074  6.595808e-23\n",
       "CHAS        219.279126    1.0    9.736700  1.912339e-03\n",
       "Residual  11080.276284  492.0         NaN           NaN"
      ]
     },
     "execution_count": 10,
     "metadata": {},
     "output_type": "execute_result"
    }
   ],
   "source": [
    "model_boston = sm.OLS.from_formula(\"MEDV ~ CRIM + ZN + INDUS + NOX + RM + AGE + DIS + RAD + TAX + PTRATIO + B + LSTAT + CHAS\", data=df_boston)\n",
    "result_boston = model_boston.fit()\n",
    "sm.stats.anova_lm(result_boston, typ=2)"
   ]
  },
  {
   "cell_type": "code",
   "execution_count": 14,
   "metadata": {},
   "outputs": [
    {
     "name": "stdout",
     "output_type": "stream",
     "text": [
      "                            OLS Regression Results                            \n",
      "==============================================================================\n",
      "Dep. Variable:                   MEDV   R-squared:                       0.741\n",
      "Model:                            OLS   Adj. R-squared:                  0.734\n",
      "Method:                 Least Squares   F-statistic:                     108.1\n",
      "Date:                Sun, 11 Mar 2018   Prob (F-statistic):          6.95e-135\n",
      "Time:                        18:11:37   Log-Likelihood:                -1498.8\n",
      "No. Observations:                 506   AIC:                             3026.\n",
      "Df Residuals:                     492   BIC:                             3085.\n",
      "Df Model:                          13                                         \n",
      "Covariance Type:            nonrobust                                         \n",
      "==============================================================================\n",
      "                 coef    std err          t      P>|t|      [0.025      0.975]\n",
      "------------------------------------------------------------------------------\n",
      "Intercept     36.4911      5.104      7.149      0.000      26.462      46.520\n",
      "CRIM          -0.1072      0.033     -3.276      0.001      -0.171      -0.043\n",
      "ZN             0.0464      0.014      3.380      0.001       0.019       0.073\n",
      "INDUS          0.0209      0.061      0.339      0.735      -0.100       0.142\n",
      "NOX          -17.7958      3.821     -4.658      0.000     -25.302     -10.289\n",
      "RM             3.8048      0.418      9.102      0.000       2.983       4.626\n",
      "AGE            0.0008      0.013      0.057      0.955      -0.025       0.027\n",
      "DIS           -1.4758      0.199     -7.398      0.000      -1.868      -1.084\n",
      "RAD            0.3057      0.066      4.608      0.000       0.175       0.436\n",
      "TAX           -0.0123      0.004     -3.278      0.001      -0.020      -0.005\n",
      "PTRATIO       -0.9535      0.131     -7.287      0.000      -1.211      -0.696\n",
      "B              0.0094      0.003      3.500      0.001       0.004       0.015\n",
      "LSTAT         -0.5255      0.051    -10.366      0.000      -0.625      -0.426\n",
      "CHAS           2.6886      0.862      3.120      0.002       0.996       4.381\n",
      "==============================================================================\n",
      "Omnibus:                      178.029   Durbin-Watson:                   1.078\n",
      "Prob(Omnibus):                  0.000   Jarque-Bera (JB):              782.015\n",
      "Skew:                           1.521   Prob(JB):                    1.54e-170\n",
      "Kurtosis:                       8.276   Cond. No.                     1.51e+04\n",
      "==============================================================================\n",
      "\n",
      "Warnings:\n",
      "[1] Standard Errors assume that the covariance matrix of the errors is correctly specified.\n",
      "[2] The condition number is large, 1.51e+04. This might indicate that there are\n",
      "strong multicollinearity or other numerical problems.\n"
     ]
    }
   ],
   "source": [
    "print(result_boston.summary())"
   ]
  },
  {
   "cell_type": "markdown",
   "metadata": {},
   "source": [
    "보스턴 집값 자료에서 변수 CHAS의 영향을 분산 분석으로 알아보면 다음과 같다.\n"
   ]
  },
  {
   "cell_type": "code",
   "execution_count": 12,
   "metadata": {},
   "outputs": [
    {
     "data": {
      "image/png": "[encoded data removed]",
      "text/plain": [
       "<matplotlib.figure.Figure at 0x10de7db00>"
      ]
     },
     "metadata": {},
     "output_type": "display_data"
    }
   ],
   "source": [
    "sns.stripplot(x=\"CHAS\", y=\"MEDV\", data=df_boston, jitter=True, alpha=.3)\n",
    "sns.pointplot(x=\"CHAS\", y=\"MEDV\", data=df_boston, dodge=True, color='r')\n",
    "plt.show()"
   ]
  },
  {
   "cell_type": "code",
   "execution_count": null,
   "metadata": {},
   "outputs": [],
   "source": []
  }
 ],
 "metadata": {
  "kernelspec": {
   "display_name": "Python 3",
   "language": "python",
   "name": "python3"
  },
  "language_info": {
   "codemirror_mode": {
    "name": "ipython",
    "version": 3
   },
   "file_extension": ".py",
   "mimetype": "text/x-python",
   "name": "python",
   "nbconvert_exporter": "python",
   "pygments_lexer": "ipython3",
   "version": "3.6.4"
  }
 },
 "nbformat": 4,
 "nbformat_minor": 2
}
