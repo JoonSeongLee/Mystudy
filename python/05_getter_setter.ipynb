{
 "cells": [
  {
   "cell_type": "markdown",
   "metadata": {},
   "source": [
    "## getter,setter\n",
    "- 함수가 아니라 `.`을 통해 클래스 객체의 내부 변수에 접근할수 있도록 한다.\n",
    "- property를 이용한 getter, setter\n",
    "- decorlator를 이용한 getter, setter"
   ]
  },
  {
   "cell_type": "code",
   "execution_count": 4,
   "metadata": {},
   "outputs": [],
   "source": [
    "# property\n",
    "class Person1():\n",
    "    \n",
    "    def __init__(self, input_name):\n",
    "        self.hidden_name = input_name\n",
    "    \n",
    "    def get_name(self):\n",
    "        print(\"inside the getter\")\n",
    "        return self.hidden_name\n",
    "    \n",
    "    def set_name(self, input_name):\n",
    "        print(\"inside the setter\")\n",
    "        self.hidden_name = input_name\n",
    "        \n",
    "    name = property(get_name, set_name)"
   ]
  },
  {
   "cell_type": "code",
   "execution_count": 5,
   "metadata": {},
   "outputs": [
    {
     "name": "stdout",
     "output_type": "stream",
     "text": [
      "inside the getter\n",
      "doojin\n",
      "inside the getter\n",
      "doojin\n",
      "inside the setter\n",
      "inside the setter\n",
      "inside the getter\n",
      "shin2\n",
      "inside the getter\n",
      "shin2\n"
     ]
    }
   ],
   "source": [
    "p1 = Person1(\"doojin\")\n",
    "\n",
    "# get\n",
    "print(p1.name) # property를 이용하여 . 을 통해 객체의 변수를 가져올수 있다.\n",
    "print(p1.get_name())\n",
    "\n",
    "# set\n",
    "# property를 이용하여 . 을 통해 객체의 변수를 설정할수 있다. \n",
    "# property가 설정되어 있지 않으면 클래스 내부 변수가 아니라 그냥 변수로 설정된다.\n",
    "p1.name = 'shin1' \n",
    "p1.set_name('shin2')\n",
    "\n",
    "# get\n",
    "print(p1.name)\n",
    "print(p1.get_name())"
   ]
  },
  {
   "cell_type": "code",
   "execution_count": 7,
   "metadata": {},
   "outputs": [],
   "source": [
    "#decorlator\n",
    "class Person2():\n",
    "    \n",
    "    def __init__(self, input_name):\n",
    "        self.hidden_name = input_name\n",
    "        \n",
    "    @property \n",
    "    def name(self):\n",
    "        print(\"inside the getter\")\n",
    "        return self.hidden_name\n",
    "    \n",
    "    @name.setter\n",
    "    def name(self, input_name):\n",
    "        print(\"inside the setter\")\n",
    "        self.hidden_name = input_name\n",
    "        "
   ]
  },
  {
   "cell_type": "code",
   "execution_count": 8,
   "metadata": {},
   "outputs": [
    {
     "name": "stdout",
     "output_type": "stream",
     "text": [
      "inside the getter\n",
      "doojin\n",
      "inside the setter\n",
      "inside the getter\n",
      "shin\n"
     ]
    }
   ],
   "source": [
    "p2 = Person2(\"doojin\")\n",
    "\n",
    "# get\n",
    "print(p2.name)\n",
    "\n",
    "# set\n",
    "p2.name = 'shin'\n",
    "\n",
    "# get\n",
    "print(p2.name)"
   ]
  },
  {
   "cell_type": "code",
   "execution_count": null,
   "metadata": {},
   "outputs": [],
   "source": []
  }
 ],
 "metadata": {
  "kernelspec": {
   "display_name": "Python 3",
   "language": "python",
   "name": "python3"
  },
  "language_info": {
   "codemirror_mode": {
    "name": "ipython",
    "version": 3
   },
   "file_extension": ".py",
   "mimetype": "text/x-python",
   "name": "python",
   "nbconvert_exporter": "python",
   "pygments_lexer": "ipython3",
   "version": "3.6.4"
  }
 },
 "nbformat": 4,
 "nbformat_minor": 2
}
