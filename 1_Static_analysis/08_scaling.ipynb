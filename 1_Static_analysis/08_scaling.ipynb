{
 "cells": [
  {
   "cell_type": "code",
   "execution_count": 3,
   "metadata": {},
   "outputs": [],
   "source": [
    "import warnings\n",
    "warnings.filterwarnings(\"ignore\")"
   ]
  },
  {
   "cell_type": "markdown",
   "metadata": {},
   "source": [
    "# 스케일링과 변수 변환\n",
    "\n",
    "회귀분석에 사용되는 데이터는 그 자체로 사용하기 보다는 스케일링이나 함수 변환 등의 전처리 과정을 거치는 경우가 많다. 전처리 과정은 공분산 행렬의 조건을 향상시키거나 데이터 간의 관계를 선형 모형에 맞게 바꾸기 위해 사용된다.\n",
    "\n",
    "**조건수**(conditional number)는 공분산 행렬 $X^TX$의 가장 큰 고유치와 가장 작은 고유치의 비율을 뜻한다.\n",
    "\n",
    "$$ \\text{condition number} = \\dfrac{\\lambda_{\\text{max}}}{\\lambda_{\\text{min}}} $$\n",
    "\n"
   ]
  },
  {
   "cell_type": "code",
   "execution_count": 4,
   "metadata": {},
   "outputs": [
    {
     "name": "stdout",
     "output_type": "stream",
     "text": [
      "                            OLS Regression Results                            \n",
      "==============================================================================\n",
      "Dep. Variable:                   MEDV   R-squared:                       0.741\n",
      "Model:                            OLS   Adj. R-squared:                  0.734\n",
      "Method:                 Least Squares   F-statistic:                     108.1\n",
      "Date:                Sun, 11 Mar 2018   Prob (F-statistic):          6.95e-135\n",
      "Time:                        18:56:59   Log-Likelihood:                -1498.8\n",
      "No. Observations:                 506   AIC:                             3026.\n",
      "Df Residuals:                     492   BIC:                             3085.\n",
      "Df Model:                          13                                         \n",
      "Covariance Type:            nonrobust                                         \n",
      "==============================================================================\n",
      "                 coef    std err          t      P>|t|      [0.025      0.975]\n",
      "------------------------------------------------------------------------------\n",
      "Intercept     36.4911      5.104      7.149      0.000      26.462      46.520\n",
      "CRIM          -0.1072      0.033     -3.276      0.001      -0.171      -0.043\n",
      "ZN             0.0464      0.014      3.380      0.001       0.019       0.073\n",
      "INDUS          0.0209      0.061      0.339      0.735      -0.100       0.142\n",
      "NOX          -17.7958      3.821     -4.658      0.000     -25.302     -10.289\n",
      "RM             3.8048      0.418      9.102      0.000       2.983       4.626\n",
      "AGE            0.0008      0.013      0.057      0.955      -0.025       0.027\n",
      "DIS           -1.4758      0.199     -7.398      0.000      -1.868      -1.084\n",
      "RAD            0.3057      0.066      4.608      0.000       0.175       0.436\n",
      "TAX           -0.0123      0.004     -3.278      0.001      -0.020      -0.005\n",
      "PTRATIO       -0.9535      0.131     -7.287      0.000      -1.211      -0.696\n",
      "B              0.0094      0.003      3.500      0.001       0.004       0.015\n",
      "LSTAT         -0.5255      0.051    -10.366      0.000      -0.625      -0.426\n",
      "CHAS           2.6886      0.862      3.120      0.002       0.996       4.381\n",
      "==============================================================================\n",
      "Omnibus:                      178.029   Durbin-Watson:                   1.078\n",
      "Prob(Omnibus):                  0.000   Jarque-Bera (JB):              782.015\n",
      "Skew:                           1.521   Prob(JB):                    1.54e-170\n",
      "Kurtosis:                       8.276   Cond. No.                     1.51e+04\n",
      "==============================================================================\n",
      "\n",
      "Warnings:\n",
      "[1] Standard Errors assume that the covariance matrix of the errors is correctly specified.\n",
      "[2] The condition number is large, 1.51e+04. This might indicate that there are\n",
      "strong multicollinearity or other numerical problems.\n"
     ]
    }
   ],
   "source": [
    "from sklearn.datasets import load_boston\n",
    "import statsmodels.api as sm\n",
    "boston = load_boston()\n",
    "dfX = pd.DataFrame(boston.data, columns=boston.feature_names)\n",
    "dfy = pd.DataFrame(boston.target, columns=[\"MEDV\"])\n",
    "df = pd.concat([dfX, dfy], axis=1)\n",
    "\n",
    "model1 = sm.OLS.from_formula(\"MEDV ~ \"\n",
    "                             \"CRIM + ZN + INDUS + NOX + RM + AGE + \"\n",
    "                             \"DIS + RAD + TAX + PTRATIO + B + LSTAT + CHAS\", \n",
    "                             data=df)\n",
    "result1 = model1.fit()\n",
    "print(result1.summary())"
   ]
  },
  {
   "cell_type": "code",
   "execution_count": 5,
   "metadata": {},
   "outputs": [
    {
     "data": {
      "text/plain": [
       "0    30.008213\n",
       "dtype: float64"
      ]
     },
     "execution_count": 5,
     "metadata": {},
     "output_type": "execute_result"
    }
   ],
   "source": [
    "result1.predict(df[:1])"
   ]
  },
  {
   "cell_type": "markdown",
   "metadata": {},
   "source": [
    "StatsModels에서는 모형지정 문자열에서 scale 명령을 사용하여 스케일링을 할 수 있다. \n",
    "\n",
    "이 방식으로 스케일을 하면 스케일링에 사용된 평균과 표준편차를 저장하였다가 나중에 predict 명령을 사용할 때도 같은 스케일을 사용하기 때문에 편리하다."
   ]
  },
  {
   "cell_type": "code",
   "execution_count": 6,
   "metadata": {},
   "outputs": [
    {
     "name": "stdout",
     "output_type": "stream",
     "text": [
      "                            OLS Regression Results                            \n",
      "==============================================================================\n",
      "Dep. Variable:                   MEDV   R-squared:                       0.741\n",
      "Model:                            OLS   Adj. R-squared:                  0.734\n",
      "Method:                 Least Squares   F-statistic:                     108.1\n",
      "Date:                Sun, 11 Mar 2018   Prob (F-statistic):          6.95e-135\n",
      "Time:                        18:58:34   Log-Likelihood:                -1498.8\n",
      "No. Observations:                 506   AIC:                             3026.\n",
      "Df Residuals:                     492   BIC:                             3085.\n",
      "Df Model:                          13                                         \n",
      "Covariance Type:            nonrobust                                         \n",
      "==================================================================================\n",
      "                     coef    std err          t      P>|t|      [0.025      0.975]\n",
      "----------------------------------------------------------------------------------\n",
      "Intercept         22.3468      0.219    101.936      0.000      21.916      22.778\n",
      "scale(CRIM)       -0.9204      0.281     -3.276      0.001      -1.472      -0.368\n",
      "scale(ZN)          1.0810      0.320      3.380      0.001       0.453       1.709\n",
      "scale(INDUS)       0.1430      0.421      0.339      0.735      -0.685       0.971\n",
      "scale(NOX)        -2.0601      0.442     -4.658      0.000      -2.929      -1.191\n",
      "scale(RM)          2.6706      0.293      9.102      0.000       2.094       3.247\n",
      "scale(AGE)         0.0211      0.371      0.057      0.955      -0.709       0.751\n",
      "scale(DIS)        -3.1044      0.420     -7.398      0.000      -3.929      -2.280\n",
      "scale(RAD)         2.6588      0.577      4.608      0.000       1.525       3.792\n",
      "scale(TAX)        -2.0759      0.633     -3.278      0.001      -3.320      -0.832\n",
      "scale(PTRATIO)    -2.0622      0.283     -7.287      0.000      -2.618      -1.506\n",
      "scale(B)           0.8566      0.245      3.500      0.001       0.376       1.338\n",
      "scale(LSTAT)      -3.7487      0.362    -10.366      0.000      -4.459      -3.038\n",
      "CHAS               2.6886      0.862      3.120      0.002       0.996       4.381\n",
      "==============================================================================\n",
      "Omnibus:                      178.029   Durbin-Watson:                   1.078\n",
      "Prob(Omnibus):                  0.000   Jarque-Bera (JB):              782.015\n",
      "Skew:                           1.521   Prob(JB):                    1.54e-170\n",
      "Kurtosis:                       8.276   Cond. No.                         10.6\n",
      "==============================================================================\n",
      "\n",
      "Warnings:\n",
      "[1] Standard Errors assume that the covariance matrix of the errors is correctly specified.\n"
     ]
    }
   ],
   "source": [
    "model2 = sm.OLS.from_formula(\"MEDV ~ \"\n",
    "                             \"scale(CRIM) + scale(ZN) + scale(INDUS) + scale(NOX) + scale(RM) + scale(AGE) + \"\n",
    "                             \"scale(DIS) + scale(RAD) + scale(TAX) + scale(PTRATIO) + scale(B) + scale(LSTAT) + CHAS\", \n",
    "                             data=df)\n",
    "result2 = model2.fit()\n",
    "print(result2.summary())"
   ]
  },
  {
   "cell_type": "markdown",
   "metadata": {},
   "source": [
    "## 변수 변환\n",
    "\n",
    "다음과 같은 경우에는 로그 함수 혹은 제곱근 함수 등을 사용하여 변환된 변수를 사용하면 회귀 성능이 향상될 수도 있다.\n",
    "\n",
    "* 독립 변수나 종속 변수가 심하게 한쪽으로 치우친 분포를 보이는 경우 \n",
    "* 독립 변수와 종속 변수간의 관계가 곱셈 혹은 나눗셉으로 연결된 경우\n",
    "* 종속 변수와 예측치가 비선형 관계를 보이는 경우\n",
    "\n",
    "원래 선형회귀모형의 가정에는 독립 변수나 종속 변수가 반드시 대칭 분포를 보여야 한다는 가정은 없지만 정규 분포에 가까운 분포를 보일 수록 선형회귀모형의 성능이 좋아지는 경우가 많다.\n",
    "\n",
    "보스턴 집값 데이터에서는 가격, DIS, PTRATIO, LSTAT 등이 비대칭 분포를 이루거나 가격과 반비례 관계를 가지므로 이 변수들을 로그로 변환한 후에 선형회귀분석을 하면 성능을 향상시킬 수 있다."
   ]
  },
  {
   "cell_type": "code",
   "execution_count": 7,
   "metadata": {},
   "outputs": [
    {
     "name": "stdout",
     "output_type": "stream",
     "text": [
      "                            OLS Regression Results                            \n",
      "==============================================================================\n",
      "Dep. Variable:           np.log(MEDV)   R-squared:                       0.806\n",
      "Model:                            OLS   Adj. R-squared:                  0.801\n",
      "Method:                 Least Squares   F-statistic:                     157.4\n",
      "Date:                Sun, 11 Mar 2018   Prob (F-statistic):          8.61e-166\n",
      "Time:                        19:00:47   Log-Likelihood:                 150.27\n",
      "No. Observations:                 506   AIC:                            -272.5\n",
      "Df Residuals:                     492   BIC:                            -213.4\n",
      "Df Model:                          13                                         \n",
      "Covariance Type:            nonrobust                                         \n",
      "==========================================================================================\n",
      "                             coef    std err          t      P>|t|      [0.025      0.975]\n",
      "------------------------------------------------------------------------------------------\n",
      "Intercept                  3.0284      0.008    359.502      0.000       3.012       3.045\n",
      "scale(CRIM)               -0.1089      0.011     -9.972      0.000      -0.130      -0.087\n",
      "scale(ZN)                 -0.0088      0.012     -0.753      0.452      -0.032       0.014\n",
      "scale(INDUS)               0.0061      0.016      0.376      0.707      -0.026       0.038\n",
      "scale(NOX)                -0.1056      0.018     -5.940      0.000      -0.141      -0.071\n",
      "scale(RM)                  0.0458      0.012      3.884      0.000       0.023       0.069\n",
      "scale(AGE)                 0.0099      0.015      0.669      0.504      -0.019       0.039\n",
      "scale(np.log(DIS))        -0.1082      0.018     -5.896      0.000      -0.144      -0.072\n",
      "scale(RAD)                 0.1270      0.022      5.716      0.000       0.083       0.171\n",
      "scale(TAX)                -0.1054      0.024     -4.333      0.000      -0.153      -0.058\n",
      "scale(np.log(PTRATIO))    -0.0777      0.011     -7.089      0.000      -0.099      -0.056\n",
      "scale(B)                   0.0358      0.009      3.809      0.000       0.017       0.054\n",
      "scale(np.log(LSTAT))      -0.2307      0.015    -15.570      0.000      -0.260      -0.202\n",
      "CHAS                       0.0882      0.033      2.662      0.008       0.023       0.153\n",
      "==============================================================================\n",
      "Omnibus:                       39.523   Durbin-Watson:                   1.132\n",
      "Prob(Omnibus):                  0.000   Jarque-Bera (JB):              168.952\n",
      "Skew:                          -0.110   Prob(JB):                     2.05e-37\n",
      "Kurtosis:                       5.822   Cond. No.                         10.7\n",
      "==============================================================================\n",
      "\n",
      "Warnings:\n",
      "[1] Standard Errors assume that the covariance matrix of the errors is correctly specified.\n"
     ]
    }
   ],
   "source": [
    "model3 = sm.OLS.from_formula(\"np.log(MEDV) ~ \"\n",
    "                             \"scale(CRIM) + scale(ZN) + scale(INDUS) + \"\n",
    "                             \"scale(NOX) + scale(RM) + scale(AGE) + \"\n",
    "                             \"scale(np.log(DIS)) + scale(RAD) + scale(TAX) + \"\n",
    "                             \"scale(np.log(PTRATIO)) + scale(B) + scale(np.log(LSTAT)) + CHAS\", \n",
    "                             data=df)\n",
    "result3 = model3.fit()\n",
    "print(result3.summary())"
   ]
  },
  {
   "cell_type": "code",
   "execution_count": null,
   "metadata": {},
   "outputs": [],
   "source": []
  }
 ],
 "metadata": {
  "kernelspec": {
   "display_name": "Python 3",
   "language": "python",
   "name": "python3"
  },
  "language_info": {
   "codemirror_mode": {
    "name": "ipython",
    "version": 3
   },
   "file_extension": ".py",
   "mimetype": "text/x-python",
   "name": "python",
   "nbconvert_exporter": "python",
   "pygments_lexer": "ipython3",
   "version": "3.6.4"
  }
 },
 "nbformat": 4,
 "nbformat_minor": 2
}
