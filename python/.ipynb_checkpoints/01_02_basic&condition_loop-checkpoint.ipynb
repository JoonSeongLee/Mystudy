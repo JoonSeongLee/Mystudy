{
 "cells": [
  {
   "cell_type": "markdown",
   "metadata": {},
   "source": [
    "# 1. Basic Syntax\n",
    "- 식별자 (Identifiers)\n",
    "- 변수 (Variable)\n",
    "- 자료형 ( Data Type )\n",
    "- 데이터 형변환 ( Data Type Conversion)\n",
    "- 연산자 (Operator)"
   ]
  },
  {
   "cell_type": "markdown",
   "metadata": {},
   "source": [
    "### (1) 식별자 ( Identifiers )\n",
    "- 변수, 함수, 클래스, 모듈 등을 구분하기 위해 사용되는 이름"
   ]
  },
  {
   "cell_type": "markdown",
   "metadata": {},
   "source": [
    "### (2) 변수 ( Variable )\n",
    "- 메모리에 데이터를 저장하기 위한 저장공간의 이름\n",
    "- snake_case & PascalCase & camelCase\n",
    "- 값을 저장하기위한 변수명으로는 snake_case를 사용"
   ]
  },
  {
   "cell_type": "markdown",
   "metadata": {},
   "source": [
    "### (3) 자료형 ( Data Type )\n",
    "- Numbers\n",
    "    - int,float, complex(3, -4)\n",
    "- Boolean\n",
    "    - True, False 두가지로 이루어진 데이터 타입\n",
    "- String\n",
    "    - 문자들의 나열로 이루어진 데이터 타입\n",
    "    \n",
    "##### Collections\n",
    "- List\n",
    "    - 순서가 있는 데이터의 나열\n",
    "    - ex) a = [\"fast\", \"campus\", \"data\", \"science\"]\n",
    "- Tuple\n",
    "    - 순서가 있는 데이터들의 나열 변경 불가능\n",
    "    - ex) a = 1, 2, 3, 4\n",
    "- Dictionary\n",
    "    - key, value가 쌍으로 이루어진 데이터 타입\n",
    "    - dic = { \n",
    "    1:\"one\",\n",
    "    \"A\": [\"data\", \"science\"],\n",
    "    \"숫자\": 1234,\n",
    "    }\n",
    "- Set\n",
    "    - 순서가 없고 데이터 중복이 되지 않는 데이터 타입\n",
    "    - Dictionary의 key 라고 생각하면 됨"
   ]
  },
  {
   "cell_type": "code",
   "execution_count": 7,
   "metadata": {},
   "outputs": [],
   "source": [
    "# string inner functions\n",
    "# .upper() - 대문자로 변환\n",
    "# .lower() - 소문자로 변환\n",
    "# .find() - 해당 문자열 위치 리턴 (없으면 -1 리턴)\n",
    "# .index() - 해당 문자열 위치 리턴  (없으면 value error 리턴)\n",
    "# .count() - 문자열 갯수 리턴\n",
    "# .lstrip() - 왼쪽 공백 제거\n",
    "# .rstrip() - 오른쪽 공백 제거\n",
    "# .strip() - 양쪽 공백 제거\n",
    "# .replace(\"a\",\"b\") - 특정 문자열 치환\n",
    "# .split(\" \") - \" \"로 분리하여 리스트 형태로 리턴\n"
   ]
  },
  {
   "cell_type": "code",
   "execution_count": 8,
   "metadata": {},
   "outputs": [],
   "source": [
    "# list inner functions\n",
    "# .append() - 가장 마지막에 데이터 추가\n",
    "# .sort() - 오름차순 정렬 (쓰는 순간 원본이 바뀜)\n",
    "# .sort(key=len) # 글자 길이 순으로\n",
    "# .reverse() - 내림차순 정렬\n",
    "# .index() - 데이터 위치 리턴\n",
    "# .insert() - 특정 위치에 데이터 추가\n",
    "# .remove() - 해당되는 데이터 값을 삭제 (오프셋이 가장 낮은 데이터 하나만 삭제)\n",
    "# .pop() - 가장 마지막 값을 리턴\n",
    "# .copy() - 같은 값만 복사하고 싶으면 쓴다 / 주소값이 다르다 \n"
   ]
  },
  {
   "cell_type": "code",
   "execution_count": 9,
   "metadata": {},
   "outputs": [],
   "source": [
    "# tuple inner functions\n",
    "# .keys() - 키를 리턴\n",
    "# .values() - 값을 리턴\n",
    "# .items() - 키와 값을 리턴\n",
    "# .clear() - dictionary 데이터를 모두 삭제\n",
    "# .copy() - 리스트와 마찬가지로 다른 저장공간을 가지는 데이터를 대입한다.\n",
    "# .update() - 데이터를 업데이트 ex) a.update(b) >> a라는 딕션너리에 b라는 딕션너리 값이 추가 된다(중복이 대체) a의 원본이 변해버린다."
   ]
  },
  {
   "cell_type": "markdown",
   "metadata": {},
   "source": [
    "### 연산자 ( Operator )\n",
    "\n",
    "- 연산자의 종류\n",
    "    - 산술 연산자 (Arithmetic Operators) : `+, -, *, /, //, %, **`\n",
    "    - 비교 연산자 (Comparison Operators) : `==, !=, >, <, =>, =<`\n",
    "    - 할당 연산자 (Assignment Operators) : `=, +=, -=, *=, /=, %=, //=, **=`\n",
    "    - 비트 연산자 (Bitwise Operators) : `&, |, ^, ~, <<, >>`\n",
    "    - 논리 연산자 (Logical Operators) : `and, or, not`\n",
    "    - 멤버 연산자 (Membership Operators) : `in, not in` \n",
    "    - 식별 연산자 (Identity Operators) : `is, is not` "
   ]
  },
  {
   "cell_type": "markdown",
   "metadata": {},
   "source": [
    "# 2. Condition & Loop & Input & Output\n",
    "- input\n",
    "- print\n",
    "- if, elif, else\n",
    "- while\n",
    "- for\n",
    "- comprehension"
   ]
  },
  {
   "cell_type": "code",
   "execution_count": 10,
   "metadata": {},
   "outputs": [
    {
     "name": "stdout",
     "output_type": "stream",
     "text": [
      "insert string : \n"
     ]
    }
   ],
   "source": [
    "### input\n",
    "value = input(\"insert string : \")"
   ]
  },
  {
   "cell_type": "code",
   "execution_count": 11,
   "metadata": {},
   "outputs": [
    {
     "name": "stdout",
     "output_type": "stream",
     "text": [
      "\n"
     ]
    }
   ],
   "source": [
    "### print\n",
    "print(value)"
   ]
  },
  {
   "cell_type": "markdown",
   "metadata": {},
   "source": [
    "### if, elif, else\n",
    "- syntax\n",
    "\n",
    "```\n",
    "if condition_1:\n",
    "    code_1\n",
    "elif condition_2:\n",
    "    code_2\n",
    "else: \n",
    "    code_3\n",
    "```\n",
    "- condition이 True이면 해당 조건안쪽의 코드가 실행"
   ]
  },
  {
   "cell_type": "markdown",
   "metadata": {},
   "source": [
    "## 삼항 연산"
   ]
  },
  {
   "cell_type": "code",
   "execution_count": 12,
   "metadata": {},
   "outputs": [
    {
     "data": {
      "text/plain": [
       "'odd'"
      ]
     },
     "execution_count": 12,
     "metadata": {},
     "output_type": "execute_result"
    }
   ],
   "source": [
    "a = 10\n",
    "result = \"odd\" if a % 2 == 0 else \"even\"\n",
    "result"
   ]
  },
  {
   "cell_type": "markdown",
   "metadata": {},
   "source": [
    "### while\n",
    "- syntax\n",
    "```\n",
    "while condition:\n",
    "    code\n",
    "```\n",
    "- condition이 True이면 while 안쪽의 code가 실행 후 다시 condition을 확인하여 True이면 code를 실행을 반복\n",
    "- break : while문이 끝남\n",
    "- continue : 이번 횟수는 이 아래로는 무시"
   ]
  },
  {
   "cell_type": "markdown",
   "metadata": {},
   "source": [
    "### for\n",
    "- syntax\n",
    "```\n",
    "for value in list :\n",
    "    code\n",
    "```\n",
    "- list에 있는 value를 순서대로 하나씩 꺼내서 code를 실행\n",
    "- range : range(start:end:step)\n",
    "- zip : 2개의 리스트를 key, value 형태로 묶어주는 함수 ex) for subject, point in zip(subjects, points)\n",
    "- enumerate : 리스트 형태의 데이터를 index와 value 값을 동시에 사용할수 있는 함수"
   ]
  },
  {
   "cell_type": "markdown",
   "metadata": {},
   "source": [
    "### comprehention\n",
    "- 반복문의 결과를 바로 리스트로 만들어 주는 방법\n",
    "- 리스트에 1~5까지 숫자를 대입하는 방법"
   ]
  },
  {
   "cell_type": "code",
   "execution_count": 13,
   "metadata": {},
   "outputs": [
    {
     "name": "stdout",
     "output_type": "stream",
     "text": [
      "[1, 2, 3, 4, 5]\n"
     ]
    }
   ],
   "source": [
    "ls = []\n",
    "ls = [num for num in range(1,6)]\n",
    "print(ls)"
   ]
  },
  {
   "cell_type": "code",
   "execution_count": 14,
   "metadata": {},
   "outputs": [
    {
     "data": {
      "text/plain": [
       "['0:odd',\n",
       " '1:even',\n",
       " '2:odd',\n",
       " '3:even',\n",
       " '4:odd',\n",
       " '5:even',\n",
       " '6:odd',\n",
       " '7:even',\n",
       " '8:odd',\n",
       " '9:even',\n",
       " '10:odd']"
      ]
     },
     "execution_count": 14,
     "metadata": {},
     "output_type": "execute_result"
    }
   ],
   "source": [
    "ls = []\n",
    "ls = [str(num) + \":odd\" if num % 2 == 0 else str(num) + \":even\" for num in range(11)] \n",
    "ls"
   ]
  }
 ],
 "metadata": {
  "kernelspec": {
   "display_name": "Python 3",
   "language": "python",
   "name": "python3"
  },
  "language_info": {
   "codemirror_mode": {
    "name": "ipython",
    "version": 3
   },
   "file_extension": ".py",
   "mimetype": "text/x-python",
   "name": "python",
   "nbconvert_exporter": "python",
   "pygments_lexer": "ipython3",
   "version": "3.6.4"
  }
 },
 "nbformat": 4,
 "nbformat_minor": 2
}
