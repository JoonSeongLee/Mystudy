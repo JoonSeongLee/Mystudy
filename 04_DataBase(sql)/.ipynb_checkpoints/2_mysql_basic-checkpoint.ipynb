{
 "cells": [
  {
   "cell_type": "markdown",
   "metadata": {},
   "source": [
    "## CREATE\n",
    "\n",
    "만드는 방법에 대해서 설명합니다\n",
    "\n",
    "####  Database\n",
    "\n",
    "- 데이터 베이스 생성 문법 \n",
    "\n",
    "    sql> CREATE DATABASE test;\n",
    "\n",
    "\n",
    "- 데이터 베이스 선택 문법 \n",
    "\n",
    "    sql> USE test;\n",
    "\n",
    "\n",
    "- 현재 데이터 베이스 확인\n",
    "\n",
    "    sql> SELECT DATABASE();\n"
   ]
  },
  {
   "cell_type": "markdown",
   "metadata": {},
   "source": [
    "#### Table\n",
    "\n",
    "- 테이블 생성\n",
    " \n",
    "```\n",
    "    sql> CREATE TABLE table_name (\n",
    "         column_name_1 column_data_type_1 column_constraint_1,     \n",
    "         column_name_2 column_data_type_2 column_constraint_2 ... )\n",
    "```"
   ]
  },
  {
   "cell_type": "markdown",
   "metadata": {},
   "source": [
    "## ALTER \n",
    "\n",
    "수정하는 방법에 대해서 설명합니다."
   ]
  },
  {
   "cell_type": "markdown",
   "metadata": {},
   "source": [
    "#### Database\n",
    "\n",
    "- test 데이터 베이스의 문자열 인코딩을 ascii로 변경\n",
    "\n",
    "    sql> ALTER DATABASE test CHARACTER SET = ascii;"
   ]
  },
  {
   "cell_type": "markdown",
   "metadata": {},
   "source": [
    "#### Table"
   ]
  },
  {
   "cell_type": "markdown",
   "metadata": {},
   "source": [
    "- MODIFY : user2 테이블에 INT(3) 데이터 타입을 갖는 tmp 컬럼으로 수정\n",
    "\n",
    "    sql> ALTER TABLE user2 MODIFY COLUMN tmp INT(3);\n",
    "\n"
   ]
  },
  {
   "cell_type": "markdown",
   "metadata": {},
   "source": [
    "## DROP"
   ]
  },
  {
   "cell_type": "markdown",
   "metadata": {},
   "source": [
    "#### Database\n",
    "\n",
    "- 데이터 베이스 삭제\n",
    "\n",
    "    sql> DROP DATABASE tmp;\n",
    "    \n",
    "    sql> SHOW DATABASES;"
   ]
  },
  {
   "cell_type": "markdown",
   "metadata": {},
   "source": [
    "#### Table\n",
    "- 테이블 삭제\n",
    "    \n",
    "    sql> DROP TABLE tmp;"
   ]
  },
  {
   "cell_type": "markdown",
   "metadata": {},
   "source": [
    "## INSERT "
   ]
  },
  {
   "cell_type": "markdown",
   "metadata": {},
   "source": [
    "테이블 이름 뒤에 오는 컬럼이름은 생략이 가능하며 대신에 VALUES 뒤에 value 값이 순서대로 와야 합니다.\n",
    "\n",
    "```\n",
    "sql> INSERT INTO table_name(column_name_1, column_name_2, ...)\n",
    "     VALUES(value_1, value_2, ...)\n",
    "```\n",
    "     "
   ]
  },
  {
   "cell_type": "markdown",
   "metadata": {},
   "source": [
    "## SELECT"
   ]
  },
  {
   "cell_type": "markdown",
   "metadata": {},
   "source": [
    "#### basic\n",
    "\n",
    "- 전체 컬럼 데이터 조회\n",
    "\n",
    "```\n",
    "sql> SELECT *\n",
    "     FROM user1\n",
    "```"
   ]
  },
  {
   "cell_type": "markdown",
   "metadata": {},
   "source": [
    "#### ALIAS\n",
    "\n",
    "alias(as)를 이용하여 컬럼명을 변경할수 있습니다. as는 생략이 가능합니다.\n",
    "\n",
    "```\n",
    "sql> SELECT user_id as \"아이디\", name as \"이름\", rdate as \"등록일\"\n",
    "     FROM user1\n",
    " ```"
   ]
  },
  {
   "cell_type": "markdown",
   "metadata": {},
   "source": [
    "#### DISTINCT\n",
    "\n",
    "DISTINCT를 이용하여 특정 컬럼의 중복 데이터를 제거할수 있습니다.\n",
    "\n",
    "```\n",
    "sql> SELECT DISTINCT(name)\n",
    "     FROM user1\n",
    " ```"
   ]
  },
  {
   "cell_type": "markdown",
   "metadata": {},
   "source": [
    "#### WHERE\n",
    "\n",
    "WHERE절을 이용해서 검색 조건을 추가할수 있습니다. WHERE절에는 AND, OR, 연산자 등의 기능을 사용할 수 있습니다.\n",
    "\n",
    "```\n",
    "sql> SELECT *\n",
    "     FROM user1\n",
    "     WHERE age >= 30\n",
    "     \n",
    "sql> SELECT *\n",
    "     FROM user1\n",
    "     WHERE rdate BETWEEN \"2010-01-01\" AND \"2017-12-13\"\n",
    "```"
   ]
  },
  {
   "cell_type": "markdown",
   "metadata": {},
   "source": [
    "####  ORDER BY\n",
    "\n",
    "특정 컬럼으로 데이터 정렬이 가능합니다\n",
    "\n",
    "```\n",
    "sql> SELECT *\n",
    "     FROM user1\n",
    "     ORDER BY age DESC\n",
    "     \n",
    "     \n",
    "# age로 내림차순 정렬하고 rdate를 오름차순 정렬\n",
    "sql> SELECT *\n",
    "     FROM user1\n",
    "     ORDER BY age DESC, rdate\n",
    " ```"
   ]
  },
  {
   "cell_type": "markdown",
   "metadata": {},
   "source": [
    "#### CONCAT\n",
    "\n",
    "select한 데이터를 합쳐서 새로운 컬럼으로 보여주는 것이 가능합니다.\n",
    "\n",
    "```\n",
    "sql> SELECT email, CONCAT(name, \"(\", age, \")\") AS \"name_age\"\n",
    "     FROM user1\n",
    "```"
   ]
  },
  {
   "cell_type": "markdown",
   "metadata": {},
   "source": [
    "#### LIKE\n",
    "\n",
    "```\n",
    "# email에 gmail이 들어간 데이터 조회\n",
    "sql> SELECT *\n",
    "     FROM user1\n",
    "     WHERE email LIKE \"%gmail%\"\n",
    "     \n",
    "# email에 gmail이 들어가지 않는 데이터 조회\n",
    "sql> SELECT *\n",
    "     FROM user1\n",
    "     WHERE email NOT LIKE \"%gmail%\"\n",
    "```"
   ]
  },
  {
   "cell_type": "markdown",
   "metadata": {},
   "source": [
    "#### IN\n",
    "\n",
    "WHERE 절의 조건을 여러개 사용하는것을 간단하게 만들수 있습니다.\n",
    "\n",
    "```\n",
    "sql> SELECT *\n",
    "     FROM user1\n",
    "     WHERE name=\"peter\" OR name=\"alice\"\n",
    "```"
   ]
  },
  {
   "cell_type": "markdown",
   "metadata": {},
   "source": [
    "#### LIMIT\n",
    "\n",
    "LIMIT은 조회하는 데이터의 수를 제한할수 있습니다.\n",
    "\n",
    "```\n",
    "# user1 테이블에서 두번째에서 네번째까지의 3개의 데이터 조회\n",
    "sql> SELECT *\n",
    "     FROM user1\n",
    "     LIMIT 1,3\n",
    "```"
   ]
  },
  {
   "cell_type": "markdown",
   "metadata": {},
   "source": [
    "## UPDATE\n",
    "\n",
    "특정 조건에 맞는 데이터를 수정할수 있습니다.\n",
    "\n",
    "```\n",
    "sql> UPDATE <table_name>\n",
    "     SET <column_name_1> = <value_1>, <column_name_2> = <value_2>,\n",
    "     WHERE <condition>\n",
    "```"
   ]
  },
  {
   "cell_type": "markdown",
   "metadata": {},
   "source": [
    "## DELETE\n",
    "\n",
    "특정 조건에 맞는 데이터를 삭제할수 있습니다.\n",
    "\n",
    "```\n",
    "sql> DELETE FROM <table_name>\n",
    "     WHERE <condition>\n",
    "```"
   ]
  },
  {
   "cell_type": "markdown",
   "metadata": {},
   "source": [
    "## GROUP\n",
    "\n",
    "#### GROUP BY\n",
    "\n",
    "여러개의 동일한 데이터를 가지는 특정 컬럼을 합쳐주는 역할을 하는 명령입니다."
   ]
  },
  {
   "cell_type": "markdown",
   "metadata": {},
   "source": [
    "- COUNT\n",
    "\n",
    "```\n",
    "# city 테이블의 CountryCode를 묶고 각 코드마다 몇개의 데이터가 있는지 확인\n",
    "sql> SELECT CountryCode, COUNT(CountryCode)\n",
    "     FROM city\n",
    "     GROUP BY CountryCode\n",
    "\n",
    "# countrylanguage 테이블에서 전체 언어가 몇개 있는지 구하시오.\n",
    "sql > SELECT COUNT(DISTINCT(Language)) as language_count\n",
    "     FROM countrylanguage\n",
    " ```"
   ]
  },
  {
   "cell_type": "markdown",
   "metadata": {},
   "source": [
    "- MAX\n",
    "\n",
    "```\n",
    "# 대륙별 인구수와 GNP 최대 값을 조회\n",
    "sql> SELECT continent, MAX(Population) as Population, MAX(GNP) as GNP\n",
    "     FROM country\n",
    "     GROUP BY continent\n",
    " ```"
   ]
  },
  {
   "cell_type": "markdown",
   "metadata": {},
   "source": [
    "- MIN\n",
    "\n",
    "```\n",
    "# 대륙별 인구수와 GNP 최소 값을 조회 (GNP와 인구수가 0이 아닌 데이터 중에서)\n",
    "sql> SELECT continent, MIN(Population) as Population, MIN(GNP) as GNP\n",
    "     FROM country\n",
    "     WHERE GNP != 0 AND Population != 0\n",
    "     GROUP BY continent\n",
    "```"
   ]
  },
  {
   "cell_type": "markdown",
   "metadata": {},
   "source": [
    "- SUM\n",
    "\n",
    "```\n",
    "# 대륙별 총 인구수와 총 GNP\n",
    "sql> SELECT continent, SUM(Population) as Population, SUM(GNP) as GNP\n",
    "     FROM country\n",
    "     WHERE GNP != 0 AND Population != 0\n",
    "     GROUP BY continent\n",
    " ```"
   ]
  },
  {
   "cell_type": "markdown",
   "metadata": {},
   "source": [
    "-  AVG\n",
    "\n",
    "```\n",
    "# 대륙별 평균 인구수와 평균 GNP 결과를 인구수로 내림차순 정렬\n",
    "sql> SELECT continent, AVG(Population) as Population, AVG(GNP) as GNP\n",
    "     FROM country\n",
    "     WHERE GNP != 0 AND Population != 0\n",
    "     GROUP BY continent\n",
    "     ORDER BY Population DESC\n",
    "\n",
    "```"
   ]
  },
  {
   "cell_type": "markdown",
   "metadata": {},
   "source": [
    "#### HAVING\n",
    "\n",
    "GROUP BY에서 반환되는 결과에 조건을 줄수 있습니다.\n",
    "\n",
    "```\n",
    "# 대륙별 전체인구를 구하고 5억이상인 대륙만 조회\n",
    "sql> SELECT continent, SUM(Population) as Population\n",
    "     FROM country\n",
    "     GROUP BY continent\n",
    "     HAVING Population > 500000000\n",
    "     \n",
    "     \n",
    "# 대륙별 평균 인구수, 평균 GNP, 1인당 GNP한 결과를 1인당 GNP가 0.01 이상인 데이터를 조회하고 1인당GNP를 내림차순으로 정렬\n",
    "sql> SELECT continent, AVG(Population) as Population, AVG(GNP) as GNP,\n",
    "     AVG(GNP) / AVG(Population) * 1000 as AVG\n",
    "     FROM country\n",
    "     WHERE GNP != 0 AND Population != 0\n",
    "     GROUP BY continent\n",
    "     HAVING AVG > 0.01\n",
    "     ORDER BY AVG DESC\n",
    " ```"
   ]
  }
 ],
 "metadata": {
  "kernelspec": {
   "display_name": "Python 3",
   "language": "python",
   "name": "python3"
  },
  "language_info": {
   "codemirror_mode": {
    "name": "ipython",
    "version": 3
   },
   "file_extension": ".py",
   "mimetype": "text/x-python",
   "name": "python",
   "nbconvert_exporter": "python",
   "pygments_lexer": "ipython3",
   "version": "3.6.4"
  }
 },
 "nbformat": 4,
 "nbformat_minor": 2
}
