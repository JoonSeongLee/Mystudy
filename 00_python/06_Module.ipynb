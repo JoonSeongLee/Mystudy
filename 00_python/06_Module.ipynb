{
 "cells": [
  {
   "cell_type": "markdown",
   "metadata": {},
   "source": [
    "### Module\n",
    "- 함수, 변수, 클래스를 모아놓은 파일\n",
    "- pep8 module name\n",
    "    - 모듈(Module) 명은 짧은 소문자로 구성되며 필요하다면 밑줄로 나눕니다.\n",
    "    - C/C++ 확장 모듈은 밑줄로 시작합니다."
   ]
  },
  {
   "cell_type": "markdown",
   "metadata": {},
   "source": [
    "#### module 만들기"
   ]
  },
  {
   "cell_type": "code",
   "execution_count": 4,
   "metadata": {},
   "outputs": [
    {
     "name": "stdout",
     "output_type": "stream",
     "text": [
      "Writing dsm_f.py\n"
     ]
    }
   ],
   "source": [
    "%%writefile dsm_f.py\n",
    "\n",
    "var = 1234\n",
    "\n",
    "def disp1(s):\n",
    "    print(\"dsm_f1:\", s)\n",
    "\n",
    "def disp2(s):\n",
    "    print(\"dsm_f2:\", s)\n",
    "\n",
    "def disp3(s):\n",
    "    print(\"dsm_f3:\", s)\n",
    "    \n",
    "class calc:\n",
    "    def plus(self, *args):\n",
    "        return sum(args)"
   ]
  },
  {
   "cell_type": "code",
   "execution_count": 6,
   "metadata": {},
   "outputs": [
    {
     "name": "stdout",
     "output_type": "stream",
     "text": [
      "Variable   Type        Data/Info\n",
      "--------------------------------\n",
      "calc       type        <class '__main__.calc'>\n",
      "disp1      function    <function disp1 at 0x112ac91e0>\n",
      "disp2      function    <function disp2 at 0x112ac9ae8>\n",
      "disp3      function    <function disp3 at 0x112a2d598>\n",
      "dsm_f      module      <module 'dsm_f' from '/Us<...>y_study/python/dsm_f.py'>\n",
      "var        int         1234\n"
     ]
    }
   ],
   "source": [
    "# 모듈 호출하기\n",
    "import dsm_f\n",
    "%whos"
   ]
  },
  {
   "cell_type": "code",
   "execution_count": null,
   "metadata": {},
   "outputs": [],
   "source": [
    "# alias as\n",
    "import dsm_f as dsm"
   ]
  },
  {
   "cell_type": "markdown",
   "metadata": {},
   "source": [
    "### 모듈에 있는 함수만 호출하기"
   ]
  },
  {
   "cell_type": "code",
   "execution_count": 1,
   "metadata": {},
   "outputs": [
    {
     "name": "stdout",
     "output_type": "stream",
     "text": [
      "Variable   Type        Data/Info\n",
      "--------------------------------\n",
      "disp1      function    <function disp1 at 0x1016a7b70>\n",
      "disp2      function    <function disp2 at 0x107d1df28>\n"
     ]
    }
   ],
   "source": [
    "from dsm_f import disp1, disp2\n",
    "%whos"
   ]
  },
  {
   "cell_type": "markdown",
   "metadata": {},
   "source": [
    "##### Package\n",
    "- 디렉토리와 모듈로 이루어짐\n",
    "```\n",
    "quiz\n",
    "└── game\n",
    "│   ├── lotto.py\n",
    "│   ├── random_number.py\n",
    "└── star\n",
    "    ├── disp.py\n",
    "```\n",
    "import quiz.game.lotto"
   ]
  }
 ],
 "metadata": {
  "kernelspec": {
   "display_name": "Python 3",
   "language": "python",
   "name": "python3"
  },
  "language_info": {
   "codemirror_mode": {
    "name": "ipython",
    "version": 3
   },
   "file_extension": ".py",
   "mimetype": "text/x-python",
   "name": "python",
   "nbconvert_exporter": "python",
   "pygments_lexer": "ipython3",
   "version": "3.6.4"
  }
 },
 "nbformat": 4,
 "nbformat_minor": 2
}
