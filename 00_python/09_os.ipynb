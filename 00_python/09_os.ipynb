{
 "cells": [
  {
   "cell_type": "code",
   "execution_count": 1,
   "metadata": {},
   "outputs": [],
   "source": [
    "import os"
   ]
  },
  {
   "cell_type": "markdown",
   "metadata": {},
   "source": [
    "##### 디렉토리 만들기\n",
    "- os_dir 이라는 디렉토리를 만든다.\n",
    "    - os.makedirs(\"os_mkdir_test\")\n",
    "\n",
    "##### write\n",
    "- 파일 쓰기\n",
    "- 앞에서 배운 방법으로 txt와 csv 파일을 작성합니다.\n",
    "    - s = \"data science\"\n",
    "  with open(\"os_mkdir_test/write_txt_test\", \"wt\") as f:\n",
    "      f.write(s)\n",
    "      \n",
    "##### listdir\n",
    "- 파일 리스트 읽기\n",
    "- 특정 확장자를 가진 파일을 뽑아낸다.\n",
    "    - file_list = os.listdir(\"os_mkdir_test\")\n",
    "\n",
    "##### remove\n",
    "- 파일 삭제\n",
    "    - file_name = 'test3.csv'\n",
    "          os.remove(\"write_txt/\" + file_name)\n",
    "      \n",
    "##### removedirs\n",
    "- 디렉토리 삭제\n",
    "    - os.removedirs(\"os_mkdir_test\")  내부에 파일이 있으면 삭제되지 않는다.\n",
    "  \n",
    "##### exists\n",
    "- 존재여부 확인하기\n",
    "    - os.path.exists(\"os_dir/test.txt\") >> True False 리턴\n",
    "\n",
    "##### isfile\n",
    "- 타입이 파일인지 확인하기\n",
    "    - os.path.isfile(\"os_dir/test.txt\")  >> True False 리턴\n",
    "\n",
    "##### isdir\n",
    "- 타입이 디렉토리인지 확인하기\n",
    "    - os.path.isdir(\"os_dir/test.txt\") >> True False 리턴\n",
    "    \n",
    "##### copy\n",
    "- 복사하기\n",
    "    - import shutil\n",
    "    \n",
    "      shutil.copy(\"os_dir/test.txt\", \"os_dir/copy.txt\") 있으면 덮어쓰기\n",
    "\n",
    "##### rename\n",
    "- 이름바꾸기\n",
    "    - os.rename(\"os_dir/copy.txt\", \"os_dir/rename.txt\")\n",
    "    \n",
    "##### chmod\n",
    "- 권한 설정\n",
    "- 타입[:1], 소유자[1:4] 그룹[4:7] 공개[7:]\n",
    "- r(read), w(write), x(excute)\n",
    "- 8진수 octet : 7(8) -> 111(2), 4(8) -> 100(2)\n",
    "    - os.chmod(\"os_dir/rename.txt\", 0o444) # 모든 사용자 read 권한만 갖도록 "
   ]
  }
 ],
 "metadata": {
  "kernelspec": {
   "display_name": "Python 3",
   "language": "python",
   "name": "python3"
  },
  "language_info": {
   "codemirror_mode": {
    "name": "ipython",
    "version": 3
   },
   "file_extension": ".py",
   "mimetype": "text/x-python",
   "name": "python",
   "nbconvert_exporter": "python",
   "pygments_lexer": "ipython3",
   "version": "3.6.4"
  }
 },
 "nbformat": 4,
 "nbformat_minor": 2
}
