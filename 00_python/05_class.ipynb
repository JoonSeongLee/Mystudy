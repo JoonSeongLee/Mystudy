{
 "cells": [
  {
   "cell_type": "markdown",
   "metadata": {},
   "source": [
    "# 5. class\n",
    "- 클래스는 변수들과 함수를 묶은 사용자 정의 데이터 타입이라고 할수 있다.\n",
    "- 클래스는 청사진, 설계도 라고 할수 있고, 객체가 실제 설계도 대로 만들어진 물건이라고 할수 있다.\n",
    "- 클래스를 이용하여 객체를 만든다고 할수 있고 객체가 선언이 되어야 메모리에 자원이 할당된다.\n",
    "- 객체 지향\n",
    "    - 실제세계를 모델링하여 공통적인 기능을 묶어서 개발\n",
    "    - 다형성 : 같은 이름으로 파라미터에 따라 다른 코드를 수행 하거나 객체에 따라서 다른 함수를 수행 \n",
    "    - 캡슐화 : 외부에 변수나 함수를 감춤으로 정보 은닉의 효과가 있는 개념 \n",
    "    - 추상화 : 여러가지 요소를 하나로 통합하여 사용자가 코드을 몰라도 간단하게 사용할수 있는 개념\n",
    "    - 상속 : 기존에 있던 클래스의 기능을 수정하거나 추가\n",
    "- structure\n",
    "- constructor\n",
    "- inheritance\n",
    "- super\n",
    "- get,set\n",
    "- private\n",
    "- is a / has a\n",
    "- magic method\n",
    "- namedtuple"
   ]
  },
  {
   "cell_type": "markdown",
   "metadata": {},
   "source": [
    "### Structure\n",
    "- class 내부에 self를 이용하여 변수를 할당하고, def를 이용하여 함수를 선언한다.\n",
    "- self는 객체 자신을 의미 한다.\n",
    "- 함수선언시에는 항상 argument로 self를 넣어주어야 한다."
   ]
  },
  {
   "cell_type": "code",
   "execution_count": 1,
   "metadata": {},
   "outputs": [],
   "source": [
    "class calculator:\n",
    "    \n",
    "    def setData(self, num1, num2):            # 항상 함수 선언 시 self를 파라미터에 넣어줘야함\n",
    "        self.num1 = num1\n",
    "        self.num2 = num2\n",
    "    def add(self):\n",
    "        return self.num1 + self.num2         \n",
    "    "
   ]
  },
  {
   "cell_type": "code",
   "execution_count": 3,
   "metadata": {},
   "outputs": [
    {
     "data": {
      "text/plain": [
       "12"
      ]
     },
     "execution_count": 3,
     "metadata": {},
     "output_type": "execute_result"
    }
   ],
   "source": [
    "c1 = calculator()\n",
    "c1.setData(5,7) # .을 이용하여 해당 객체의 함수에 접근한다.\n",
    "c1.add()"
   ]
  },
  {
   "cell_type": "code",
   "execution_count": 6,
   "metadata": {},
   "outputs": [
    {
     "data": {
      "text/plain": [
       "15"
      ]
     },
     "execution_count": 6,
     "metadata": {},
     "output_type": "execute_result"
    }
   ],
   "source": [
    "# self는 객체를 의미한다.\n",
    "# 클래스의 함수에 self 파라미터로 객체를 넘겨 해당 객체의 변수를 변경할수 있다.\n",
    "c2 = calculator()\n",
    "calculator.setData(c2, 7, 8)\n",
    "calculator.add(c2)"
   ]
  },
  {
   "cell_type": "markdown",
   "metadata": {},
   "source": [
    "### Constructor\n",
    "- 생성자는 함수가 객체가 될때 초기 값을 설정하는 역할을 함\n",
    "- `__init__` 으로 함수명을 작성하여 초기값을 넣어줌\n",
    "- 생성자에 들어갈 초기 데이터가 없으면 에러 발생 (초기값이 없으면 객체 생성이 안됨)\n",
    "- 생성자를 사용하는 이유\n",
    "    - 생성자는 초기 데이터가 없으면 아얘 객체를 만들수 없도록 함으로 객체가 만들어진 상태에서 작동이 안되는것 보다 메모리 절약"
   ]
  },
  {
   "cell_type": "code",
   "execution_count": 7,
   "metadata": {
    "collapsed": true
   },
   "outputs": [
    {
     "ename": "AttributeError",
     "evalue": "'calculator' object has no attribute 'num1'",
     "output_type": "error",
     "traceback": [
      "\u001b[0;31m---------------------------------------\u001b[0m",
      "\u001b[0;31mAttributeError\u001b[0mTraceback (most recent call last)",
      "\u001b[0;32m<ipython-input-7-a3b064f0ff58>\u001b[0m in \u001b[0;36m<module>\u001b[0;34m()\u001b[0m\n\u001b[1;32m      1\u001b[0m \u001b[0;31m# 클래스에서 사용하는 변수값이 설정되지 않아 에러가 발생\u001b[0m\u001b[0;34m\u001b[0m\u001b[0;34m\u001b[0m\u001b[0m\n\u001b[1;32m      2\u001b[0m \u001b[0mc3\u001b[0m \u001b[0;34m=\u001b[0m \u001b[0mcalculator\u001b[0m\u001b[0;34m(\u001b[0m\u001b[0;34m)\u001b[0m\u001b[0;34m\u001b[0m\u001b[0m\n\u001b[0;32m----> 3\u001b[0;31m \u001b[0mresult\u001b[0m \u001b[0;34m=\u001b[0m \u001b[0mc3\u001b[0m\u001b[0;34m.\u001b[0m\u001b[0madd\u001b[0m\u001b[0;34m(\u001b[0m\u001b[0;34m)\u001b[0m\u001b[0;34m\u001b[0m\u001b[0m\n\u001b[0m\u001b[1;32m      4\u001b[0m \u001b[0mprint\u001b[0m\u001b[0;34m(\u001b[0m\u001b[0mresult\u001b[0m\u001b[0;34m)\u001b[0m\u001b[0;34m\u001b[0m\u001b[0m\n",
      "\u001b[0;32m<ipython-input-1-4606e0e26054>\u001b[0m in \u001b[0;36madd\u001b[0;34m(self)\u001b[0m\n\u001b[1;32m      5\u001b[0m         \u001b[0mself\u001b[0m\u001b[0;34m.\u001b[0m\u001b[0mnum2\u001b[0m \u001b[0;34m=\u001b[0m \u001b[0mnum2\u001b[0m\u001b[0;34m\u001b[0m\u001b[0m\n\u001b[1;32m      6\u001b[0m     \u001b[0;32mdef\u001b[0m \u001b[0madd\u001b[0m\u001b[0;34m(\u001b[0m\u001b[0mself\u001b[0m\u001b[0;34m)\u001b[0m\u001b[0;34m:\u001b[0m\u001b[0;34m\u001b[0m\u001b[0m\n\u001b[0;32m----> 7\u001b[0;31m         \u001b[0;32mreturn\u001b[0m \u001b[0mself\u001b[0m\u001b[0;34m.\u001b[0m\u001b[0mnum1\u001b[0m \u001b[0;34m+\u001b[0m \u001b[0mself\u001b[0m\u001b[0;34m.\u001b[0m\u001b[0mnum2\u001b[0m\u001b[0;34m\u001b[0m\u001b[0m\n\u001b[0m\u001b[1;32m      8\u001b[0m \u001b[0;34m\u001b[0m\u001b[0m\n",
      "\u001b[0;31mAttributeError\u001b[0m: 'calculator' object has no attribute 'num1'"
     ]
    }
   ],
   "source": [
    "# 클래스에서 사용하는 변수값이 설정되지 않아 에러가 발생\n",
    "c3 = calculator()\n",
    "result = c3.add()\n",
    "print(result)"
   ]
  },
  {
   "cell_type": "code",
   "execution_count": 8,
   "metadata": {},
   "outputs": [],
   "source": [
    "class calculator:\n",
    "    \n",
    "    def __init__(self, num1, num2):               \n",
    "        self.num1 = num1\n",
    "        self.num2 = num2\n",
    "    \n",
    "    def setData(self, num1, num2):\n",
    "        self.num1 = num1\n",
    "        self.num2 = num2\n",
    "        \n",
    "    def add(self):\n",
    "        return self.num1 + self.num2\n",
    "    "
   ]
  },
  {
   "cell_type": "code",
   "execution_count": 9,
   "metadata": {},
   "outputs": [
    {
     "ename": "TypeError",
     "evalue": "__init__() missing 2 required positional arguments: 'num1' and 'num2'",
     "output_type": "error",
     "traceback": [
      "\u001b[0;31m---------------------------------------\u001b[0m",
      "\u001b[0;31mTypeError\u001b[0mTraceback (most recent call last)",
      "\u001b[0;32m<ipython-input-9-76142edf1326>\u001b[0m in \u001b[0;36m<module>\u001b[0;34m()\u001b[0m\n\u001b[0;32m----> 1\u001b[0;31m \u001b[0mc3\u001b[0m \u001b[0;34m=\u001b[0m \u001b[0mcalculator\u001b[0m\u001b[0;34m(\u001b[0m\u001b[0;34m)\u001b[0m                  \u001b[0;31m###########################    __init__ 덕분에 초기값 안 넣으면 에러가 남\u001b[0m\u001b[0;34m\u001b[0m\u001b[0m\n\u001b[0m",
      "\u001b[0;31mTypeError\u001b[0m: __init__() missing 2 required positional arguments: 'num1' and 'num2'"
     ]
    }
   ],
   "source": [
    "c3 = calculator()                  ##   __init__ 덕분에 초기값 안 넣으면 에러가 남"
   ]
  },
  {
   "cell_type": "markdown",
   "metadata": {},
   "source": [
    "### Inheritance\n",
    "- 상속은 기존의 클래스에 새로운 변수나 함수를 추가하거나 변경하는것을 의미한다.\n",
    "- overiding & overloading 차이점 : 다형성의 특징\n",
    "    - overiding : 상위 클래스가 가지고 있는 함수를 하위 클래스가 함수를 재정의 해서 사용\n",
    "    - overloading : 함수 이름은 같으나 arguments의 갯수 차이로 함수를 구분해주는 방법 - 파이썬에서는 default argument로 조건문을 사용하여 구현"
   ]
  },
  {
   "cell_type": "code",
   "execution_count": 10,
   "metadata": {},
   "outputs": [
    {
     "data": {
      "text/plain": [
       "243"
      ]
     },
     "execution_count": 10,
     "metadata": {},
     "output_type": "execute_result"
    }
   ],
   "source": [
    "class improvedCalculator(calculator):   # class newname(parentname):\n",
    "    def pow(self):                      # 새 함수만들때 '있던 클래스'에 함수 추가하는 것   ##상속## \n",
    "        return self.num1 ** self.num2\n",
    "ic = improvedCalculator(3,5)\n",
    "ic.pow()"
   ]
  },
  {
   "cell_type": "markdown",
   "metadata": {},
   "source": [
    "### super\n",
    "- 상위 클래스의 생성자를 받아옴\n",
    "- starcraft 예제"
   ]
  },
  {
   "cell_type": "code",
   "execution_count": 11,
   "metadata": {},
   "outputs": [],
   "source": [
    "class human():\n",
    "    \n",
    "    def __init__(self):\n",
    "        self.health = 40\n",
    "\n",
    "    def set_health(self, var):\n",
    "        self.health += var\n",
    "        \n",
    "        \n",
    "class marin(human):\n",
    "    \n",
    "    def __init__(self):\n",
    "        super(marin, self).__init__()    # human에 있던 변수 가져옴          super는 생각\n",
    "        #self.health = 40\n",
    "        self.attack_power = 5\n",
    "        self.kill = 0\n",
    "        \n",
    "    def attack(self, obj):\n",
    "        \n",
    "        obj.set_health(-self.attack_power)\n",
    "        \n",
    "        if obj.health <= 0:\n",
    "            obj.health = 0\n",
    "            self.kill += 1\n",
    "            return \"die\" # killed\n",
    "        \n",
    "        return \"alive [health:{}]\".format(obj.health) # alive\n",
    "    \n",
    "    \n",
    "class medic(human):\n",
    "    \n",
    "    def __init__(self):\n",
    "        self.health = 20\n",
    "        self.heal_power = 6\n",
    "    \n",
    "    def heal(self, obj):\n",
    "        \n",
    "        if obj.health == 0:\n",
    "            print(\"aleady die!\")\n",
    "            return\n",
    "        \n",
    "        obj.set_health(+self.heal_power)\n",
    "        \n",
    "        if obj.health > 40:\n",
    "            obj.health = 40\n",
    "    "
   ]
  },
  {
   "cell_type": "code",
   "execution_count": 12,
   "metadata": {},
   "outputs": [
    {
     "data": {
      "text/plain": [
       "'alive [health:35]'"
      ]
     },
     "execution_count": 12,
     "metadata": {},
     "output_type": "execute_result"
    }
   ],
   "source": [
    "# make marin objects\n",
    "marin1 = marin()\n",
    "marin2 = marin()\n",
    "# attack marin1 to marin2\n",
    "marin1.attack(marin2)"
   ]
  },
  {
   "cell_type": "code",
   "execution_count": 13,
   "metadata": {},
   "outputs": [
    {
     "data": {
      "text/plain": [
       "(40, 35, 0, 0)"
      ]
     },
     "execution_count": 13,
     "metadata": {},
     "output_type": "execute_result"
    }
   ],
   "source": [
    "# check status\n",
    "marin1.health, marin2.health, marin1.kill, marin2.kill"
   ]
  },
  {
   "cell_type": "code",
   "execution_count": 15,
   "metadata": {},
   "outputs": [
    {
     "data": {
      "text/plain": [
       "40"
      ]
     },
     "execution_count": 15,
     "metadata": {},
     "output_type": "execute_result"
    }
   ],
   "source": [
    "medic1 = medic()\n",
    "medic1.heal(marin2)\n",
    "marin2.health"
   ]
  }
 ],
 "metadata": {
  "kernelspec": {
   "display_name": "Python 3",
   "language": "python",
   "name": "python3"
  },
  "language_info": {
   "codemirror_mode": {
    "name": "ipython",
    "version": 3
   },
   "file_extension": ".py",
   "mimetype": "text/x-python",
   "name": "python",
   "nbconvert_exporter": "python",
   "pygments_lexer": "ipython3",
   "version": "3.6.4"
  }
 },
 "nbformat": 4,
 "nbformat_minor": 2
}
