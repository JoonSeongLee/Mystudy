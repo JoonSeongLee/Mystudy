{
 "cells": [
  {
   "cell_type": "markdown",
   "metadata": {},
   "source": [
    "## OLS.from_formula 메서드"
   ]
  },
  {
   "cell_type": "code",
   "execution_count": 2,
   "metadata": {},
   "outputs": [
    {
     "data": {
      "text/html": [
       "<div>\n",
       "<style scoped>\n",
       "    .dataframe tbody tr th:only-of-type {\n",
       "        vertical-align: middle;\n",
       "    }\n",
       "\n",
       "    .dataframe tbody tr th {\n",
       "        vertical-align: top;\n",
       "    }\n",
       "\n",
       "    .dataframe thead th {\n",
       "        text-align: right;\n",
       "    }\n",
       "</style>\n",
       "<table border=\"1\" class=\"dataframe\">\n",
       "  <thead>\n",
       "    <tr style=\"text-align: right;\">\n",
       "      <th></th>\n",
       "      <th>x1</th>\n",
       "      <th>x2</th>\n",
       "      <th>y</th>\n",
       "    </tr>\n",
       "  </thead>\n",
       "  <tbody>\n",
       "    <tr>\n",
       "      <th>0</th>\n",
       "      <td>10.548814</td>\n",
       "      <td>6.458941</td>\n",
       "      <td>23.610739</td>\n",
       "    </tr>\n",
       "    <tr>\n",
       "      <th>1</th>\n",
       "      <td>10.715189</td>\n",
       "      <td>4.375872</td>\n",
       "      <td>20.921207</td>\n",
       "    </tr>\n",
       "    <tr>\n",
       "      <th>2</th>\n",
       "      <td>10.602763</td>\n",
       "      <td>8.917730</td>\n",
       "      <td>29.199261</td>\n",
       "    </tr>\n",
       "    <tr>\n",
       "      <th>3</th>\n",
       "      <td>10.544883</td>\n",
       "      <td>9.636628</td>\n",
       "      <td>29.939813</td>\n",
       "    </tr>\n",
       "    <tr>\n",
       "      <th>4</th>\n",
       "      <td>10.423655</td>\n",
       "      <td>3.834415</td>\n",
       "      <td>18.536348</td>\n",
       "    </tr>\n",
       "  </tbody>\n",
       "</table>\n",
       "</div>"
      ],
      "text/plain": [
       "          x1        x2          y\n",
       "0  10.548814  6.458941  23.610739\n",
       "1  10.715189  4.375872  20.921207\n",
       "2  10.602763  8.917730  29.199261\n",
       "3  10.544883  9.636628  29.939813\n",
       "4  10.423655  3.834415  18.536348"
      ]
     },
     "execution_count": 2,
     "metadata": {},
     "output_type": "execute_result"
    }
   ],
   "source": [
    "from patsy import dmatrix\n",
    "np.random.seed(0)\n",
    "x1 = np.random.rand(5) + 10\n",
    "x2 = np.random.rand(5) * 10\n",
    "y = x1 + 2 * x2 + np.random.randn(5)\n",
    "df1 = pd.DataFrame(x1, columns=[\"x1\"])\n",
    "df2 = pd.DataFrame(np.array([x1, x2]).T, columns=[\"x1\", \"x2\"])\n",
    "df = pd.DataFrame(np.array([x1, x2, y]).T, columns=[\"x1\", \"x2\", \"y\"])\n",
    "df"
   ]
  },
  {
   "cell_type": "code",
   "execution_count": 10,
   "metadata": {},
   "outputs": [
    {
     "name": "stdout",
     "output_type": "stream",
     "text": [
      "                            OLS Regression Results                            \n",
      "==============================================================================\n",
      "Dep. Variable:                      y   R-squared:                       0.998\n",
      "Model:                            OLS   Adj. R-squared:                  0.995\n",
      "Method:                 Least Squares   F-statistic:                     406.1\n",
      "Date:                Sun, 11 Mar 2018   Prob (F-statistic):            0.00246\n",
      "Time:                        17:39:32   Log-Likelihood:                0.41801\n",
      "No. Observations:                   5   AIC:                             5.164\n",
      "Df Residuals:                       2   BIC:                             3.992\n",
      "Df Model:                           2                                         \n",
      "Covariance Type:            nonrobust                                         \n",
      "==============================================================================\n",
      "                 coef    std err          t      P>|t|      [0.025      0.975]\n",
      "------------------------------------------------------------------------------\n",
      "Intercept    -41.9480     17.631     -2.379      0.140    -117.809      33.913\n",
      "x1             5.0904      1.671      3.046      0.093      -2.100      12.281\n",
      "x2             1.8960      0.068     28.015      0.001       1.605       2.187\n",
      "==============================================================================\n",
      "Omnibus:                          nan   Durbin-Watson:                   1.540\n",
      "Prob(Omnibus):                    nan   Jarque-Bera (JB):                0.451\n",
      "Skew:                          -0.636   Prob(JB):                        0.798\n",
      "Kurtosis:                       2.259   Cond. No.                     1.42e+03\n",
      "==============================================================================\n",
      "\n",
      "Warnings:\n",
      "[1] Standard Errors assume that the covariance matrix of the errors is correctly specified.\n",
      "[2] The condition number is large, 1.42e+03. This might indicate that there are\n",
      "strong multicollinearity or other numerical problems.\n"
     ]
    },
    {
     "name": "stderr",
     "output_type": "stream",
     "text": [
      "/usr/local/lib/python3.6/site-packages/statsmodels/stats/stattools.py:72: ValueWarning: omni_normtest is not valid with less than 8 observations; 5 samples were given.\n",
      "  \"samples were given.\" % int(n), ValueWarning)\n"
     ]
    }
   ],
   "source": [
    "#sm.OLS.from_formula(\"y ~ x1 + x2 ...\", data=df )\n",
    "\n",
    "import statsmodels.api as sm\n",
    "model2 = sm.OLS.from_formula(\"y ~ x1 + x2\", data=df)\n",
    "print(model2.fit().summary())"
   ]
  },
  {
   "cell_type": "code",
   "execution_count": 9,
   "metadata": {},
   "outputs": [
    {
     "name": "stdout",
     "output_type": "stream",
     "text": [
      "                            OLS Regression Results                            \n",
      "==============================================================================\n",
      "Dep. Variable:                      y   R-squared:                       0.998\n",
      "Model:                            OLS   Adj. R-squared:                  0.995\n",
      "Method:                 Least Squares   F-statistic:                     406.1\n",
      "Date:                Sun, 11 Mar 2018   Prob (F-statistic):            0.00246\n",
      "Time:                        17:38:35   Log-Likelihood:                0.41801\n",
      "No. Observations:                   5   AIC:                             5.164\n",
      "Df Residuals:                       2   BIC:                             3.992\n",
      "Df Model:                           2                                         \n",
      "Covariance Type:            nonrobust                                         \n",
      "==============================================================================\n",
      "                 coef    std err          t      P>|t|      [0.025      0.975]\n",
      "------------------------------------------------------------------------------\n",
      "const        -41.9480     17.631     -2.379      0.140    -117.809      33.913\n",
      "x1             5.0904      1.671      3.046      0.093      -2.100      12.281\n",
      "x2             1.8960      0.068     28.015      0.001       1.605       2.187\n",
      "==============================================================================\n",
      "Omnibus:                          nan   Durbin-Watson:                   1.540\n",
      "Prob(Omnibus):                    nan   Jarque-Bera (JB):                0.451\n",
      "Skew:                          -0.636   Prob(JB):                        0.798\n",
      "Kurtosis:                       2.259   Cond. No.                     1.42e+03\n",
      "==============================================================================\n",
      "\n",
      "Warnings:\n",
      "[1] Standard Errors assume that the covariance matrix of the errors is correctly specified.\n",
      "[2] The condition number is large, 1.42e+03. This might indicate that there are\n",
      "strong multicollinearity or other numerical problems.\n"
     ]
    },
    {
     "name": "stderr",
     "output_type": "stream",
     "text": [
      "/usr/local/lib/python3.6/site-packages/statsmodels/stats/stattools.py:72: ValueWarning: omni_normtest is not valid with less than 8 observations; 5 samples were given.\n",
      "  \"samples were given.\" % int(n), ValueWarning)\n"
     ]
    }
   ],
   "source": [
    "#sm.OLS(y,x)\n",
    "\n",
    "dfy = df.iloc[:, -1]\n",
    "dfX = sm.add_constant(df.iloc[:, :-1])\n",
    "model1 = sm.OLS(dfy, dfX)\n",
    "print(model1.fit().summary())"
   ]
  }
 ],
 "metadata": {
  "kernelspec": {
   "display_name": "Python 3",
   "language": "python",
   "name": "python3"
  },
  "language_info": {
   "codemirror_mode": {
    "name": "ipython",
    "version": 3
   },
   "file_extension": ".py",
   "mimetype": "text/x-python",
   "name": "python",
   "nbconvert_exporter": "python",
   "pygments_lexer": "ipython3",
   "version": "3.6.4"
  }
 },
 "nbformat": 4,
 "nbformat_minor": 2
}
