{
 "cells": [
  {
   "cell_type": "markdown",
   "metadata": {},
   "source": [
    "# Mac\n",
    "\n",
    "### install chrome driver \n",
    "\n",
    "(1) Download chrome driver\n",
    "\n",
    "아래의 링크에서 크롬 드라이버를 다운로드 합니다.\n",
    "- https://sites.google.com/a/chromium.org/chromedriver/home\n",
    "- https://chromedriver.storage.googleapis.com/index.html?path=2.35/\n",
    "$$ $$\n",
    "\n",
    "(2) Change Path\n",
    "\n",
    "크롬 드라이버를 글로벌하게 사용하기 위해서 경로를 변경해 줍니다. \n",
    "\n",
    "경로를 수정하지 않으면 코드에서 크롬드라이버 경로를 항상 작성해 줘야 합니다.\n",
    "\n",
    "$ mv ~/Download/chromedriver /usr/local/bin\n",
    "\n",
    "$$ $$\n",
    "\n",
    "\n",
    "### install selenium package\n",
    "\n",
    "selenium package를 설치해주기 위해서는 관리자 권한이 필요하기 때문에 sudo를 앞에 붙여서 설치합니다.\n",
    "\n",
    "$ sudo pip3 install selenium"
   ]
  }
 ],
 "metadata": {
  "kernelspec": {
   "display_name": "Python 3",
   "language": "python",
   "name": "python3"
  },
  "language_info": {
   "codemirror_mode": {
    "name": "ipython",
    "version": 3
   },
   "file_extension": ".py",
   "mimetype": "text/x-python",
   "name": "python",
   "nbconvert_exporter": "python",
   "pygments_lexer": "ipython3",
   "version": "3.6.4"
  }
 },
 "nbformat": 4,
 "nbformat_minor": 2
}
