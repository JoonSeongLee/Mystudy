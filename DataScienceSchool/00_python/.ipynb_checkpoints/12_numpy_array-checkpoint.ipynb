{
 "cells": [
  {
   "cell_type": "markdown",
   "metadata": {},
   "source": [
    "### Reference\n",
    "- http://www.numpy.org/\n",
    "- http://aikorea.org/cs231n/python-numpy-tutorial/\n",
    "\n",
    "### Install\n",
    "- pip3 install numpy\n",
    "\n",
    "### Make\n",
    "- array\n",
    "- reshape\n",
    "- index\n",
    "- zeros\n",
    "- ones\n",
    "- eye\n",
    "- like\n",
    "- empty\n",
    "- arange\n",
    "- linespace, logspace\n",
    "- rand, randn\n",
    "- stack\n",
    "- concatenate\n",
    "- split\n",
    "- sort"
   ]
  },
  {
   "cell_type": "code",
   "execution_count": 12,
   "metadata": {},
   "outputs": [],
   "source": [
    "import numpy as np"
   ]
  },
  {
   "cell_type": "markdown",
   "metadata": {},
   "source": [
    "##### array\n",
    "- ndim : 행렬의 차원\n",
    "- shape : 행렬의 모양\n",
    "\n",
    "##### reshape\n",
    "- 행렬의 모양을 바꿀수 있다.\n",
    "\n",
    "##### index\n",
    "- 행렬의 특정 위치 데이터 값 가져오기\n",
    "- 행렬 자르기\n",
    "\n",
    "##### zeros/ one/ eye\n",
    "- 행렬을 만들고 안에 0으로 채워 넣는다.\n",
    "\n",
    "##### like\n",
    "- 행렬 안에 있는 모든 데이터를 0이나 1로 바꿀수 있다.\n",
    "\n",
    "##### empty\n",
    "- 빈행렬을 만든다.\n",
    "- 실제로는 빈데이터가 아니라 더미 데이터가 들어간다\n",
    "\n",
    "##### arange\n",
    "- range와 같다.\n",
    "- 하지만 큰데이터에서 range 보다 속도가 빠르다\n",
    "\n",
    "##### linspace, logspace\n",
    "\n",
    "##### random\n",
    "- seed\n",
    "- rand (uniform)\n",
    "- randn (gaussian)\n",
    "- randint\n",
    "- shuffle\n",
    "- choice"
   ]
  },
  {
   "cell_type": "code",
   "execution_count": 17,
   "metadata": {},
   "outputs": [
    {
     "data": {
      "text/plain": [
       "array([[1, 2, 3, 4],\n",
       "       [5, 6, 7, 8]])"
      ]
     },
     "execution_count": 17,
     "metadata": {},
     "output_type": "execute_result"
    }
   ],
   "source": [
    "# 2차원 배열 (1*3 matrix)\n",
    "array = np.array([[0],[1],[2]]) \n",
    "\n",
    "# .reshape()\n",
    "na = np.array([1,2,3,4,5,6,7,8])\n",
    "na = na.reshape(2,4)\n",
    "\n",
    "# 전치행렬\n",
    "na.T"
   ]
  },
  {
   "cell_type": "code",
   "execution_count": 14,
   "metadata": {},
   "outputs": [
    {
     "data": {
      "text/plain": [
       "array([1, 1, 1, 1, 1, 1, 1, 1])"
      ]
     },
     "execution_count": 14,
     "metadata": {},
     "output_type": "execute_result"
    }
   ],
   "source": [
    "ls = np.ones_like(na)\n",
    "ls"
   ]
  },
  {
   "cell_type": "code",
   "execution_count": 18,
   "metadata": {},
   "outputs": [
    {
     "data": {
      "text/plain": [
       "array([  0.,  25.,  50.,  75., 100.])"
      ]
     },
     "execution_count": 18,
     "metadata": {},
     "output_type": "execute_result"
    }
   ],
   "source": [
    "np.linspace(0, 100, 5)"
   ]
  },
  {
   "cell_type": "markdown",
   "metadata": {},
   "source": [
    "##### stack\n",
    "- 행렬을 쌓는것과 같이 합치는 방법\n",
    "\n",
    "##### concatenate (결합)\n",
    "- 가로 결합은 열의 갯수가 같아야 한다.\n",
    "- 세로 결합은 행의 갯수가 같아야 한다.\n",
    "\n",
    "##### split\n",
    "\n",
    "##### vsplit/hsplit\n",
    "- 행렬을 수직, 수평으로 나눈다\n",
    "\n",
    "##### sort"
   ]
  },
  {
   "cell_type": "code",
   "execution_count": 21,
   "metadata": {},
   "outputs": [
    {
     "data": {
      "text/plain": [
       "array([[ 0,  1,  2,  3,  4,  5],\n",
       "       [ 6,  7,  8,  9, 10, 11]])"
      ]
     },
     "execution_count": 21,
     "metadata": {},
     "output_type": "execute_result"
    }
   ],
   "source": [
    "na1 = np.arange(6)\n",
    "na2 = np.arange(6,12)\n",
    "na3 = np.stack((na1, na2)) \n",
    "na3"
   ]
  },
  {
   "cell_type": "code",
   "execution_count": 37,
   "metadata": {},
   "outputs": [
    {
     "name": "stdout",
     "output_type": "stream",
     "text": [
      "data :  \n",
      " [[0, 1, 2], [1, 2, 3], [2, 3, 4], [3, 4, 5], [4, 5, 6]] \n",
      "\n",
      "stack :  \n",
      " [[0 1 2]\n",
      " [1 2 3]\n",
      " [2 3 4]\n",
      " [3 4 5]\n",
      " [4 5 6]] \n",
      "\n",
      "hstack :  \n",
      " [0 1 2 1 2 3 2 3 4 3 4 5 4 5 6] \n",
      "\n",
      "vstack :  \n",
      " [[0 1 2]\n",
      " [1 2 3]\n",
      " [2 3 4]\n",
      " [3 4 5]\n",
      " [4 5 6]] \n",
      "\n",
      "stackaxis :  \n",
      " [[0 1 2 3 4]\n",
      " [1 2 3 4 5]\n",
      " [2 3 4 5 6]]\n"
     ]
    }
   ],
   "source": [
    "\n",
    "data = [list(range(7)[i:i+3]) for i in range(5) ] \n",
    "print('data : ','\\n',data,'\\n')\n",
    "print('stack : ','\\n',np.stack(data),'\\n')\n",
    "print('hstack : ','\\n',np.hstack(data),'\\n')\n",
    "print('vstack : ','\\n',np.vstack(data),'\\n')\n",
    "print('stackaxis : ','\\n',np.stack(data, axis=1))"
   ]
  },
  {
   "cell_type": "code",
   "execution_count": 48,
   "metadata": {},
   "outputs": [
    {
     "name": "stdout",
     "output_type": "stream",
     "text": [
      "가로 결합 (2,3)+(3,3)\n",
      "[[3 8 8]\n",
      " [8 8 5]\n",
      " [6 9 2]\n",
      " [0 0 6]\n",
      " [4 3 0]]\n",
      "\n",
      "세로 결합 (3,2)+(3,3)\n",
      "[[0 8 6 9 2]\n",
      " [7 7 0 0 6]\n",
      " [0 5 4 3 0]]\n"
     ]
    }
   ],
   "source": [
    "r1 = np.random.randint(10, size=(2,3))\n",
    "r2 = np.random.randint(10, size=(3,2))\n",
    "r3 = np.random.randint(10, size=(3,3))\n",
    "print(\"가로 결합 (2,3)+(3,3)\")\n",
    "print(np.concatenate([r1, r3], axis=0))\n",
    "print(\"\\n세로 결합 (3,2)+(3,3)\")\n",
    "print(np.concatenate([r2, r3], axis=1))"
   ]
  },
  {
   "cell_type": "code",
   "execution_count": 51,
   "metadata": {},
   "outputs": [
    {
     "data": {
      "text/plain": [
       "[array([1, 2, 3, 4, 5]), array([ 6,  7,  8,  9, 10, 11])]"
      ]
     },
     "execution_count": 51,
     "metadata": {},
     "output_type": "execute_result"
    }
   ],
   "source": [
    "r = np.arange(1,12)\n",
    "r1 = np.split(r, [5])         # 앞에서 5번째를 기준으로 나눈다\n",
    "r1"
   ]
  },
  {
   "cell_type": "code",
   "execution_count": 57,
   "metadata": {},
   "outputs": [
    {
     "name": "stdout",
     "output_type": "stream",
     "text": [
      "[[0 0 9 9 6 8]\n",
      " [8 9 3 8 7 7]\n",
      " [0 8 0 5 4 6]\n",
      " [0 7 0 3 7 5]]\n",
      "\n",
      "수평으로 2개씩 자름\n",
      " [[0 0 9 9 6 8]\n",
      " [8 9 3 8 7 7]]\n",
      "[[0 8 0 5 4 6]\n",
      " [0 7 0 3 7 5]]\n",
      "\n",
      "수직으로 2개씩 자름\n",
      " [[0 0 9]\n",
      " [8 9 3]\n",
      " [0 8 0]\n",
      " [0 7 0]]\n",
      "[[9 6 8]\n",
      " [8 7 7]\n",
      " [5 4 6]\n",
      " [3 7 5]]\n"
     ]
    }
   ],
   "source": [
    "r = np.random.randint(10, size=(4,6))\n",
    "print(r)\n",
    "r1, r2 = np.vsplit(r, [2])\n",
    "print('\\n수평으로 2개씩 자름\\n',r1)\n",
    "print(r2)\n",
    "# 수직으로 3개씩 자름\n",
    "r3, r4 = np.hsplit(r, [3])\n",
    "print('\\n수직으로 2개씩 자름\\n',r3)\n",
    "print(r4)"
   ]
  },
  {
   "cell_type": "code",
   "execution_count": 58,
   "metadata": {},
   "outputs": [
    {
     "name": "stdout",
     "output_type": "stream",
     "text": [
      "[8 9 4 6 7 2 5 3 1]\n"
     ]
    },
    {
     "data": {
      "text/plain": [
       "array([[8, 9, 4],\n",
       "       [6, 7, 2],\n",
       "       [5, 3, 1]])"
      ]
     },
     "execution_count": 58,
     "metadata": {},
     "output_type": "execute_result"
    }
   ],
   "source": [
    "# 문제\n",
    "# 1~9까지의 숫자가 들어가는 3*3 행렬을 만드세요\n",
    "# 만든 행렬을 무작위로 섞으세요\n",
    "q = np.arange(1,10)\n",
    "np.random.shuffle(q)\n",
    "print(q)\n",
    "qq = np.reshape(q,(3,3))\n",
    "qq"
   ]
  },
  {
   "cell_type": "code",
   "execution_count": null,
   "metadata": {},
   "outputs": [],
   "source": []
  }
 ],
 "metadata": {
  "kernelspec": {
   "display_name": "Python 3",
   "language": "python",
   "name": "python3"
  },
  "language_info": {
   "codemirror_mode": {
    "name": "ipython",
    "version": 3
   },
   "file_extension": ".py",
   "mimetype": "text/x-python",
   "name": "python",
   "nbconvert_exporter": "python",
   "pygments_lexer": "ipython3",
   "version": "3.6.5"
  }
 },
 "nbformat": 4,
 "nbformat_minor": 2
}
