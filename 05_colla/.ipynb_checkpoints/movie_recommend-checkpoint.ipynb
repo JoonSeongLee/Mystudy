{
 "cells": [
  {
   "cell_type": "markdown",
   "metadata": {},
   "source": [
    "## 1. Dataset"
   ]
  },
  {
   "cell_type": "code",
   "execution_count": 1,
   "metadata": {},
   "outputs": [],
   "source": [
    "from scipy import spatial"
   ]
  },
  {
   "cell_type": "code",
   "execution_count": 2,
   "metadata": {},
   "outputs": [
    {
     "data": {
      "text/html": [
       "<div>\n",
       "<style scoped>\n",
       "    .dataframe tbody tr th:only-of-type {\n",
       "        vertical-align: middle;\n",
       "    }\n",
       "\n",
       "    .dataframe tbody tr th {\n",
       "        vertical-align: top;\n",
       "    }\n",
       "\n",
       "    .dataframe thead th {\n",
       "        text-align: right;\n",
       "    }\n",
       "</style>\n",
       "<table border=\"1\" class=\"dataframe\">\n",
       "  <thead>\n",
       "    <tr style=\"text-align: right;\">\n",
       "      <th></th>\n",
       "      <th>userId</th>\n",
       "      <th>movieId</th>\n",
       "      <th>rating</th>\n",
       "    </tr>\n",
       "  </thead>\n",
       "  <tbody>\n",
       "    <tr>\n",
       "      <th>99999</th>\n",
       "      <td>671</td>\n",
       "      <td>6268</td>\n",
       "      <td>2.5</td>\n",
       "    </tr>\n",
       "    <tr>\n",
       "      <th>100000</th>\n",
       "      <td>671</td>\n",
       "      <td>6269</td>\n",
       "      <td>4.0</td>\n",
       "    </tr>\n",
       "    <tr>\n",
       "      <th>100001</th>\n",
       "      <td>671</td>\n",
       "      <td>6365</td>\n",
       "      <td>4.0</td>\n",
       "    </tr>\n",
       "    <tr>\n",
       "      <th>100002</th>\n",
       "      <td>671</td>\n",
       "      <td>6385</td>\n",
       "      <td>2.5</td>\n",
       "    </tr>\n",
       "    <tr>\n",
       "      <th>100003</th>\n",
       "      <td>671</td>\n",
       "      <td>6565</td>\n",
       "      <td>3.5</td>\n",
       "    </tr>\n",
       "  </tbody>\n",
       "</table>\n",
       "</div>"
      ],
      "text/plain": [
       "        userId  movieId  rating\n",
       "99999      671     6268     2.5\n",
       "100000     671     6269     4.0\n",
       "100001     671     6365     4.0\n",
       "100002     671     6385     2.5\n",
       "100003     671     6565     3.5"
      ]
     },
     "execution_count": 2,
     "metadata": {},
     "output_type": "execute_result"
    }
   ],
   "source": [
    "rating_df = pd.read_csv('ratings_small.csv')\n",
    "rating_df.drop('timestamp', axis=1,inplace=True)\n",
    "rating_df.tail()"
   ]
  },
  {
   "cell_type": "markdown",
   "metadata": {},
   "source": [
    "## 2. check dataset"
   ]
  },
  {
   "cell_type": "code",
   "execution_count": 3,
   "metadata": {},
   "outputs": [
    {
     "data": {
      "text/plain": [
       "671"
      ]
     },
     "execution_count": 3,
     "metadata": {},
     "output_type": "execute_result"
    }
   ],
   "source": [
    "unique_user = rating_df['userId'].unique()\n",
    "len(rating_df['userId'].unique())"
   ]
  },
  {
   "cell_type": "code",
   "execution_count": 4,
   "metadata": {},
   "outputs": [
    {
     "data": {
      "text/plain": [
       "9066"
      ]
     },
     "execution_count": 4,
     "metadata": {},
     "output_type": "execute_result"
    }
   ],
   "source": [
    "unique_movie = rating_df['movieId'].unique()\n",
    "len(rating_df['movieId'].unique())"
   ]
  },
  {
   "cell_type": "code",
   "execution_count": 5,
   "metadata": {},
   "outputs": [
    {
     "data": {
      "text/plain": [
       "(10, [0.5, 1.0, 1.5, 2.0, 2.5, 3.0, 3.5, 4.0, 4.5, 5.0])"
      ]
     },
     "execution_count": 5,
     "metadata": {},
     "output_type": "execute_result"
    }
   ],
   "source": [
    "unique_rating = rating_df['rating'].unique()\n",
    "len(unique_rating), sorted(unique_rating)"
   ]
  },
  {
   "cell_type": "code",
   "execution_count": 6,
   "metadata": {},
   "outputs": [
    {
     "data": {
      "text/html": [
       "<div>\n",
       "<style scoped>\n",
       "    .dataframe tbody tr th:only-of-type {\n",
       "        vertical-align: middle;\n",
       "    }\n",
       "\n",
       "    .dataframe tbody tr th {\n",
       "        vertical-align: top;\n",
       "    }\n",
       "\n",
       "    .dataframe thead th {\n",
       "        text-align: right;\n",
       "    }\n",
       "</style>\n",
       "<table border=\"1\" class=\"dataframe\">\n",
       "  <thead>\n",
       "    <tr style=\"text-align: right;\">\n",
       "      <th></th>\n",
       "      <th>rating</th>\n",
       "      <th>user_rating_count</th>\n",
       "    </tr>\n",
       "  </thead>\n",
       "  <tbody>\n",
       "    <tr>\n",
       "      <th>0</th>\n",
       "      <td>0.5</td>\n",
       "      <td>1101</td>\n",
       "    </tr>\n",
       "    <tr>\n",
       "      <th>1</th>\n",
       "      <td>1.0</td>\n",
       "      <td>3326</td>\n",
       "    </tr>\n",
       "    <tr>\n",
       "      <th>2</th>\n",
       "      <td>1.5</td>\n",
       "      <td>1687</td>\n",
       "    </tr>\n",
       "    <tr>\n",
       "      <th>3</th>\n",
       "      <td>2.0</td>\n",
       "      <td>7271</td>\n",
       "    </tr>\n",
       "    <tr>\n",
       "      <th>4</th>\n",
       "      <td>2.5</td>\n",
       "      <td>4449</td>\n",
       "    </tr>\n",
       "    <tr>\n",
       "      <th>5</th>\n",
       "      <td>3.0</td>\n",
       "      <td>20064</td>\n",
       "    </tr>\n",
       "    <tr>\n",
       "      <th>6</th>\n",
       "      <td>3.5</td>\n",
       "      <td>10538</td>\n",
       "    </tr>\n",
       "    <tr>\n",
       "      <th>7</th>\n",
       "      <td>4.0</td>\n",
       "      <td>28750</td>\n",
       "    </tr>\n",
       "    <tr>\n",
       "      <th>8</th>\n",
       "      <td>4.5</td>\n",
       "      <td>7723</td>\n",
       "    </tr>\n",
       "    <tr>\n",
       "      <th>9</th>\n",
       "      <td>5.0</td>\n",
       "      <td>15095</td>\n",
       "    </tr>\n",
       "  </tbody>\n",
       "</table>\n",
       "</div>"
      ],
      "text/plain": [
       "   rating  user_rating_count\n",
       "0     0.5               1101\n",
       "1     1.0               3326\n",
       "2     1.5               1687\n",
       "3     2.0               7271\n",
       "4     2.5               4449\n",
       "5     3.0              20064\n",
       "6     3.5              10538\n",
       "7     4.0              28750\n",
       "8     4.5               7723\n",
       "9     5.0              15095"
      ]
     },
     "execution_count": 6,
     "metadata": {},
     "output_type": "execute_result"
    }
   ],
   "source": [
    "# rating 분포\n",
    "rating_count_df = rating_df.groupby(\"rating\").size().reset_index(name='user_rating_count')\n",
    "rating_count_df"
   ]
  },
  {
   "cell_type": "code",
   "execution_count": 7,
   "metadata": {},
   "outputs": [
    {
     "data": {
      "text/html": [
       "<div>\n",
       "<style scoped>\n",
       "    .dataframe tbody tr th:only-of-type {\n",
       "        vertical-align: middle;\n",
       "    }\n",
       "\n",
       "    .dataframe tbody tr th {\n",
       "        vertical-align: top;\n",
       "    }\n",
       "\n",
       "    .dataframe thead th {\n",
       "        text-align: right;\n",
       "    }\n",
       "</style>\n",
       "<table border=\"1\" class=\"dataframe\">\n",
       "  <thead>\n",
       "    <tr style=\"text-align: right;\">\n",
       "      <th></th>\n",
       "      <th>userId</th>\n",
       "      <th>user_rating_count</th>\n",
       "    </tr>\n",
       "  </thead>\n",
       "  <tbody>\n",
       "    <tr>\n",
       "      <th>546</th>\n",
       "      <td>547</td>\n",
       "      <td>2391</td>\n",
       "    </tr>\n",
       "    <tr>\n",
       "      <th>563</th>\n",
       "      <td>564</td>\n",
       "      <td>1868</td>\n",
       "    </tr>\n",
       "    <tr>\n",
       "      <th>623</th>\n",
       "      <td>624</td>\n",
       "      <td>1735</td>\n",
       "    </tr>\n",
       "  </tbody>\n",
       "</table>\n",
       "</div>"
      ],
      "text/plain": [
       "     userId  user_rating_count\n",
       "546     547               2391\n",
       "563     564               1868\n",
       "623     624               1735"
      ]
     },
     "execution_count": 7,
     "metadata": {},
     "output_type": "execute_result"
    }
   ],
   "source": [
    "# user 분포\n",
    "user_count_df = rating_df.groupby('userId').size().reset_index(name='user_rating_count')\n",
    "user_count_df = user_count_df.sort_values(by=['user_rating_count'], ascending=False)\n",
    "user_count_df.head(3)"
   ]
  },
  {
   "cell_type": "code",
   "execution_count": 8,
   "metadata": {},
   "outputs": [
    {
     "data": {
      "text/html": [
       "<div>\n",
       "<style scoped>\n",
       "    .dataframe tbody tr th:only-of-type {\n",
       "        vertical-align: middle;\n",
       "    }\n",
       "\n",
       "    .dataframe tbody tr th {\n",
       "        vertical-align: top;\n",
       "    }\n",
       "\n",
       "    .dataframe thead th {\n",
       "        text-align: right;\n",
       "    }\n",
       "</style>\n",
       "<table border=\"1\" class=\"dataframe\">\n",
       "  <thead>\n",
       "    <tr style=\"text-align: right;\">\n",
       "      <th></th>\n",
       "      <th>movieId</th>\n",
       "      <th>movie_rating_count</th>\n",
       "    </tr>\n",
       "  </thead>\n",
       "  <tbody>\n",
       "    <tr>\n",
       "      <th>321</th>\n",
       "      <td>356</td>\n",
       "      <td>341</td>\n",
       "    </tr>\n",
       "    <tr>\n",
       "      <th>266</th>\n",
       "      <td>296</td>\n",
       "      <td>324</td>\n",
       "    </tr>\n",
       "    <tr>\n",
       "      <th>284</th>\n",
       "      <td>318</td>\n",
       "      <td>311</td>\n",
       "    </tr>\n",
       "  </tbody>\n",
       "</table>\n",
       "</div>"
      ],
      "text/plain": [
       "     movieId  movie_rating_count\n",
       "321      356                 341\n",
       "266      296                 324\n",
       "284      318                 311"
      ]
     },
     "execution_count": 8,
     "metadata": {},
     "output_type": "execute_result"
    }
   ],
   "source": [
    "#movie 분포\n",
    "movie_count_df = rating_df.groupby('movieId').size().reset_index(name='movie_rating_count')\n",
    "movie_count_df = movie_count_df.sort_values(by=['movie_rating_count'], ascending=False)\n",
    "movie_count_df.head(3)"
   ]
  },
  {
   "cell_type": "markdown",
   "metadata": {},
   "source": [
    "### 3. Preprocessing "
   ]
  },
  {
   "cell_type": "code",
   "execution_count": 9,
   "metadata": {},
   "outputs": [],
   "source": [
    "# user의 최소평가 수, movie 최소 평가수\n",
    "user_limit, movie_limit = 100, 100"
   ]
  },
  {
   "cell_type": "code",
   "execution_count": 10,
   "metadata": {},
   "outputs": [
    {
     "data": {
      "text/plain": [
       "(258, [547, 564, 624, 15, 73])"
      ]
     },
     "execution_count": 10,
     "metadata": {},
     "output_type": "execute_result"
    }
   ],
   "source": [
    "filtered_userId = list(user_count_df[user_count_df['user_rating_count'] > user_limit]['userId'])\n",
    "len(filtered_userId), filtered_userId[:5]\n",
    "# user data count :671 -> 258"
   ]
  },
  {
   "cell_type": "code",
   "execution_count": 11,
   "metadata": {},
   "outputs": [
    {
     "data": {
      "text/plain": [
       "(149, [356, 296, 318, 593, 260])"
      ]
     },
     "execution_count": 11,
     "metadata": {},
     "output_type": "execute_result"
    }
   ],
   "source": [
    "filtered_movieId = list(movie_count_df[movie_count_df['movie_rating_count'] > movie_limit]['movieId'])\n",
    "len(filtered_movieId), filtered_movieId[:5]\n",
    "# movie data count: 9066 -> 149"
   ]
  },
  {
   "cell_type": "code",
   "execution_count": 12,
   "metadata": {},
   "outputs": [
    {
     "name": "stdout",
     "output_type": "stream",
     "text": [
      "15567\n"
     ]
    },
    {
     "data": {
      "text/html": [
       "<div>\n",
       "<style scoped>\n",
       "    .dataframe tbody tr th:only-of-type {\n",
       "        vertical-align: middle;\n",
       "    }\n",
       "\n",
       "    .dataframe tbody tr th {\n",
       "        vertical-align: top;\n",
       "    }\n",
       "\n",
       "    .dataframe thead th {\n",
       "        text-align: right;\n",
       "    }\n",
       "</style>\n",
       "<table border=\"1\" class=\"dataframe\">\n",
       "  <thead>\n",
       "    <tr style=\"text-align: right;\">\n",
       "      <th></th>\n",
       "      <th>userId</th>\n",
       "      <th>movieId</th>\n",
       "      <th>rating</th>\n",
       "    </tr>\n",
       "  </thead>\n",
       "  <tbody>\n",
       "    <tr>\n",
       "      <th>99987</th>\n",
       "      <td>671</td>\n",
       "      <td>5349</td>\n",
       "      <td>4.0</td>\n",
       "    </tr>\n",
       "    <tr>\n",
       "      <th>99989</th>\n",
       "      <td>671</td>\n",
       "      <td>5445</td>\n",
       "      <td>4.5</td>\n",
       "    </tr>\n",
       "    <tr>\n",
       "      <th>99994</th>\n",
       "      <td>671</td>\n",
       "      <td>5952</td>\n",
       "      <td>5.0</td>\n",
       "    </tr>\n",
       "  </tbody>\n",
       "</table>\n",
       "</div>"
      ],
      "text/plain": [
       "       userId  movieId  rating\n",
       "99987     671     5349     4.0\n",
       "99989     671     5445     4.5\n",
       "99994     671     5952     5.0"
      ]
     },
     "execution_count": 12,
     "metadata": {},
     "output_type": "execute_result"
    }
   ],
   "source": [
    "filtered_df = rating_df[rating_df['userId'].isin(filtered_userId)]\n",
    "filtered_df = filtered_df[filtered_df['movieId'].isin(filtered_movieId)]\n",
    "print(len(filtered_df))\n",
    "filtered_df.tail(3)"
   ]
  },
  {
   "cell_type": "markdown",
   "metadata": {},
   "source": [
    "### 4.pivot"
   ]
  },
  {
   "cell_type": "code",
   "execution_count": 13,
   "metadata": {},
   "outputs": [
    {
     "data": {
      "text/html": [
       "<div>\n",
       "<style scoped>\n",
       "    .dataframe tbody tr th:only-of-type {\n",
       "        vertical-align: middle;\n",
       "    }\n",
       "\n",
       "    .dataframe tbody tr th {\n",
       "        vertical-align: top;\n",
       "    }\n",
       "\n",
       "    .dataframe thead th {\n",
       "        text-align: right;\n",
       "    }\n",
       "</style>\n",
       "<table border=\"1\" class=\"dataframe\">\n",
       "  <thead>\n",
       "    <tr style=\"text-align: right;\">\n",
       "      <th>movieId</th>\n",
       "      <th>1</th>\n",
       "      <th>2</th>\n",
       "      <th>6</th>\n",
       "      <th>10</th>\n",
       "      <th>25</th>\n",
       "      <th>32</th>\n",
       "      <th>34</th>\n",
       "      <th>36</th>\n",
       "      <th>39</th>\n",
       "      <th>47</th>\n",
       "      <th>...</th>\n",
       "      <th>6377</th>\n",
       "      <th>6539</th>\n",
       "      <th>6874</th>\n",
       "      <th>7153</th>\n",
       "      <th>7361</th>\n",
       "      <th>7438</th>\n",
       "      <th>8961</th>\n",
       "      <th>33794</th>\n",
       "      <th>58559</th>\n",
       "      <th>79132</th>\n",
       "    </tr>\n",
       "    <tr>\n",
       "      <th>userId</th>\n",
       "      <th></th>\n",
       "      <th></th>\n",
       "      <th></th>\n",
       "      <th></th>\n",
       "      <th></th>\n",
       "      <th></th>\n",
       "      <th></th>\n",
       "      <th></th>\n",
       "      <th></th>\n",
       "      <th></th>\n",
       "      <th></th>\n",
       "      <th></th>\n",
       "      <th></th>\n",
       "      <th></th>\n",
       "      <th></th>\n",
       "      <th></th>\n",
       "      <th></th>\n",
       "      <th></th>\n",
       "      <th></th>\n",
       "      <th></th>\n",
       "      <th></th>\n",
       "    </tr>\n",
       "  </thead>\n",
       "  <tbody>\n",
       "    <tr>\n",
       "      <th>656</th>\n",
       "      <td>0.0</td>\n",
       "      <td>0.0</td>\n",
       "      <td>0.0</td>\n",
       "      <td>0.0</td>\n",
       "      <td>0.0</td>\n",
       "      <td>0.0</td>\n",
       "      <td>0.0</td>\n",
       "      <td>0.0</td>\n",
       "      <td>0.0</td>\n",
       "      <td>0.0</td>\n",
       "      <td>...</td>\n",
       "      <td>0.0</td>\n",
       "      <td>0.0</td>\n",
       "      <td>0.0</td>\n",
       "      <td>0.0</td>\n",
       "      <td>0.0</td>\n",
       "      <td>0.0</td>\n",
       "      <td>0.0</td>\n",
       "      <td>0.0</td>\n",
       "      <td>0.0</td>\n",
       "      <td>0.0</td>\n",
       "    </tr>\n",
       "    <tr>\n",
       "      <th>659</th>\n",
       "      <td>0.0</td>\n",
       "      <td>0.0</td>\n",
       "      <td>3.0</td>\n",
       "      <td>0.0</td>\n",
       "      <td>5.0</td>\n",
       "      <td>4.0</td>\n",
       "      <td>0.0</td>\n",
       "      <td>4.0</td>\n",
       "      <td>0.0</td>\n",
       "      <td>4.0</td>\n",
       "      <td>...</td>\n",
       "      <td>0.0</td>\n",
       "      <td>0.0</td>\n",
       "      <td>0.0</td>\n",
       "      <td>0.0</td>\n",
       "      <td>0.0</td>\n",
       "      <td>0.0</td>\n",
       "      <td>0.0</td>\n",
       "      <td>0.0</td>\n",
       "      <td>0.0</td>\n",
       "      <td>0.0</td>\n",
       "    </tr>\n",
       "    <tr>\n",
       "      <th>664</th>\n",
       "      <td>3.5</td>\n",
       "      <td>0.0</td>\n",
       "      <td>4.0</td>\n",
       "      <td>0.0</td>\n",
       "      <td>0.0</td>\n",
       "      <td>5.0</td>\n",
       "      <td>0.0</td>\n",
       "      <td>0.0</td>\n",
       "      <td>0.0</td>\n",
       "      <td>4.5</td>\n",
       "      <td>...</td>\n",
       "      <td>0.0</td>\n",
       "      <td>4.0</td>\n",
       "      <td>4.0</td>\n",
       "      <td>4.0</td>\n",
       "      <td>4.0</td>\n",
       "      <td>4.0</td>\n",
       "      <td>4.0</td>\n",
       "      <td>4.0</td>\n",
       "      <td>4.5</td>\n",
       "      <td>5.0</td>\n",
       "    </tr>\n",
       "    <tr>\n",
       "      <th>665</th>\n",
       "      <td>0.0</td>\n",
       "      <td>3.0</td>\n",
       "      <td>0.0</td>\n",
       "      <td>0.0</td>\n",
       "      <td>0.0</td>\n",
       "      <td>4.0</td>\n",
       "      <td>2.0</td>\n",
       "      <td>0.0</td>\n",
       "      <td>2.0</td>\n",
       "      <td>0.0</td>\n",
       "      <td>...</td>\n",
       "      <td>0.0</td>\n",
       "      <td>0.0</td>\n",
       "      <td>0.0</td>\n",
       "      <td>0.0</td>\n",
       "      <td>0.0</td>\n",
       "      <td>0.0</td>\n",
       "      <td>0.0</td>\n",
       "      <td>0.0</td>\n",
       "      <td>0.0</td>\n",
       "      <td>0.0</td>\n",
       "    </tr>\n",
       "    <tr>\n",
       "      <th>671</th>\n",
       "      <td>5.0</td>\n",
       "      <td>0.0</td>\n",
       "      <td>0.0</td>\n",
       "      <td>0.0</td>\n",
       "      <td>0.0</td>\n",
       "      <td>0.0</td>\n",
       "      <td>0.0</td>\n",
       "      <td>4.0</td>\n",
       "      <td>0.0</td>\n",
       "      <td>0.0</td>\n",
       "      <td>...</td>\n",
       "      <td>0.0</td>\n",
       "      <td>0.0</td>\n",
       "      <td>0.0</td>\n",
       "      <td>0.0</td>\n",
       "      <td>0.0</td>\n",
       "      <td>0.0</td>\n",
       "      <td>0.0</td>\n",
       "      <td>0.0</td>\n",
       "      <td>0.0</td>\n",
       "      <td>0.0</td>\n",
       "    </tr>\n",
       "  </tbody>\n",
       "</table>\n",
       "<p>5 rows × 149 columns</p>\n",
       "</div>"
      ],
      "text/plain": [
       "movieId  1      2      6      10     25     32     34     36     39     47     \\\n",
       "userId                                                                          \n",
       "656        0.0    0.0    0.0    0.0    0.0    0.0    0.0    0.0    0.0    0.0   \n",
       "659        0.0    0.0    3.0    0.0    5.0    4.0    0.0    4.0    0.0    4.0   \n",
       "664        3.5    0.0    4.0    0.0    0.0    5.0    0.0    0.0    0.0    4.5   \n",
       "665        0.0    3.0    0.0    0.0    0.0    4.0    2.0    0.0    2.0    0.0   \n",
       "671        5.0    0.0    0.0    0.0    0.0    0.0    0.0    4.0    0.0    0.0   \n",
       "\n",
       "movieId  ...    6377   6539   6874   7153   7361   7438   8961   33794  58559  \\\n",
       "userId   ...                                                                    \n",
       "656      ...      0.0    0.0    0.0    0.0    0.0    0.0    0.0    0.0    0.0   \n",
       "659      ...      0.0    0.0    0.0    0.0    0.0    0.0    0.0    0.0    0.0   \n",
       "664      ...      0.0    4.0    4.0    4.0    4.0    4.0    4.0    4.0    4.5   \n",
       "665      ...      0.0    0.0    0.0    0.0    0.0    0.0    0.0    0.0    0.0   \n",
       "671      ...      0.0    0.0    0.0    0.0    0.0    0.0    0.0    0.0    0.0   \n",
       "\n",
       "movieId  79132  \n",
       "userId          \n",
       "656        0.0  \n",
       "659        0.0  \n",
       "664        5.0  \n",
       "665        0.0  \n",
       "671        0.0  \n",
       "\n",
       "[5 rows x 149 columns]"
      ]
     },
     "execution_count": 13,
     "metadata": {},
     "output_type": "execute_result"
    }
   ],
   "source": [
    "user_df = filtered_df.pivot_table(values = 'rating', index=['userId'], columns=[\"movieId\"], \\\n",
    "                        aggfunc = np.average, fill_value = 0, dropna = False)\n",
    "user_df.tail()"
   ]
  },
  {
   "cell_type": "markdown",
   "metadata": {},
   "source": [
    "### 5. Function"
   ]
  },
  {
   "cell_type": "markdown",
   "metadata": {},
   "source": [
    "#### (2) cosine_similarity"
   ]
  },
  {
   "cell_type": "code",
   "execution_count": 14,
   "metadata": {},
   "outputs": [],
   "source": [
    "def cosine_similarity(vector_1, vector_2):\n",
    "    \n",
    "    idx = vector_1.nonzero()[0]\n",
    "    if len(idx) == 0:\n",
    "        return 0\n",
    "    vector_1, vector_2 = np.array(vector_1)[idx], np.array(vector_2)[idx]\n",
    "    \n",
    "    idx = vector_2.nonzero()[0]\n",
    "    if len(idx) == 0:\n",
    "        return 0\n",
    "    vector_1, vector_2 = np.array(vector_1)[idx], np.array(vector_2)[idx]\n",
    "    #print(vector_1, vector_2)\n",
    "    return 1 - spatial.distance.cosine(vector_1, vector_2) "
   ]
  },
  {
   "cell_type": "code",
   "execution_count": 15,
   "metadata": {},
   "outputs": [
    {
     "data": {
      "text/plain": [
       "0.9922778767136677"
      ]
     },
     "execution_count": 15,
     "metadata": {},
     "output_type": "execute_result"
    }
   ],
   "source": [
    "vector_1 = np.array([1,0,5,0,1,2])\n",
    "vector_2 = np.array([1,2,3,4,0,0])\n",
    "cosine_similarity(vector_1, vector_2)"
   ]
  },
  {
   "cell_type": "code",
   "execution_count": 16,
   "metadata": {},
   "outputs": [],
   "source": [
    "def similarity_matrix(df, similarity_func):\n",
    "    idx = df.index\n",
    "    df = df.T\n",
    "    # df.loc[1]\n",
    "    matrix = []\n",
    "    for idx_1, value_1 in df.items():\n",
    "        row = []\n",
    "        for idx_2, value_2 in df.items():\n",
    "            row.append(similarity_func(value_1, value_2))\n",
    "        matrix.append(row)\n",
    "        \n",
    "    return pd.DataFrame(matrix, columns = idx, index = idx)\n",
    "        \n",
    "    "
   ]
  },
  {
   "cell_type": "code",
   "execution_count": 17,
   "metadata": {},
   "outputs": [
    {
     "data": {
      "text/html": [
       "<div>\n",
       "<style scoped>\n",
       "    .dataframe tbody tr th:only-of-type {\n",
       "        vertical-align: middle;\n",
       "    }\n",
       "\n",
       "    .dataframe tbody tr th {\n",
       "        vertical-align: top;\n",
       "    }\n",
       "\n",
       "    .dataframe thead th {\n",
       "        text-align: right;\n",
       "    }\n",
       "</style>\n",
       "<table border=\"1\" class=\"dataframe\">\n",
       "  <thead>\n",
       "    <tr style=\"text-align: right;\">\n",
       "      <th>userId</th>\n",
       "      <th>4</th>\n",
       "      <th>8</th>\n",
       "      <th>15</th>\n",
       "      <th>17</th>\n",
       "      <th>19</th>\n",
       "      <th>21</th>\n",
       "      <th>22</th>\n",
       "      <th>23</th>\n",
       "      <th>26</th>\n",
       "      <th>30</th>\n",
       "      <th>...</th>\n",
       "      <th>647</th>\n",
       "      <th>648</th>\n",
       "      <th>652</th>\n",
       "      <th>654</th>\n",
       "      <th>655</th>\n",
       "      <th>656</th>\n",
       "      <th>659</th>\n",
       "      <th>664</th>\n",
       "      <th>665</th>\n",
       "      <th>671</th>\n",
       "    </tr>\n",
       "    <tr>\n",
       "      <th>userId</th>\n",
       "      <th></th>\n",
       "      <th></th>\n",
       "      <th></th>\n",
       "      <th></th>\n",
       "      <th></th>\n",
       "      <th></th>\n",
       "      <th></th>\n",
       "      <th></th>\n",
       "      <th></th>\n",
       "      <th></th>\n",
       "      <th></th>\n",
       "      <th></th>\n",
       "      <th></th>\n",
       "      <th></th>\n",
       "      <th></th>\n",
       "      <th></th>\n",
       "      <th></th>\n",
       "      <th></th>\n",
       "      <th></th>\n",
       "      <th></th>\n",
       "      <th></th>\n",
       "    </tr>\n",
       "  </thead>\n",
       "  <tbody>\n",
       "    <tr>\n",
       "      <th>4</th>\n",
       "      <td>1.000000</td>\n",
       "      <td>0.991116</td>\n",
       "      <td>0.956762</td>\n",
       "      <td>0.948457</td>\n",
       "      <td>0.985932</td>\n",
       "      <td>0.980286</td>\n",
       "      <td>0.981591</td>\n",
       "      <td>0.982744</td>\n",
       "      <td>0.986789</td>\n",
       "      <td>0.979119</td>\n",
       "      <td>...</td>\n",
       "      <td>0.979131</td>\n",
       "      <td>0.951088</td>\n",
       "      <td>0.986368</td>\n",
       "      <td>0.991149</td>\n",
       "      <td>0.983037</td>\n",
       "      <td>0.997707</td>\n",
       "      <td>0.970241</td>\n",
       "      <td>0.994377</td>\n",
       "      <td>0.968998</td>\n",
       "      <td>0.985579</td>\n",
       "    </tr>\n",
       "    <tr>\n",
       "      <th>8</th>\n",
       "      <td>0.991116</td>\n",
       "      <td>1.000000</td>\n",
       "      <td>0.914253</td>\n",
       "      <td>0.966828</td>\n",
       "      <td>0.972568</td>\n",
       "      <td>0.985269</td>\n",
       "      <td>0.964117</td>\n",
       "      <td>0.982010</td>\n",
       "      <td>0.984022</td>\n",
       "      <td>0.971471</td>\n",
       "      <td>...</td>\n",
       "      <td>0.974777</td>\n",
       "      <td>0.947942</td>\n",
       "      <td>0.970261</td>\n",
       "      <td>0.988689</td>\n",
       "      <td>0.979823</td>\n",
       "      <td>0.998645</td>\n",
       "      <td>0.972875</td>\n",
       "      <td>0.990196</td>\n",
       "      <td>0.974638</td>\n",
       "      <td>0.982713</td>\n",
       "    </tr>\n",
       "    <tr>\n",
       "      <th>15</th>\n",
       "      <td>0.956762</td>\n",
       "      <td>0.914253</td>\n",
       "      <td>1.000000</td>\n",
       "      <td>0.914953</td>\n",
       "      <td>0.950125</td>\n",
       "      <td>0.950927</td>\n",
       "      <td>0.906975</td>\n",
       "      <td>0.923247</td>\n",
       "      <td>0.888292</td>\n",
       "      <td>0.920392</td>\n",
       "      <td>...</td>\n",
       "      <td>0.957841</td>\n",
       "      <td>0.856947</td>\n",
       "      <td>0.893839</td>\n",
       "      <td>0.917356</td>\n",
       "      <td>0.900642</td>\n",
       "      <td>0.873927</td>\n",
       "      <td>0.938017</td>\n",
       "      <td>0.930106</td>\n",
       "      <td>0.903008</td>\n",
       "      <td>0.892096</td>\n",
       "    </tr>\n",
       "  </tbody>\n",
       "</table>\n",
       "<p>3 rows × 258 columns</p>\n",
       "</div>"
      ],
      "text/plain": [
       "userId       4         8         15        17        19        21        22   \\\n",
       "userId                                                                         \n",
       "4       1.000000  0.991116  0.956762  0.948457  0.985932  0.980286  0.981591   \n",
       "8       0.991116  1.000000  0.914253  0.966828  0.972568  0.985269  0.964117   \n",
       "15      0.956762  0.914253  1.000000  0.914953  0.950125  0.950927  0.906975   \n",
       "\n",
       "userId       23        26        30     ...          647       648       652  \\\n",
       "userId                                  ...                                    \n",
       "4       0.982744  0.986789  0.979119    ...     0.979131  0.951088  0.986368   \n",
       "8       0.982010  0.984022  0.971471    ...     0.974777  0.947942  0.970261   \n",
       "15      0.923247  0.888292  0.920392    ...     0.957841  0.856947  0.893839   \n",
       "\n",
       "userId       654       655       656       659       664       665       671  \n",
       "userId                                                                        \n",
       "4       0.991149  0.983037  0.997707  0.970241  0.994377  0.968998  0.985579  \n",
       "8       0.988689  0.979823  0.998645  0.972875  0.990196  0.974638  0.982713  \n",
       "15      0.917356  0.900642  0.873927  0.938017  0.930106  0.903008  0.892096  \n",
       "\n",
       "[3 rows x 258 columns]"
      ]
     },
     "execution_count": 17,
     "metadata": {},
     "output_type": "execute_result"
    }
   ],
   "source": [
    "#test code - similarity\n",
    "sm_df = similarity_matrix(user_df, cosine_similarity)\n",
    "sm_df.head(3)"
   ]
  },
  {
   "cell_type": "markdown",
   "metadata": {},
   "source": [
    "#### (2) mean score"
   ]
  },
  {
   "cell_type": "code",
   "execution_count": 25,
   "metadata": {},
   "outputs": [],
   "source": [
    "def mean_score(df, sm_df, target, closer_count = 10):\n",
    "    \n",
    "    sms_df = sm_df.drop(target)  # .drop - > row\n",
    "    sms_df = sms_df.sort_values(target, ascending=False)\n",
    "    sms_df = sms_df[target][:closer_count]\n",
    "    \n",
    "    smsw_df = df.loc[sms_df.index]\n",
    "    \n",
    "    ms_df = pd.DataFrame(columns = df.columns)\n",
    "    ms_df.loc[\"user\"] = df.loc[target]\n",
    "    ms_df.loc[\"mean\"] = smsw_df.mean()\n",
    "    \n",
    "    return ms_df"
   ]
  },
  {
   "cell_type": "markdown",
   "metadata": {},
   "source": [
    "## test cod - mean_score\n",
    "ms_df = mean_score(user_df, sm_df, 4, 5)\n",
    "ms_df"
   ]
  },
  {
   "cell_type": "markdown",
   "metadata": {},
   "source": [
    "### (4) recommend"
   ]
  },
  {
   "cell_type": "code",
   "execution_count": 27,
   "metadata": {},
   "outputs": [],
   "source": [
    "def recommend(ms_df):\n",
    "    recommend_df = ms_df.T\n",
    "    recommend_df = recommend_df[recommend_df['user'] == 0]\n",
    "    recommend_df = recommend_df.sort_values(\"mean\", ascending = False)\n",
    "    return recommend_df, list(recommend_df.index)"
   ]
  },
  {
   "cell_type": "code",
   "execution_count": 28,
   "metadata": {},
   "outputs": [],
   "source": [
    "# test code - recommend\n",
    "\n",
    "recommend_df, recommend_list = recommend(ms_df)"
   ]
  },
  {
   "cell_type": "code",
   "execution_count": 31,
   "metadata": {},
   "outputs": [
    {
     "data": {
      "text/plain": [
       "[4226, 2858, 2959, 4973, 912, 50, 5952, 4306, 3996, 4993]"
      ]
     },
     "execution_count": 31,
     "metadata": {},
     "output_type": "execute_result"
    }
   ],
   "source": [
    "recommend_list[:10]\n"
   ]
  },
  {
   "cell_type": "code",
   "execution_count": 37,
   "metadata": {},
   "outputs": [
    {
     "data": {
      "text/html": [
       "<div>\n",
       "<style scoped>\n",
       "    .dataframe tbody tr th:only-of-type {\n",
       "        vertical-align: middle;\n",
       "    }\n",
       "\n",
       "    .dataframe tbody tr th {\n",
       "        vertical-align: top;\n",
       "    }\n",
       "\n",
       "    .dataframe thead th {\n",
       "        text-align: right;\n",
       "    }\n",
       "</style>\n",
       "<table border=\"1\" class=\"dataframe\">\n",
       "  <thead>\n",
       "    <tr style=\"text-align: right;\">\n",
       "      <th></th>\n",
       "      <th>user</th>\n",
       "      <th>mean</th>\n",
       "    </tr>\n",
       "    <tr>\n",
       "      <th>movieId</th>\n",
       "      <th></th>\n",
       "      <th></th>\n",
       "    </tr>\n",
       "  </thead>\n",
       "  <tbody>\n",
       "    <tr>\n",
       "      <th>4226</th>\n",
       "      <td>0.0</td>\n",
       "      <td>3.0</td>\n",
       "    </tr>\n",
       "    <tr>\n",
       "      <th>2858</th>\n",
       "      <td>0.0</td>\n",
       "      <td>2.8</td>\n",
       "    </tr>\n",
       "    <tr>\n",
       "      <th>2959</th>\n",
       "      <td>0.0</td>\n",
       "      <td>2.7</td>\n",
       "    </tr>\n",
       "    <tr>\n",
       "      <th>4973</th>\n",
       "      <td>0.0</td>\n",
       "      <td>2.7</td>\n",
       "    </tr>\n",
       "    <tr>\n",
       "      <th>912</th>\n",
       "      <td>0.0</td>\n",
       "      <td>2.5</td>\n",
       "    </tr>\n",
       "    <tr>\n",
       "      <th>50</th>\n",
       "      <td>0.0</td>\n",
       "      <td>2.4</td>\n",
       "    </tr>\n",
       "    <tr>\n",
       "      <th>5952</th>\n",
       "      <td>0.0</td>\n",
       "      <td>2.1</td>\n",
       "    </tr>\n",
       "  </tbody>\n",
       "</table>\n",
       "</div>"
      ],
      "text/plain": [
       "         user  mean\n",
       "movieId            \n",
       "4226      0.0   3.0\n",
       "2858      0.0   2.8\n",
       "2959      0.0   2.7\n",
       "4973      0.0   2.7\n",
       "912       0.0   2.5\n",
       "50        0.0   2.4\n",
       "5952      0.0   2.1"
      ]
     },
     "execution_count": 37,
     "metadata": {},
     "output_type": "execute_result"
    }
   ],
   "source": [
    "recommend_df.head(7)"
   ]
  },
  {
   "cell_type": "markdown",
   "metadata": {},
   "source": [
    "### (5) MAE"
   ]
  },
  {
   "cell_type": "code",
   "execution_count": 40,
   "metadata": {},
   "outputs": [],
   "source": [
    "def mae(value, pred):\n",
    "    idx = value.nonzero()[0]\n",
    "    value, pred = np.array(value)[idx], np.array(pred)[idx]\n",
    "    \n",
    "    idx = pred.nonzero()[0]\n",
    "    value, pred = np.array(value)[idx], np.array(pred)[idx]\n",
    "    \n",
    "    return np.absolute(sum(value - pred))/len(idx)\n",
    "    "
   ]
  },
  {
   "cell_type": "code",
   "execution_count": 41,
   "metadata": {},
   "outputs": [
    {
     "data": {
      "text/plain": [
       "3.5749999999999997"
      ]
     },
     "execution_count": 41,
     "metadata": {},
     "output_type": "execute_result"
    }
   ],
   "source": [
    "### test code - mae\n",
    "mae(ms_df.loc['user'], ms_df.loc['mean'])"
   ]
  },
  {
   "cell_type": "code",
   "execution_count": 43,
   "metadata": {},
   "outputs": [],
   "source": [
    "def evaluate(df, sm_df, algorithm, closer_count=10):\n",
    "    \n",
    "    users = df.index\n",
    "    evaluate_list = []\n",
    "    \n",
    "    for target in users:\n",
    "        result_df = mean_score(df, sm_df, target, closer_count)\n",
    "        evaluate_list.append(algorithm(result_df.loc['user'], ms_df.loc[\"mean\"]))\n",
    "    return np.average(evaluate_list)"
   ]
  },
  {
   "cell_type": "code",
   "execution_count": 44,
   "metadata": {},
   "outputs": [
    {
     "data": {
      "text/plain": [
       "2.607068090943497"
      ]
     },
     "execution_count": 44,
     "metadata": {},
     "output_type": "execute_result"
    }
   ],
   "source": [
    "# test code - evaluate\n",
    "evaluate(user_df, sm_df, mae, 10)"
   ]
  },
  {
   "cell_type": "code",
   "execution_count": 47,
   "metadata": {},
   "outputs": [],
   "source": [
    "def euclidean_similarity(vector_1, vector_2):\n",
    "    idx = vector_1.nonzero()[0]\n",
    "    if len(idx) == 0:\n",
    "        return 0\n",
    "    vector_1, vector_2 = np.array(vector_1)[idx], np.array(vector_2)[idx]\n",
    "    \n",
    "    idx = vector_2.nonzero()[0]\n",
    "    if len(idx) == 0:\n",
    "        return 0\n",
    "    vector_1, vector_2 = np.array(vector_1)[idx], np.array(vector_2)[idx]\n",
    "    #print(vector_1, vector_2)\n",
    "    return np.linalg.norm(vector_1 - vector_2) "
   ]
  },
  {
   "cell_type": "code",
   "execution_count": 48,
   "metadata": {},
   "outputs": [
    {
     "data": {
      "text/plain": [
       "2.0"
      ]
     },
     "execution_count": 48,
     "metadata": {},
     "output_type": "execute_result"
    }
   ],
   "source": [
    "# test code -euclidean_similarity\n",
    "vector_1 = np.array([1,0,5,0,1,2])\n",
    "vector_2 = np.array([1,2,3,4,0,0])\n",
    "euclidean_similarity(vector_1, vector_2)"
   ]
  },
  {
   "cell_type": "code",
   "execution_count": 49,
   "metadata": {},
   "outputs": [],
   "source": [
    "def find_best(user_df, similarity, closer_count):\n",
    "    sm_df = similarity_matrix(user_df, similarity)\n",
    "    \n",
    "    return evaluate(user_df, sm_df, mae, closer_count)"
   ]
  },
  {
   "cell_type": "code",
   "execution_count": 51,
   "metadata": {},
   "outputs": [
    {
     "data": {
      "text/plain": [
       "2.607068090943497"
      ]
     },
     "execution_count": 51,
     "metadata": {},
     "output_type": "execute_result"
    }
   ],
   "source": [
    "find_best(user_df, euclidean_similarity, 5)\n"
   ]
  },
  {
   "cell_type": "code",
   "execution_count": 69,
   "metadata": {},
   "outputs": [
    {
     "name": "stdout",
     "output_type": "stream",
     "text": [
      "similarity :  <function euclidean_similarity at 0x10d454268>\n",
      "20 2.607068090943497\n",
      "21 2.607068090943497\n",
      "22 2.607068090943497\n",
      "23 2.607068090943497\n",
      "24 2.607068090943497\n",
      "25 2.607068090943497\n",
      "similarity :  <function cosine_similarity at 0x104ff5d90>\n",
      "20 2.607068090943497\n",
      "21 2.607068090943497\n",
      "22 2.607068090943497\n",
      "23 2.607068090943497\n",
      "24 2.607068090943497\n",
      "25 2.607068090943497\n"
     ]
    }
   ],
   "source": [
    "similarity_str = ['euclidean_similarity', 'cosine_similarity']\n",
    "similarity_list = [euclidean_similarity, cosine_similarity]\n",
    "closer_start, closer_end =20, 25\n",
    "\n",
    "for idx, similarity in enumerate(similarity_list):\n",
    "    print(\"similarity : \", similarity)\n",
    "    for closer_count in range(closer_start, closer_end+1):\n",
    "        print(closer_count, find_best(user_df, similarity, closer_count))"
   ]
  },
  {
   "cell_type": "code",
   "execution_count": null,
   "metadata": {},
   "outputs": [],
   "source": []
  }
 ],
 "metadata": {
  "kernelspec": {
   "display_name": "Python 3",
   "language": "python",
   "name": "python3"
  },
  "language_info": {
   "codemirror_mode": {
    "name": "ipython",
    "version": 3
   },
   "file_extension": ".py",
   "mimetype": "text/x-python",
   "name": "python",
   "nbconvert_exporter": "python",
   "pygments_lexer": "ipython3",
   "version": "3.6.4"
  }
 },
 "nbformat": 4,
 "nbformat_minor": 2
}
