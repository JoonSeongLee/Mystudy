{
 "cells": [
  {
   "cell_type": "code",
   "execution_count": 5,
   "metadata": {},
   "outputs": [],
   "source": [
    "from selenium import webdriver\n",
    "pd.set_option('display.max_columns', None)"
   ]
  },
  {
   "cell_type": "code",
   "execution_count": 6,
   "metadata": {},
   "outputs": [
    {
     "data": {
      "text/plain": [
       "28"
      ]
     },
     "execution_count": 6,
     "metadata": {},
     "output_type": "execute_result"
    }
   ],
   "source": [
    "columns = [\"Rank\",\"Team\",\"GP\", \"W\", \"L\", \"Win%\",\"MIN\", \"PTS\", \"FGM\", \"FGA\",\"FG%\", \"3PM\", \"3PA\",\n",
    "           \"3P%\",\"FTM\",\"FTA\",\"FT%\",\"OREB\",\"DREB\",\"REB\",\"AST\",\"TOV\",\"STL\",\"BLK\",\"BLKA\",\"PF\",\n",
    "          \"PFD\",\"+/-\"]\n",
    "df = pd.DataFrame(columns=columns)\n",
    "\n",
    "driver = webdriver.Chrome()\n",
    "driver.get(\"http://stats.nba.com/teams/traditional/?sort=PTS&dir=-1\")\n",
    "\n",
    "table = driver.find_elements_by_css_selector(\".nba-stat-table__overflow tbody > tr\")\n",
    "\n",
    "\n",
    "len(columns)"
   ]
  },
  {
   "cell_type": "code",
   "execution_count": 7,
   "metadata": {},
   "outputs": [
    {
     "name": "stdout",
     "output_type": "stream",
     "text": [
      "CPU times: user 818 ms, sys: 48.1 ms, total: 866 ms\n",
      "Wall time: 19.9 s\n"
     ]
    }
   ],
   "source": [
    "%%time\n",
    "for ls in table:\n",
    "    data ={}\n",
    "    for i,col in enumerate(columns):  \n",
    "        data[col] = ls.find_element_by_css_selector(\"td:nth-child({})\".format(i+1)).text\n",
    "    df.loc[len(df)] = data\n",
    "df"
   ]
  },
  {
   "cell_type": "code",
   "execution_count": null,
   "metadata": {},
   "outputs": [],
   "source": []
  }
 ],
 "metadata": {
  "kernelspec": {
   "display_name": "Python 3",
   "language": "python",
   "name": "python3"
  },
  "language_info": {
   "codemirror_mode": {
    "name": "ipython",
    "version": 3
   },
   "file_extension": ".py",
   "mimetype": "text/x-python",
   "name": "python",
   "nbconvert_exporter": "python",
   "pygments_lexer": "ipython3",
   "version": "3.6.4"
  }
 },
 "nbformat": 4,
 "nbformat_minor": 2
}
