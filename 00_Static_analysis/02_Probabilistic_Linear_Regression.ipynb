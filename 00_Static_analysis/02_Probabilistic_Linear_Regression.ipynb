{
 "cells": [
  {
   "cell_type": "markdown",
   "metadata": {},
   "source": [
    "# 확률론적 선형회귀모형\n",
    "\n",
    "**OLS(Ordinary Least Square**) 방법을 사용하면 데이터에 대한 **확률론적인 가정없이도** 최적의 가중치를 계산할 수 있다.\n",
    "\n",
    "그러나 이 경우에는 계산한 가중치가 **어느 정도의 신뢰도 또는 안정성을 가지는지 확인할 수 있는 방법이 없다.** \n",
    "\n",
    "이를 확인하고자 하는 시도 중의 하나가 부트스트래핑(bootstrapping) 방법이다.\n",
    "\n",
    "## 부트스트래핑\n",
    "\n",
    "부트스트래핑(bootstrapping)은 회귀 분석에 사용한 **데이터가 달라진다면 회귀 분석의 결과는 어느 정도 영향을 받는지**를 알기 위한 방법이다. "
   ]
  },
  {
   "cell_type": "code",
   "execution_count": 1,
   "metadata": {},
   "outputs": [
    {
     "data": {
      "text/plain": [
       "array(42.38550486)"
      ]
     },
     "execution_count": 1,
     "metadata": {},
     "output_type": "execute_result"
    }
   ],
   "source": [
    "from sklearn.datasets import make_regression\n",
    "\n",
    "X0, y, coef = make_regression(n_samples=100, n_features=1, noise=20,\n",
    "                              coef=True, random_state=0)\n",
    "coef"
   ]
  },
  {
   "cell_type": "markdown",
   "metadata": {},
   "source": [
    "모수는 각각 $w_0=0$, $w_1=42.3855$"
   ]
  },
  {
   "cell_type": "code",
   "execution_count": 4,
   "metadata": {},
   "outputs": [
    {
     "data": {
      "text/plain": [
       "const    -1.628364\n",
       "X1       42.853356\n",
       "dtype: float64"
      ]
     },
     "execution_count": 4,
     "metadata": {},
     "output_type": "execute_result"
    }
   ],
   "source": [
    "import statsmodels.api as sm\n",
    "\n",
    "dfX0 = pd.DataFrame(X0, columns=[\"X1\"])\n",
    "dfX = sm.add_constant(dfX0)\n",
    "dfy = pd.DataFrame(y, columns=[\"y\"])\n",
    "\n",
    "model = sm.OLS(dfy, dfX)\n",
    "result = model.fit()\n",
    "\n",
    "result.params"
   ]
  },
  {
   "cell_type": "markdown",
   "metadata": {},
   "source": [
    "추정된 계수 정보는 params 속성에 저장되어 있다. 실제 모수와 어느정도 오차를 가짐을 알 수 있다.\n",
    "\n",
    "다음으로 이 데이터에서 중복을 허락하여 N개의 데이터를 선택한 후 다시 회귀 분석을 한다. 이론적으로 약  2100 개의 경우가 있지만 1,000번만 반복해 본다."
   ]
  },
  {
   "cell_type": "code",
   "execution_count": 5,
   "metadata": {},
   "outputs": [
    {
     "name": "stdout",
     "output_type": "stream",
     "text": [
      "CPU times: user 1.26 s, sys: 17.6 ms, total: 1.28 s\n",
      "Wall time: 1.3 s\n"
     ]
    }
   ],
   "source": [
    "%%time\n",
    "N = 1000\n",
    "params_c = np.zeros(N)\n",
    "params_x1 = np.zeros(N)\n",
    "for i in range(N):\n",
    "    idx = np.random.choice(len(dfy), len(dfy), replace=True)\n",
    "    dfX2 = dfX.iloc[idx, :]\n",
    "    dfy2 = dfy.iloc[idx]\n",
    "    r = sm.OLS(dfy2, dfX2).fit()\n",
    "    params_c[i] = r.params.const\n",
    "    params_x1[i] = r.params.X1"
   ]
  },
  {
   "cell_type": "code",
   "execution_count": 6,
   "metadata": {},
   "outputs": [
    {
     "data": {
      "image/png": "[encoded data removed]",
      "text/plain": [
       "<matplotlib.figure.Figure at 0x10895c6a0>"
      ]
     },
     "metadata": {},
     "output_type": "display_data"
    }
   ],
   "source": [
    "# 전체 가중치 집합을 히스토그램\n",
    "\n",
    "plt.figure(figsize=(8, 3))\n",
    "\n",
    "ax1 = plt.subplot(121)\n",
    "sns.distplot(params_c, ax=ax1)\n",
    "plt.axvline(params_c.mean(), c='r')\n",
    "plt.title(\"const parameter $\\hat{w}_0$\")\n",
    "\n",
    "ax2 = plt.subplot(122)\n",
    "sns.distplot(params_x1, ax=ax2)\n",
    "plt.axvline(params_x1.mean(), c='r')\n",
    "plt.title(\"x1 parameter $\\hat{w}_1$\")\n",
    "plt.show()"
   ]
  },
  {
   "cell_type": "code",
   "execution_count": 7,
   "metadata": {},
   "outputs": [
    {
     "name": "stdout",
     "output_type": "stream",
     "text": [
      "                            OLS Regression Results                            \n",
      "==============================================================================\n",
      "Dep. Variable:                      y   R-squared:                       0.803\n",
      "Model:                            OLS   Adj. R-squared:                  0.801\n",
      "Method:                 Least Squares   F-statistic:                     400.3\n",
      "Date:                Wed, 07 Mar 2018   Prob (F-statistic):           2.21e-36\n",
      "Time:                        15:29:37   Log-Likelihood:                -448.09\n",
      "No. Observations:                 100   AIC:                             900.2\n",
      "Df Residuals:                      98   BIC:                             905.4\n",
      "Df Model:                           1                                         \n",
      "Covariance Type:            nonrobust                                         \n",
      "==============================================================================\n",
      "                 coef    std err          t      P>|t|      [0.025      0.975]\n",
      "------------------------------------------------------------------------------\n",
      "const         -1.6284      2.163     -0.753      0.453      -5.920       2.663\n",
      "X1            42.8534      2.142     20.008      0.000      38.603      47.104\n",
      "==============================================================================\n",
      "Omnibus:                        3.523   Durbin-Watson:                   1.984\n",
      "Prob(Omnibus):                  0.172   Jarque-Bera (JB):                2.059\n",
      "Skew:                          -0.073   Prob(JB):                        0.357\n",
      "Kurtosis:                       2.312   Cond. No.                         1.06\n",
      "==============================================================================\n",
      "\n",
      "Warnings:\n",
      "[1] Standard Errors assume that the covariance matrix of the errors is correctly specified.\n"
     ]
    }
   ],
   "source": [
    "print(result.summary())"
   ]
  },
  {
   "cell_type": "markdown",
   "metadata": {},
   "source": [
    "보고서의 std err 항목을 보면 표준 편차의 경우 2.163 이고 마지막의 신뢰 구간(confidence interval)이 -5.920 ~ 2.663 임을 보이고 있다. \n",
    "\n",
    "부트스트래핑으로 얻은 결과와 유사하다. 이 결과는 다음에 설명할 확률론적 가정에 의해 계산된 값이다."
   ]
  },
  {
   "cell_type": "markdown",
   "metadata": {},
   "source": [
    "## 확률론적 선형회귀모형\n",
    "\n",
    "**확률론적 선형회귀모형**을 사용하면 **부트스트래핑 없이도 회귀분석 결과의 통계적 특성**을 구할 수 있다. 확률론적 선형회귀모형에서는 데이터가 확률 변수로부터 생성된 표본이라고 가정한다. 구체적인 가정은 다음과 같다.\n",
    "\n",
    "### 가정 1. 오차의 분포에 대한 가정\n",
    "\n",
    "#### 1-1. 선형 정규 분포 가정\n",
    "\n",
    "**선형 회귀 분석의 기본 가정 : **\n",
    "\n",
    "종속 변수 $y$가 독립 변수 $x$의 선형 조합으로 결정되는 기댓값과 고정된 분산 $\\sigma^2$을 가지는 정규 분포라는 것이다\n",
    " $ y \\sim \\mathcal{N}(w^Tx, \\sigma^2) $<br>\n",
    "\n",
    "y의 확률 밀도 함수, 모수 벡터 : \n",
    "$$\\theta=(w, \\sigma^2)$ : $ p(y \\mid x, \\theta) = \\mathcal{N}(y \\mid w^Tx, \\sigma^2 ) $$\n",
    "\n",
    "\n",
    "$ \\epsilon_i = y - w^Tx $, 오차(disturbance)의 확률 밀도 함수 : \n",
    "$$ p(\\epsilon \\mid \\theta) = \\mathcal{N}(0, \\sigma^2 ) $$\n",
    "\n",
    "\n",
    "\n",
    "여기에서 주의할 점 : $y$도 $x$에 대해 조건부로 정규 분포를 이루는 것이지 $y$ 자체가 무조건부로 정규분포는 아니다.\n",
    "\n",
    "> **x, y 중 그 어느 것도 그 자체로 정규 분포일 필요는 없다**\n",
    "\n"
   ]
  },
  {
   "cell_type": "markdown",
   "metadata": {},
   "source": [
    "#### 1-2. 외생성(Exogeneity) 가정\n",
    "\n",
    "오차 $\\epsilon$의 기댓값은 독립 변수 $x$에 상관없이 항상 0이라고 가정한다.\n",
    "\n",
    "$$ \\text{E}[\\epsilon \\mid x] = 0$$\n",
    "\n",
    "$$ \\text{E}[\\epsilon] = 0$$\n",
    "\n",
    "$$ \\text{E}[\\epsilon x] = 0$$\n",
    "\n",
    "#### 1-3.  조건부 독립 가정\n",
    "\n",
    "$i$번째 샘플의 오차 $\\epsilon_i$와 $j$번째 샘플의 오차 $\\epsilon_j$의 공분산 값이 $x$와 상관없이 항상 0이라고 가정한다.\n",
    "\n",
    "$$ \\text{Cov}[\\epsilon_i, \\epsilon_j \\mid x] = 0 \\;\\; (i,j=1,2,\\ldots,N) $$ \n",
    "\n",
    "$$ \\text{E}[\\epsilon_i \\epsilon_j] = 0 \\;\\; (i,j=1,2,\\ldots,N) $$\n",
    "\n",
    "$$\\text{Cov}[\\epsilon] = \\text{E}[\\epsilon^{} \\epsilon^T] = \\sigma^2 I $$\n",
    "\n",
    "### 가정 2. 독립 변수에 대한 가정\n",
    "\n",
    "독립 변수의 공분산 행렬은 full rank 이어야 한다. \n",
    "\n",
    "$$ \\text{rank}(X^TX) = D \\;\\; (X \\in \\mathbf{R}^{N \\times D})$$\n",
    "\n",
    "즉, 독립 변수에서 서로 독립인 성분이 독립 변수의 갯수만큼 존재해야 한다. 만약 공분산 행렬이 full rank가 아니면 $X^TX$의 역행렬이 존재하지 않으므로 올바른 모수 추정이 어렵다. 또는 공분산 행렬의 조건이 나쁜(ill-conditioned) 경우에도 올바른 모수 추정이 되지 않는다."
   ]
  },
  {
   "cell_type": "markdown",
   "metadata": {},
   "source": [
    "# MLE를 사용한 선형 회귀 분석\n",
    "\n",
    "확률론적 선형 회귀모형의 가정과 **MLE(Maximum Likelihood Estimation)**을 사용하여 **가중치 벡터 $w$**의 값을 구해보자."
   ]
  },
  {
   "cell_type": "markdown",
   "metadata": {},
   "source": [
    "**Likelihood**\n",
    "$$\n",
    "\\begin{eqnarray}\n",
    "p(y_{1:N} \\,\\big|\\, x_{1:N}, \\theta)\n",
    "&=& \\prod_{i=1}^N \\mathcal{N}(y_i \\,\\big|\\, w^T x_i , \\sigma^2) \\\\\n",
    "&=& \\prod_{i=1}^N \\frac{1}{\\sqrt{2\\pi\\sigma^2}}\\exp\\left\\{-\\frac{(y_i-w^T x_i)^2}{2\\sigma^2} \\right\\}  \\\\\n",
    "\\end{eqnarray}\n",
    "$$"
   ]
  },
  {
   "cell_type": "markdown",
   "metadata": {},
   "source": [
    "계산을 쉽게하기 위해 Log를 적용하여 **LL(log-likelihood)**를 구한다.\n",
    "\n",
    "$$\n",
    "\\begin{eqnarray}\n",
    "\\text{LL}  \n",
    "&=& \\log p(y_{1:N} \\,\\big|\\, x_{1:N}, \\theta) \\\\\n",
    "&=& \\log \\prod_{i=1}^N \\frac{1}{\\sqrt{2\\pi\\sigma^2}}\\exp\\left\\{-\\frac{(y_i-w^T x_i)^2}{2\\sigma^2} \\right\\}  \\\\\n",
    "&=& -\\dfrac{1}{2\\sigma^2} \\sum_{i=1}^N (y_i-w^T x_i)^2 - \\dfrac{N}{2} \\log{2\\pi}{\\sigma^2}  \\\\\n",
    "\\end{eqnarray}\n",
    "$$<br>\n",
    "\n",
    "$$\n",
    "\\text{LL}  =  -C_1 (y - Xw)^T(y-Xw) - C_0 = -C_1(w^TX^TXw -2 y^TXw + y^Ty) - C_0\n",
    "$$\n",
    "\n",
    "$$\n",
    "C_1 =  -\\dfrac{1}{2\\sigma^2}\n",
    "$$\n",
    "\n",
    "$$\n",
    "C_0 =  \\dfrac{N}{2} \\log{2\\pi}{\\sigma^2} \n",
    "$$\n"
   ]
  },
  {
   "cell_type": "markdown",
   "metadata": {},
   "source": [
    "이를 최적화하면 OLS와 동일한 결과\n",
    "\n",
    "$$\n",
    "\\dfrac{\\partial}{\\partial w} \\text{LL} = -C_1 \\left( 2X^TX \\hat{w} - 2X^Ty \\right) = 0\n",
    "$$\n",
    "\n",
    "$$\n",
    "\\hat{w} = (X^TX)^{-1}X^T y\n",
    "$$\n",
    "\n",
    "여기에서도 **OLS의 정규 방정식과 같은 형태**의 정규 방정식을 얻을 수 있다.\n",
    "\n",
    "$$ X^TX \\hat{w} - X^Ty = 0 $$\n",
    "\n",
    "$$ X^T(X \\hat{w} - y) = X^T(\\hat{y} - y) = X^Te = 0 $$\n"
   ]
  },
  {
   "cell_type": "markdown",
   "metadata": {},
   "source": [
    "## 잔차의 분포\n",
    "\n",
    "위의 확률론적 선형 회귀모형에 따르면 회귀분석에서 생기는 **잔차 $e = y - \\hat{w}^Tx$ 도 정규 분포를 따른다**.\n",
    "\n",
    "확률론적 선형회귀모형의 오차 $\\epsilon$와 잔차 $e$는 다음과 같은 관계를 가진다.\n",
    "\n",
    "$$  \\hat{y} = X\\hat{w} = X (X^TX)^{-1}X^T y = Hy $$\n",
    "\n",
    "이 행렬 $H$은 **Hat 행렬** 혹은 **프로젝션(projection) 행렬** 또는 **영향도(influence) 행렬**이라고 부르는 대칭 행렬이다.\n",
    "\n",
    "\n",
    "$$ HH = H $$\n",
    "\n",
    "$$ e = y - \\hat{y}= y - Hy = (I - H) y$$\n",
    "\n",
    "$M = I - H$, 이 행렬 $M$은 **잔차(residual) 행렬** 혹은 **rejection 행렬**이라고 부르고 대칭 행렬이다. \n",
    "\n",
    "$$ MM = M $$\n",
    "\n",
    "$$ e = My = M (Xw + \\epsilon) = MXw + M\\epsilon $$\n",
    "\n",
    "그런데\n",
    "\n",
    "$$\n",
    "X^TM = X^T(I - H) = X^T - X^TH = X^T - X^TX (X^TX)^{-1}X^T = 0\n",
    "$$\n",
    "\n",
    "$$\n",
    "M^TX = MX = 0\n",
    "$$\n",
    "\n",
    "잔차식에 이 값을 다시 대입하면\n",
    "\n",
    "$$ e = MXw + M\\epsilon = M\\epsilon $$\n",
    "\n",
    "\n",
    "$$ e =  M\\epsilon $$\n",
    "\n",
    "즉, **잔차 $e$는 오차 $\\epsilon$의 선형 변환(linear transform)**이다. 정규 분포의 선형 변환은 마찬가지로 정규 분포이므로 잔차도 정규 분포를 다른다."
   ]
  },
  {
   "cell_type": "code",
   "execution_count": 9,
   "metadata": {
    "scrolled": true
   },
   "outputs": [
    {
     "data": {
      "image/png": "[encoded data removed]",
      "text/plain": [
       "<matplotlib.figure.Figure at 0x107ced438>"
      ]
     },
     "metadata": {},
     "output_type": "display_data"
    }
   ],
   "source": [
    "import scipy as sp\n",
    "sp.stats.probplot(result.resid, plot=plt)\n",
    "plt.show()"
   ]
  },
  {
   "cell_type": "markdown",
   "metadata": {},
   "source": [
    "잔차의 정규성은 다음과 같이 정규성 검정을 통해 살펴볼 수도 있다."
   ]
  },
  {
   "cell_type": "code",
   "execution_count": 13,
   "metadata": {},
   "outputs": [
    {
     "name": "stdout",
     "output_type": "stream",
     "text": [
      "Chi^2       :  3.523\n",
      "P-value     :  0.172\n"
     ]
    }
   ],
   "source": [
    "import statsmodels.stats.api as sms\n",
    "test = sms.omni_normtest(result.resid)\n",
    "for xi in zip(['Chi^2', 'P-value'], test):\n",
    "    print(\"%-12s: %6.3f\" % xi)"
   ]
  },
  {
   "cell_type": "code",
   "execution_count": 14,
   "metadata": {},
   "outputs": [
    {
     "name": "stdout",
     "output_type": "stream",
     "text": [
      "Jarque-Bera :  2.059\n",
      "P-value     :  0.357\n",
      "Skew        : -0.073\n",
      "Kurtosis    :  2.312\n"
     ]
    }
   ],
   "source": [
    "test = sms.jarque_bera(result.resid)\n",
    "for xi in zip(['Jarque-Bera', 'P-value', 'Skew', 'Kurtosis'], test):\n",
    "    print(\"%-12s: %6.3f\" % xi)"
   ]
  },
  {
   "cell_type": "markdown",
   "metadata": {},
   "source": [
    "또한 오차의 기댓값이 $x$와 상관없이 0이므로 **잔차의 기댓값도 $x$와 상관없이 0**이어야 한다. 다음은 $x$값이 달라짐에 따라 잔차의 분포가 어떻게 바뀌는 지를 살펴보기 위한 것이다. $x$값이 달라져도 분포의 형태가 크게 바뀌지 않음을 알 수 있다."
   ]
  },
  {
   "cell_type": "code",
   "execution_count": 15,
   "metadata": {},
   "outputs": [
    {
     "data": {
      "image/png": "[encoded data removed]",
      "text/plain": [
       "<matplotlib.figure.Figure at 0x1098509e8>"
      ]
     },
     "metadata": {},
     "output_type": "display_data"
    }
   ],
   "source": [
    "\n",
    "plt.plot(X0, result.resid, 'o')\n",
    "plt.axhline(y=0, c='k')\n",
    "plt.xlabel(\"X1\")\n",
    "plt.ylabel(\"Residual\")\n",
    "plt.show()"
   ]
  },
  {
   "cell_type": "markdown",
   "metadata": {},
   "source": [
    "다음은 $0 < x < 1$인 구간과 $1 < x < 2$인 구간으로 나누어 분포의 모양을 살펴본 것이다. 둘 다 기댓값이 0에 가깝고 분산의 크기가 비슷함을 알 수 있다."
   ]
  },
  {
   "cell_type": "code",
   "execution_count": 16,
   "metadata": {},
   "outputs": [
    {
     "data": {
      "image/png": "[encoded data removed]",
      "text/plain": [
       "<matplotlib.figure.Figure at 0x109850550>"
      ]
     },
     "metadata": {},
     "output_type": "display_data"
    }
   ],
   "source": [
    "sns.kdeplot(result.resid[((1 < X0) & (X0 < 2)).flatten()], label=\"1 < x < 2\")\n",
    "sns.kdeplot(result.resid[((0 < X0) & (X0 < 1)).flatten()], label=\"0 < x < 1\")\n",
    "plt.legend()\n",
    "plt.show()"
   ]
  },
  {
   "cell_type": "markdown",
   "metadata": {},
   "source": [
    "## 회귀 계수의 표준 오차"
   ]
  },
  {
   "cell_type": "markdown",
   "metadata": {},
   "source": [
    "가중치 $\\hat{w}$ 도 정규 분포 확률 변수인 $y$의 선형 변환이므로 정규 분포를 따른다.\n",
    "\n",
    "$$  \n",
    "\\begin{eqnarray}\n",
    "\\hat{w} \n",
    "&=& (X^TX)^{-1} X^T y \\\\\n",
    "&=& (X^TX)^{-1} X^T (X w + \\epsilon) \\\\\n",
    "&=& w + (X^TX)^{-1} X^T \\epsilon \\\\\n",
    "\\end{eqnarray}\n",
    "$$\n",
    "\n",
    "따라서 가중치의 기댓값은 다음과 같다.\n",
    "\n",
    "$$  \n",
    "\\begin{eqnarray}\n",
    "\\text{E}[\\hat{w}] \n",
    "&=&  \\text{E}[ w + (X^TX)^{-1} X^T \\epsilon ] \\\\\n",
    "&=&  w + (X^TX)^{-1} X^T \\text{E}[ \\epsilon ] \\\\\n",
    "&=& w\n",
    "\\end{eqnarray}\n",
    "$$\n",
    "\n",
    "\n",
    "가중치의 (공)분산을 계산하면 다음과 같다.\n",
    "\n",
    "\n",
    "$$\n",
    "\\begin{eqnarray}\n",
    "\\text{Cov}[\\hat{w}] \n",
    "&=& E[(\\hat{w} - w)(\\hat{w} - w)^T] \\\\\n",
    "&=& E[((X^TX)^{-1} X^T \\epsilon)((X^TX)^{-1} X^T \\epsilon)^T] \\\\\n",
    "&=& E[(X^TX)^{-1} X^T \\epsilon \\epsilon^T X(X^TX)^{−1} ] \\\\\n",
    "&=& (X^TX)^{-1} X^T E[\\epsilon \\epsilon^T] X(X^TX)^{−1} \\\\\n",
    "&=& (X^TX)^{-1} X^T (\\sigma^2 I) X(X^TX)^{−1} \\\\\n",
    "&=& \\sigma^2  (X^TX)^{-1}\n",
    "\\end{eqnarray}\n",
    "$$\n"
   ]
  },
  {
   "cell_type": "markdown",
   "metadata": {},
   "source": [
    "$\\sigma^2$의 값은 알지 못하므로 다음과 같이 추정한다.\n",
    "\n",
    "$$ s^2 = \\dfrac{e^Te}{N-K} = \\dfrac{RSS}{N-K} $$\n",
    "\n",
    "$N$은 표본 데이터의 수, $K$는 모수, 입력 데이터의 차원의 수 $D$\n",
    "\n",
    "$$ K = D + 1 $$\n",
    "\n",
    "$\\hat{w}$의 (공)분산의 추정값은 다음과 같다.\n",
    "\n",
    "$$ \\text{Est.Cov}[\\hat{w}]  = s^2(X^TX)^{-1}$$\n",
    "\n",
    "$w_i$의 분산을 뜻하는 대각 성분이 필요\n",
    "\n",
    "$$\\text{Est.Var}[\\hat{w}_i]  = \\left( \\text{Est.Cov}[\\hat{w}] \\right)_{ii} \\;\\; (i=0, \\ldots, K-1)$$\n",
    "\n",
    "\n",
    "이 값에서 구한 표준 편차를 **회귀 계수의 표준 오차(Standard Error of Regression Coefficient)**라고 한다.\n",
    "\n",
    " $$ {se_i} = \\sqrt{s^2 \\big((X^TX)^{-1}\\big)_{ii}} \\;\\; (i=0, \\ldots, K-1)$$\n",
    " \n",
    "실제 가중치 계수 $w_i$와 우리가 추정한 가중치 계수 $\\hat{w}_i$의 차이, 즉 **모수 오차는 기댓값이 0이고 표준 오차를 분산으로 가지는 스튜던트-t 분포**를 따른다."
   ]
  },
  {
   "cell_type": "markdown",
   "metadata": {},
   "source": [
    "## 단일 계수 t-검정 (Single Coefficient t-test)"
   ]
  },
  {
   "cell_type": "markdown",
   "metadata": {},
   "source": [
    "$\\hat{w}$을 위에서 구한 표준 오차로 나눈 값은 자유도가 $N-K$인 표준 스튜던트 t 분포를 따른다.\n",
    "\n",
    "$$  \\dfrac{\\hat{w}_i - w_i}{se_i} \\sim t_{N-K} \\;\\; (i=0, \\ldots, K-1)$$\n",
    "\n",
    "이를 검정 통계량(test statistics)로 사용하면 특정 회귀 계수 $w_i$가 0 인지 아닌지에 대해 조사할 수 있다.\n",
    "\n",
    "$$ H_0 : \\;\\; w_i = 0 \\;\\; (i=0, \\ldots, K-1)$$\n",
    "\n",
    "만약 유의확률이 0에 가깝게 나온다면 위의 귀무가설은 기각이므로 $w_i$ 값이 0일 가능성은 적다. 하지만 유의확률이 유의수준을 넘는 큰 값이 나온다면 반대로 $w_i$ 값이 0일 가능성이 크다. 즉, 해당 독립변수는 종속변수와 아무런 상관성이 없을 가능성이 있다는 뜻이다.\n",
    "\n",
    "StatsModels `summary` 메서드가 출력하는 회귀분석 보고서에서 `std err`로 표시된 열이 모형계수의 표준오차, `t`로 표시된 열이 단일 계수 t-검정의 검정 통계량, 그리고 `P>|t|`로 표시된 열이 유의확률을 뜻한다. \n",
    "\n",
    "아래의 보고서에서는 첫번째 모형계수는 실제 값이 0일 가능성 즉, 상수항을 가지지 않을 가능성이 높다고 할 수 있다."
   ]
  },
  {
   "cell_type": "code",
   "execution_count": 18,
   "metadata": {},
   "outputs": [
    {
     "name": "stdout",
     "output_type": "stream",
     "text": [
      "                            OLS Regression Results                            \n",
      "==============================================================================\n",
      "Dep. Variable:                      y   R-squared:                       0.803\n",
      "Model:                            OLS   Adj. R-squared:                  0.801\n",
      "Method:                 Least Squares   F-statistic:                     400.3\n",
      "Date:                Wed, 07 Mar 2018   Prob (F-statistic):           2.21e-36\n",
      "Time:                        18:23:19   Log-Likelihood:                -448.09\n",
      "No. Observations:                 100   AIC:                             900.2\n",
      "Df Residuals:                      98   BIC:                             905.4\n",
      "Df Model:                           1                                         \n",
      "Covariance Type:            nonrobust                                         \n",
      "==============================================================================\n",
      "                 coef    std err          t      P>|t|      [0.025      0.975]\n",
      "------------------------------------------------------------------------------\n",
      "const         -1.6284      2.163     -0.753      0.453      -5.920       2.663\n",
      "X1            42.8534      2.142     20.008      0.000      38.603      47.104\n",
      "==============================================================================\n",
      "Omnibus:                        3.523   Durbin-Watson:                   1.984\n",
      "Prob(Omnibus):                  0.172   Jarque-Bera (JB):                2.059\n",
      "Skew:                          -0.073   Prob(JB):                        0.357\n",
      "Kurtosis:                       2.312   Cond. No.                         1.06\n",
      "==============================================================================\n",
      "\n",
      "Warnings:\n",
      "[1] Standard Errors assume that the covariance matrix of the errors is correctly specified.\n"
     ]
    }
   ],
   "source": [
    "print(result.summary())"
   ]
  },
  {
   "cell_type": "markdown",
   "metadata": {},
   "source": [
    "`RegressionResults` 클래스 객체는 t test 를 위한 `t_test` 메서드를 제공한다. 이 메서드를 사용하면 계수 값이 0이 아닌 경우도 테스트할 수 있다. 예를 들어 위 예제에서 귀무 가설을 다음처럼 놓고\n",
    "\n",
    "$$ H_0: w_1 = 40 $$\n",
    "\n",
    "x1에 대한 계수값 $w_1$을 40으로 해도 되는지 테스트할 수도 있다."
   ]
  },
  {
   "cell_type": "code",
   "execution_count": 29,
   "metadata": {},
   "outputs": [
    {
     "name": "stdout",
     "output_type": "stream",
     "text": [
      "                             Test for Constraints                             \n",
      "==============================================================================\n",
      "                 coef    std err          t      P>|t|      [0.025      0.975]\n",
      "------------------------------------------------------------------------------\n",
      "c0            42.8534      2.142      1.332      0.186      38.603      47.104\n",
      "==============================================================================\n"
     ]
    }
   ],
   "source": [
    "print(result.t_test(\"X1 = 40\"))"
   ]
  },
  {
   "cell_type": "markdown",
   "metadata": {},
   "source": [
    "이 검정 결과에 따르면 x1에 대한 계수를 40으로 한다고 해도 문제가 없음을 알 수 있다."
   ]
  },
  {
   "cell_type": "markdown",
   "metadata": {},
   "source": [
    "## Loss-of-Fit 검정 (회귀 분석 F-검정)"
   ]
  },
  {
   "cell_type": "markdown",
   "metadata": {},
   "source": [
    "개별 개수가 아닌 전체 회귀 계수가 모두 의미가 있는지 확인하는 경우에는 다음과 같은 귀무 가설을 생각할 수 있다.\n",
    "\n",
    "$$ H_0 : w_0  = w_1 = \\cdots = w_{K-1} = 0 $$\n",
    "\n",
    "이는 전체 독립 변수 중 어느 것도 의미를 가진 것이 없다는 뜻이다. 대부분의 경우, 이 귀무가설은 기각된다. 다만 유의 확률이 얼마나 작은가에 따라서 기각되는 정도가 달라진다. 유의 확률이 작으면 작을수록 더 강력하게 기각된 것이므로 더 의미가 있는 모형이라고 할 수 있다. 따라서 여러 모형의 유의 확률을 비교하여 어느 모형이 더 성능이 좋은가를 비교할 때 이 유의 확률을 사용한다. 이러한 검정을 Loss-of-Fit 검정 또는 **회귀 분석 F-검정(regression F-test)**이라고 한다."
   ]
  },
  {
   "cell_type": "markdown",
   "metadata": {},
   "source": [
    "위 보고서에서 `F-statistic`라고 표시된 `400.3`이라는 값이 회귀분석 F-검정의 검정통계량이고 `Prob (F-statistic)`로 표시된 `2.21e-36`라는 값이 유의확률이다."
   ]
  },
  {
   "cell_type": "code",
   "execution_count": null,
   "metadata": {},
   "outputs": [],
   "source": []
  }
 ],
 "metadata": {
  "kernelspec": {
   "display_name": "Python 3",
   "language": "python",
   "name": "python3"
  },
  "language_info": {
   "codemirror_mode": {
    "name": "ipython",
    "version": 3
   },
   "file_extension": ".py",
   "mimetype": "text/x-python",
   "name": "python",
   "nbconvert_exporter": "python",
   "pygments_lexer": "ipython3",
   "version": "3.6.4"
  }
 },
 "nbformat": 4,
 "nbformat_minor": 2
}
