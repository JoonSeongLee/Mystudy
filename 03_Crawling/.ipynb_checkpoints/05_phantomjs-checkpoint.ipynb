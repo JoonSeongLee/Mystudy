{
 "cells": [
  {
   "cell_type": "markdown",
   "metadata": {},
   "source": [
    "### phantomjs\n",
    "\n",
    "selenium 최신버전에서는 phantomjs를 지원하지 않습니다.\n",
    "\n",
    "##### mac\n",
    "- brew install node\n",
    "- npm install -g phantomjs\n",
    "- pip3 uninstall selenium\n",
    "- sudo pip3 install selenium==2.53.1\n",
    "\n",
    "##### ubuntu\n",
    "\n",
    "- install selenium\n",
    "\n",
    "    - `$ pip3 install selenium==2.53.1`\n",
    "\n",
    "\n",
    "- install nodejs & npm\n",
    "\n",
    "    - `$ sudo apt-get update`\n",
    "    - `$ sudo apt-get install nodejs`\n",
    "    - `$ sudo apt-get install npm` \n",
    "\n",
    "\n",
    "- install phantomjs\n",
    "\n",
    "    - `$ sudo apt-get install build-essential chrpath libssl-dev libxft-dev`\n",
    "    - `$ sudo apt-get install libfreetype6 libfreetype6-dev`  \n",
    "    - `$ sudo apt-get install libfontconfig1 libfontconfig1-dev`\n",
    "\n",
    "    - `$ cd ~`\n",
    "    - `$ export PHANTOM_JS=\"phantomjs-1.9.8-linux-x86_64\"`\n",
    "    - `$ wget https://bitbucket.org/ariya/phantomjs/downloads/$PHANTOM_JS.tar.bz2`\n",
    "    - `$ sudo tar xvjf $PHANTOM_JS.tar.bz2`\n",
    "\n",
    "    - `$ sudo mv $PHANTOM_JS /usr/local/share`\n",
    "    - `$ sudo ln -sf /usr/local/share/$PHANTOM_JS/bin/phantomjs /usr/local/bin`\n",
    "\n",
    "    - `$ phantomjs --version`\n",
    "\n",
    "- reference \n",
    "    - https://gist.github.com/julionc/7476620"
   ]
  },
  {
   "cell_type": "code",
   "execution_count": 1,
   "metadata": {},
   "outputs": [
    {
     "data": {
      "text/plain": [
       "<selenium.webdriver.phantomjs.webdriver.WebDriver (session=\"22da6680-2049-11e8-ac1c-25ba91590054\")>"
      ]
     },
     "execution_count": 1,
     "metadata": {},
     "output_type": "execute_result"
    }
   ],
   "source": [
    "from selenium import webdriver\n",
    "driver = webdriver.PhantomJS()\n",
    "driver"
   ]
  },
  {
   "cell_type": "code",
   "execution_count": 3,
   "metadata": {},
   "outputs": [
    {
     "data": {
      "text/plain": [
       "[\"빅데이터는 4차 산업혁명의 열쇠..'재식별화' 규제로 가자\",\n",
       " \"KT VR 테마파크 '브라이트' 체험해보니…\",\n",
       " \"시속150㎞ 썰매 올라탄 듯…'5G' 만나면 나도 윤성빈\",\n",
       " '[이슈] 닌텐도 스위치에 리눅스 설치 성공…해킹 가능성↑',\n",
       " '송희경 의원 \"비식별조치 가이드라인이 기업 혼란 가중\"',\n",
       " '\"걸리면 끝나는 랜섬웨어…사전방어 만이 답\"',\n",
       " '애플 아이폰, 중국산 가성비에 밀려 아시아시장서 진땀',\n",
       " \"'빙판 위 체스' 컬링, 하이테크 거부하는 이유는\",\n",
       " '\"불속서도 배터리 폭발 안해요\"',\n",
       " '아리랑 위성 영상, 인도·필리핀에 수출',\n",
       " \"인정사정 없는 채굴형 악성코드 '기승'\",\n",
       " '[미리보는 MWC2018]〈3〉최신 모바일 트렌드 한눈에',\n",
       " '아빠 아이폰X 아들 얼굴에 뚫렸다',\n",
       " \"과제 산적한 과기혁신본부…'교통정리' 조정관 절실\",\n",
       " \"올해 인도 스마트폰 지도 바뀌나..삼성 vs. 샤오미 '격돌'\",\n",
       " '[이슈분석]3차원 얼굴인식은 무엇',\n",
       " '[2018평창] \"5G 기술 들어갑니다.. 평창이 더 짜릿해집니다\"',\n",
       " '네이버-카카오, 같은 듯 다른 광폭 투자 행보',\n",
       " '[팩트체크]개인정보 비식별조치, 안전할까요',\n",
       " '통신비 정책협의회 최종회의 22일 개최…105일 활동종료(종합)']"
      ]
     },
     "execution_count": 3,
     "metadata": {},
     "output_type": "execute_result"
    }
   ],
   "source": [
    "article_list = []\n",
    "\n",
    "def get_article(page):\n",
    "    \n",
    "    driver =  webdriver.PhantomJS()\n",
    "    \n",
    "    driver.get(\"http://news.naver.com/main/main.nhn?mode=LSD&mid =shm&sid1=105#&date=2018-02-20 00:00:00&page=\" + str(page))\n",
    "\n",
    "    articles = driver.find_elements_by_css_selector('#section_body li')\n",
    "    \n",
    "    for article in articles:\n",
    "        title = article.find_element_by_css_selector('dt:not(.photo) > a').text\n",
    "        article_list.append(title)\n",
    "        \n",
    "    driver.close()\n",
    "    \n",
    "get_article(2)\n",
    "\n",
    "article_list"
   ]
  },
  {
   "cell_type": "code",
   "execution_count": null,
   "metadata": {},
   "outputs": [],
   "source": []
  }
 ],
 "metadata": {
  "kernelspec": {
   "display_name": "Python 3",
   "language": "python",
   "name": "python3"
  },
  "language_info": {
   "codemirror_mode": {
    "name": "ipython",
    "version": 3
   },
   "file_extension": ".py",
   "mimetype": "text/x-python",
   "name": "python",
   "nbconvert_exporter": "python",
   "pygments_lexer": "ipython3",
   "version": "3.6.4"
  }
 },
 "nbformat": 4,
 "nbformat_minor": 2
}
