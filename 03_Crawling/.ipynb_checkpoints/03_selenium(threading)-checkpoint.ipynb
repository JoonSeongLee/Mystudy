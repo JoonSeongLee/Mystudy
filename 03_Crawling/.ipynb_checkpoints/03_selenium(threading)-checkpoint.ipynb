{
 "cells": [
  {
   "cell_type": "code",
   "execution_count": 1,
   "metadata": {},
   "outputs": [],
   "source": [
    "from selenium import webdriver"
   ]
  },
  {
   "cell_type": "code",
   "execution_count": 10,
   "metadata": {},
   "outputs": [],
   "source": [
    "article_list = []\n",
    "def get_article(page):\n",
    "    \n",
    "    driver =  webdriver.Chrome()\n",
    "    \n",
    "    driver.get(\"http://news.naver.com/main/main.nhn?mode=LSD&mid =shm&sid1=105#&date=2018-02-20 00:00:00&page=\" + str(page))\n",
    "\n",
    "    articles = driver.find_elements_by_css_selector('#section_body li')\n",
    "    \n",
    "    for article in articles:\n",
    "        title = article.find_element_by_css_selector('dt:not(.photo) > a').text\n",
    "        article_list.append(title)\n",
    "    driver.close()\n",
    "    return article_list    \n",
    "    "
   ]
  },
  {
   "cell_type": "code",
   "execution_count": 12,
   "metadata": {},
   "outputs": [
    {
     "name": "stdout",
     "output_type": "stream",
     "text": [
      "CPU times: user 195 ms, sys: 58.1 ms, total: 253 ms\n",
      "Wall time: 37.2 s\n"
     ]
    }
   ],
   "source": [
    "%%time\n",
    "for page in range(1,9):\n",
    "    get_article(page)"
   ]
  },
  {
   "cell_type": "code",
   "execution_count": 6,
   "metadata": {},
   "outputs": [
    {
     "name": "stdout",
     "output_type": "stream",
     "text": [
      "CPU times: user 11.8 ms, sys: 32.3 ms, total: 44.1 ms\n",
      "Wall time: 69.8 ms\n"
     ]
    }
   ],
   "source": [
    "%%time\n",
    "import threading\n",
    "\n",
    "for page in range(1,9):\n",
    "    th = threading.Thread(target=get_article, args=(page,))\n",
    "    th.start()\n"
   ]
  }
 ],
 "metadata": {
  "kernelspec": {
   "display_name": "Python 3",
   "language": "python",
   "name": "python3"
  },
  "language_info": {
   "codemirror_mode": {
    "name": "ipython",
    "version": 3
   },
   "file_extension": ".py",
   "mimetype": "text/x-python",
   "name": "python",
   "nbconvert_exporter": "python",
   "pygments_lexer": "ipython3",
   "version": "3.6.4"
  }
 },
 "nbformat": 4,
 "nbformat_minor": 2
}
